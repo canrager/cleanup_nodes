{
 "cells": [
  {
   "cell_type": "code",
   "execution_count": 2,
   "metadata": {},
   "outputs": [],
   "source": [
    "# %% Import modules\n",
    "import torch\n",
    "torch.set_grad_enabled(False)\n",
    "device = torch.device('cpu') #'cuda' if torch.cuda.is_available() else \n",
    "\n",
    "import plotly.express as px\n",
    "import pandas as pd\n",
    "import numpy as np\n",
    "import einops\n",
    "import importlib\n",
    "import sys\n",
    "\n",
    "from transformer_lens import HookedTransformer\n",
    "from transformer_lens.utils import get_act_name\n",
    "\n",
    "from torch import Tensor\n",
    "from jaxtyping import Float, Int, Bool\n",
    "from typing import List, Callable, Optional\n",
    "\n",
    "from plotting import (\n",
    "    single_head_full_resid_projection,\n",
    "    ntensor_to_long,\n",
    "    line_with_river\n",
    ")\n",
    "from load_data import (\n",
    "    get_prompts_t,\n",
    "    get_token_counts\n",
    ")\n",
    "from utils import (\n",
    "    projection,\n",
    "    cos_similarity\n",
    ")"
   ]
  },
  {
   "cell_type": "code",
   "execution_count": 3,
   "metadata": {},
   "outputs": [
    {
     "name": "stdout",
     "output_type": "stream",
     "text": [
      "Loaded pretrained model gelu-4l into HookedTransformer\n",
      "Moving model to device:  cpu\n",
      "Loading 80 prompts from c4-tokenized-2b...\n"
     ]
    },
    {
     "data": {
      "application/vnd.jupyter.widget-view+json": {
       "model_id": "b799076324004c1ca9e956fe2247418d",
       "version_major": 2,
       "version_minor": 0
      },
      "text/plain": [
       "  0%|          | 0/80 [00:00<?, ?it/s]"
      ]
     },
     "metadata": {},
     "output_type": "display_data"
    },
    {
     "name": "stdout",
     "output_type": "stream",
     "text": [
      "Loading 20 prompts from code-tokenized...\n"
     ]
    },
    {
     "data": {
      "application/vnd.jupyter.widget-view+json": {
       "model_id": "d6477e212f7e4b1c844bf4005decdf8b",
       "version_major": 2,
       "version_minor": 0
      },
      "text/plain": [
       "  0%|          | 0/20 [00:00<?, ?it/s]"
      ]
     },
     "metadata": {},
     "output_type": "display_data"
    }
   ],
   "source": [
    "#%% Setup model & load data\n",
    "model = HookedTransformer.from_pretrained('gelu-4l')\n",
    "model.cfg.use_attn_result = True\n",
    "model.to(device)\n",
    "\n",
    "prompts_t = get_prompts_t()"
   ]
  },
  {
   "cell_type": "code",
   "execution_count": null,
   "metadata": {},
   "outputs": [],
   "source": [
    "text = \"It's in the shelf, either on the top or the\"\n",
    "\n",
    "logits, cache = model.run_with_cache(text)\n",
    "logits: Float[Tensor, \"batch dvocab\"] = logits[:, -1, :]\n",
    "\n"
   ]
  }
 ],
 "metadata": {
  "kernelspec": {
   "display_name": "Python 3",
   "language": "python",
   "name": "python3"
  },
  "language_info": {
   "codemirror_mode": {
    "name": "ipython",
    "version": 3
   },
   "file_extension": ".py",
   "mimetype": "text/x-python",
   "name": "python",
   "nbconvert_exporter": "python",
   "pygments_lexer": "ipython3",
   "version": "3.8.10"
  },
  "orig_nbformat": 4
 },
 "nbformat": 4,
 "nbformat_minor": 2
}
