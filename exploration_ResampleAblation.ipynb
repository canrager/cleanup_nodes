{
 "cells": [
  {
   "cell_type": "code",
   "execution_count": 29,
   "metadata": {},
   "outputs": [],
   "source": [
    "# %% Import modules\n",
    "import torch\n",
    "torch.set_grad_enabled(False)\n",
    "device = torch.device('cpu') #'cuda' if torch.cuda.is_available() else \n",
    "\n",
    "import plotly.express as px\n",
    "import pandas as pd\n",
    "import numpy as np\n",
    "import einops\n",
    "import importlib\n",
    "import sys\n",
    "from torch import Tensor\n",
    "from jaxtyping import Float, Int, Bool\n",
    "from typing import Callable, Optional\n",
    "from functools import partial\n",
    "\n",
    "from transformer_lens import HookedTransformer, ActivationCache\n",
    "from transformer_lens.utils import get_act_name, test_prompt\n",
    "import plotly.graph_objects as go\n",
    "\n",
    "import seaborn as sns\n",
    "from matplotlib import pyplot as plt\n",
    "sns.set() # Setting seaborn as default style even if use only matplotlib\n",
    "\n",
    "from plotting import (\n",
    "    single_head_full_resid_projection,\n",
    "    ntensor_to_long,\n",
    "    line_with_river\n",
    ")\n",
    "from load_data import (\n",
    "    get_prompts_t,\n",
    "    get_token_counts,\n",
    ")\n",
    "from utils import (\n",
    "    projection,\n",
    "    cos_similarity,\n",
    "    reinforcement_ratio\n",
    ")\n",
    "\n"
   ]
  },
  {
   "cell_type": "code",
   "execution_count": 82,
   "metadata": {},
   "outputs": [
    {
     "name": "stdout",
     "output_type": "stream",
     "text": [
      "Loaded pretrained model gelu-4l into HookedTransformer\n",
      "Moving model to device:  cpu\n",
      "Loading 800 prompts from c4-tokenized-2b...\n"
     ]
    },
    {
     "name": "stderr",
     "output_type": "stream",
     "text": [
      "100%|██████████| 800/800 [00:03<00:00, 228.23it/s]\n"
     ]
    },
    {
     "name": "stdout",
     "output_type": "stream",
     "text": [
      "Loading 200 prompts from code-tokenized...\n"
     ]
    },
    {
     "name": "stderr",
     "output_type": "stream",
     "text": [
      "100%|██████████| 200/200 [00:02<00:00, 83.61it/s] \n"
     ]
    }
   ],
   "source": [
    "#%% Setup model & load data\n",
    "model = HookedTransformer.from_pretrained('gelu-4l')\n",
    "model.cfg.use_attn_result = True\n",
    "model.to(device)\n",
    "\n",
    "n_total_prompts = 1000\n",
    "n_c4_total_prompts = int(0.8 * n_total_prompts)\n",
    "n_code_total_prompts = n_total_prompts - n_c4_total_prompts\n",
    "\n",
    "prompts_t = get_prompts_t(n_text_prompts=n_c4_total_prompts, n_code_prompts=n_code_total_prompts)"
   ]
  },
  {
   "cell_type": "code",
   "execution_count": 5,
   "metadata": {},
   "outputs": [
    {
     "data": {
      "text/plain": [
       "'blocks.0.attn.hook_result'"
      ]
     },
     "execution_count": 5,
     "metadata": {},
     "output_type": "execute_result"
    }
   ],
   "source": [
    "get_act_name('result', 0)"
   ]
  },
  {
   "cell_type": "code",
   "execution_count": 26,
   "metadata": {},
   "outputs": [],
   "source": [
    "def resample_ablation(activation, hook, head):\n",
    "    \"\"\"activation: (batch, pos, head, dmodel)\"\"\"\n",
    "    tmp = activation[0, :, head, :].clone()\n",
    "    activation[:-1, :, head, :] = activation[1:, :, head, :]\n",
    "    activation[-1, :, head, :] = tmp\n",
    "\n",
    "\n",
    "    # activation[:, :, head, :] = torch.zeros_like(activation[:, :, head, :])\n",
    "\n",
    "    return activation\n",
    "\n"
   ]
  },
  {
   "cell_type": "code",
   "execution_count": 27,
   "metadata": {},
   "outputs": [],
   "source": [
    "original_loss = model(prompts_t[:2, :], return_type=\"loss\")\n",
    "\n",
    "ablated_loss_diff_matrix = torch.zeros((model.cfg.n_layers, model.cfg.n_heads))\n",
    "\n",
    "for layer in range(model.cfg.n_layers):\n",
    "    for head in range(model.cfg.n_heads):\n",
    "        ablated_loss = model.run_with_hooks(\n",
    "            prompts_t[:2], \n",
    "            return_type=\"loss\", \n",
    "            fwd_hooks=[(get_act_name('result', layer), partial(resample_ablation, head=head))]\n",
    "        )\n",
    "        ablated_loss_diff_matrix[layer, head] = ablated_loss - original_loss\n"
   ]
  },
  {
   "cell_type": "code",
   "execution_count": 25,
   "metadata": {},
   "outputs": [
    {
     "data": {
      "application/vnd.plotly.v1+json": {
       "config": {
        "plotlyServerURL": "https://plot.ly"
       },
       "data": [
        {
         "coloraxis": "coloraxis",
         "hovertemplate": "x: %{x}<br>y: %{y}<br>color: %{z}<extra></extra>",
         "name": "0",
         "type": "heatmap",
         "xaxis": "x",
         "yaxis": "y",
         "z": [
          [
           0.07823729515075684,
           -0.23711776733398438,
           2.789592981338501,
           -0.23299050331115723,
           0.5667095184326172,
           0.5121281147003174,
           -0.12957334518432617,
           2.5519111156463623
          ],
          [
           -0.17733502388000488,
           -0.23160767555236816,
           -0.22255325317382812,
           -0.22994089126586914,
           -0.1934831142425537,
           -0.23250842094421387,
           -0.21546435356140137,
           -0.2511570453643799
          ],
          [
           -0.25272250175476074,
           -0.2241349220275879,
           -0.06090426445007324,
           -0.21134281158447266,
           -0.1940610408782959,
           -0.19756555557250977,
           -0.19494891166687012,
           -0.2330780029296875
          ],
          [
           -0.213944673538208,
           -0.247694730758667,
           -0.22467494010925293,
           -0.08867263793945312,
           -0.21909880638122559,
           -0.2248399257659912,
           -0.22826313972473145,
           -0.2436056137084961
          ]
         ]
        }
       ],
       "layout": {
        "coloraxis": {
         "cmid": 0,
         "colorscale": [
          [
           0,
           "rgb(103,0,31)"
          ],
          [
           0.1,
           "rgb(178,24,43)"
          ],
          [
           0.2,
           "rgb(214,96,77)"
          ],
          [
           0.3,
           "rgb(244,165,130)"
          ],
          [
           0.4,
           "rgb(253,219,199)"
          ],
          [
           0.5,
           "rgb(247,247,247)"
          ],
          [
           0.6,
           "rgb(209,229,240)"
          ],
          [
           0.7,
           "rgb(146,197,222)"
          ],
          [
           0.8,
           "rgb(67,147,195)"
          ],
          [
           0.9,
           "rgb(33,102,172)"
          ],
          [
           1,
           "rgb(5,48,97)"
          ]
         ]
        },
        "margin": {
         "t": 60
        },
        "template": {
         "data": {
          "bar": [
           {
            "error_x": {
             "color": "#2a3f5f"
            },
            "error_y": {
             "color": "#2a3f5f"
            },
            "marker": {
             "line": {
              "color": "#E5ECF6",
              "width": 0.5
             },
             "pattern": {
              "fillmode": "overlay",
              "size": 10,
              "solidity": 0.2
             }
            },
            "type": "bar"
           }
          ],
          "barpolar": [
           {
            "marker": {
             "line": {
              "color": "#E5ECF6",
              "width": 0.5
             },
             "pattern": {
              "fillmode": "overlay",
              "size": 10,
              "solidity": 0.2
             }
            },
            "type": "barpolar"
           }
          ],
          "carpet": [
           {
            "aaxis": {
             "endlinecolor": "#2a3f5f",
             "gridcolor": "white",
             "linecolor": "white",
             "minorgridcolor": "white",
             "startlinecolor": "#2a3f5f"
            },
            "baxis": {
             "endlinecolor": "#2a3f5f",
             "gridcolor": "white",
             "linecolor": "white",
             "minorgridcolor": "white",
             "startlinecolor": "#2a3f5f"
            },
            "type": "carpet"
           }
          ],
          "choropleth": [
           {
            "colorbar": {
             "outlinewidth": 0,
             "ticks": ""
            },
            "type": "choropleth"
           }
          ],
          "contour": [
           {
            "colorbar": {
             "outlinewidth": 0,
             "ticks": ""
            },
            "colorscale": [
             [
              0,
              "#0d0887"
             ],
             [
              0.1111111111111111,
              "#46039f"
             ],
             [
              0.2222222222222222,
              "#7201a8"
             ],
             [
              0.3333333333333333,
              "#9c179e"
             ],
             [
              0.4444444444444444,
              "#bd3786"
             ],
             [
              0.5555555555555556,
              "#d8576b"
             ],
             [
              0.6666666666666666,
              "#ed7953"
             ],
             [
              0.7777777777777778,
              "#fb9f3a"
             ],
             [
              0.8888888888888888,
              "#fdca26"
             ],
             [
              1,
              "#f0f921"
             ]
            ],
            "type": "contour"
           }
          ],
          "contourcarpet": [
           {
            "colorbar": {
             "outlinewidth": 0,
             "ticks": ""
            },
            "type": "contourcarpet"
           }
          ],
          "heatmap": [
           {
            "colorbar": {
             "outlinewidth": 0,
             "ticks": ""
            },
            "colorscale": [
             [
              0,
              "#0d0887"
             ],
             [
              0.1111111111111111,
              "#46039f"
             ],
             [
              0.2222222222222222,
              "#7201a8"
             ],
             [
              0.3333333333333333,
              "#9c179e"
             ],
             [
              0.4444444444444444,
              "#bd3786"
             ],
             [
              0.5555555555555556,
              "#d8576b"
             ],
             [
              0.6666666666666666,
              "#ed7953"
             ],
             [
              0.7777777777777778,
              "#fb9f3a"
             ],
             [
              0.8888888888888888,
              "#fdca26"
             ],
             [
              1,
              "#f0f921"
             ]
            ],
            "type": "heatmap"
           }
          ],
          "heatmapgl": [
           {
            "colorbar": {
             "outlinewidth": 0,
             "ticks": ""
            },
            "colorscale": [
             [
              0,
              "#0d0887"
             ],
             [
              0.1111111111111111,
              "#46039f"
             ],
             [
              0.2222222222222222,
              "#7201a8"
             ],
             [
              0.3333333333333333,
              "#9c179e"
             ],
             [
              0.4444444444444444,
              "#bd3786"
             ],
             [
              0.5555555555555556,
              "#d8576b"
             ],
             [
              0.6666666666666666,
              "#ed7953"
             ],
             [
              0.7777777777777778,
              "#fb9f3a"
             ],
             [
              0.8888888888888888,
              "#fdca26"
             ],
             [
              1,
              "#f0f921"
             ]
            ],
            "type": "heatmapgl"
           }
          ],
          "histogram": [
           {
            "marker": {
             "pattern": {
              "fillmode": "overlay",
              "size": 10,
              "solidity": 0.2
             }
            },
            "type": "histogram"
           }
          ],
          "histogram2d": [
           {
            "colorbar": {
             "outlinewidth": 0,
             "ticks": ""
            },
            "colorscale": [
             [
              0,
              "#0d0887"
             ],
             [
              0.1111111111111111,
              "#46039f"
             ],
             [
              0.2222222222222222,
              "#7201a8"
             ],
             [
              0.3333333333333333,
              "#9c179e"
             ],
             [
              0.4444444444444444,
              "#bd3786"
             ],
             [
              0.5555555555555556,
              "#d8576b"
             ],
             [
              0.6666666666666666,
              "#ed7953"
             ],
             [
              0.7777777777777778,
              "#fb9f3a"
             ],
             [
              0.8888888888888888,
              "#fdca26"
             ],
             [
              1,
              "#f0f921"
             ]
            ],
            "type": "histogram2d"
           }
          ],
          "histogram2dcontour": [
           {
            "colorbar": {
             "outlinewidth": 0,
             "ticks": ""
            },
            "colorscale": [
             [
              0,
              "#0d0887"
             ],
             [
              0.1111111111111111,
              "#46039f"
             ],
             [
              0.2222222222222222,
              "#7201a8"
             ],
             [
              0.3333333333333333,
              "#9c179e"
             ],
             [
              0.4444444444444444,
              "#bd3786"
             ],
             [
              0.5555555555555556,
              "#d8576b"
             ],
             [
              0.6666666666666666,
              "#ed7953"
             ],
             [
              0.7777777777777778,
              "#fb9f3a"
             ],
             [
              0.8888888888888888,
              "#fdca26"
             ],
             [
              1,
              "#f0f921"
             ]
            ],
            "type": "histogram2dcontour"
           }
          ],
          "mesh3d": [
           {
            "colorbar": {
             "outlinewidth": 0,
             "ticks": ""
            },
            "type": "mesh3d"
           }
          ],
          "parcoords": [
           {
            "line": {
             "colorbar": {
              "outlinewidth": 0,
              "ticks": ""
             }
            },
            "type": "parcoords"
           }
          ],
          "pie": [
           {
            "automargin": true,
            "type": "pie"
           }
          ],
          "scatter": [
           {
            "fillpattern": {
             "fillmode": "overlay",
             "size": 10,
             "solidity": 0.2
            },
            "type": "scatter"
           }
          ],
          "scatter3d": [
           {
            "line": {
             "colorbar": {
              "outlinewidth": 0,
              "ticks": ""
             }
            },
            "marker": {
             "colorbar": {
              "outlinewidth": 0,
              "ticks": ""
             }
            },
            "type": "scatter3d"
           }
          ],
          "scattercarpet": [
           {
            "marker": {
             "colorbar": {
              "outlinewidth": 0,
              "ticks": ""
             }
            },
            "type": "scattercarpet"
           }
          ],
          "scattergeo": [
           {
            "marker": {
             "colorbar": {
              "outlinewidth": 0,
              "ticks": ""
             }
            },
            "type": "scattergeo"
           }
          ],
          "scattergl": [
           {
            "marker": {
             "colorbar": {
              "outlinewidth": 0,
              "ticks": ""
             }
            },
            "type": "scattergl"
           }
          ],
          "scattermapbox": [
           {
            "marker": {
             "colorbar": {
              "outlinewidth": 0,
              "ticks": ""
             }
            },
            "type": "scattermapbox"
           }
          ],
          "scatterpolar": [
           {
            "marker": {
             "colorbar": {
              "outlinewidth": 0,
              "ticks": ""
             }
            },
            "type": "scatterpolar"
           }
          ],
          "scatterpolargl": [
           {
            "marker": {
             "colorbar": {
              "outlinewidth": 0,
              "ticks": ""
             }
            },
            "type": "scatterpolargl"
           }
          ],
          "scatterternary": [
           {
            "marker": {
             "colorbar": {
              "outlinewidth": 0,
              "ticks": ""
             }
            },
            "type": "scatterternary"
           }
          ],
          "surface": [
           {
            "colorbar": {
             "outlinewidth": 0,
             "ticks": ""
            },
            "colorscale": [
             [
              0,
              "#0d0887"
             ],
             [
              0.1111111111111111,
              "#46039f"
             ],
             [
              0.2222222222222222,
              "#7201a8"
             ],
             [
              0.3333333333333333,
              "#9c179e"
             ],
             [
              0.4444444444444444,
              "#bd3786"
             ],
             [
              0.5555555555555556,
              "#d8576b"
             ],
             [
              0.6666666666666666,
              "#ed7953"
             ],
             [
              0.7777777777777778,
              "#fb9f3a"
             ],
             [
              0.8888888888888888,
              "#fdca26"
             ],
             [
              1,
              "#f0f921"
             ]
            ],
            "type": "surface"
           }
          ],
          "table": [
           {
            "cells": {
             "fill": {
              "color": "#EBF0F8"
             },
             "line": {
              "color": "white"
             }
            },
            "header": {
             "fill": {
              "color": "#C8D4E3"
             },
             "line": {
              "color": "white"
             }
            },
            "type": "table"
           }
          ]
         },
         "layout": {
          "annotationdefaults": {
           "arrowcolor": "#2a3f5f",
           "arrowhead": 0,
           "arrowwidth": 1
          },
          "autotypenumbers": "strict",
          "coloraxis": {
           "colorbar": {
            "outlinewidth": 0,
            "ticks": ""
           }
          },
          "colorscale": {
           "diverging": [
            [
             0,
             "#8e0152"
            ],
            [
             0.1,
             "#c51b7d"
            ],
            [
             0.2,
             "#de77ae"
            ],
            [
             0.3,
             "#f1b6da"
            ],
            [
             0.4,
             "#fde0ef"
            ],
            [
             0.5,
             "#f7f7f7"
            ],
            [
             0.6,
             "#e6f5d0"
            ],
            [
             0.7,
             "#b8e186"
            ],
            [
             0.8,
             "#7fbc41"
            ],
            [
             0.9,
             "#4d9221"
            ],
            [
             1,
             "#276419"
            ]
           ],
           "sequential": [
            [
             0,
             "#0d0887"
            ],
            [
             0.1111111111111111,
             "#46039f"
            ],
            [
             0.2222222222222222,
             "#7201a8"
            ],
            [
             0.3333333333333333,
             "#9c179e"
            ],
            [
             0.4444444444444444,
             "#bd3786"
            ],
            [
             0.5555555555555556,
             "#d8576b"
            ],
            [
             0.6666666666666666,
             "#ed7953"
            ],
            [
             0.7777777777777778,
             "#fb9f3a"
            ],
            [
             0.8888888888888888,
             "#fdca26"
            ],
            [
             1,
             "#f0f921"
            ]
           ],
           "sequentialminus": [
            [
             0,
             "#0d0887"
            ],
            [
             0.1111111111111111,
             "#46039f"
            ],
            [
             0.2222222222222222,
             "#7201a8"
            ],
            [
             0.3333333333333333,
             "#9c179e"
            ],
            [
             0.4444444444444444,
             "#bd3786"
            ],
            [
             0.5555555555555556,
             "#d8576b"
            ],
            [
             0.6666666666666666,
             "#ed7953"
            ],
            [
             0.7777777777777778,
             "#fb9f3a"
            ],
            [
             0.8888888888888888,
             "#fdca26"
            ],
            [
             1,
             "#f0f921"
            ]
           ]
          },
          "colorway": [
           "#636efa",
           "#EF553B",
           "#00cc96",
           "#ab63fa",
           "#FFA15A",
           "#19d3f3",
           "#FF6692",
           "#B6E880",
           "#FF97FF",
           "#FECB52"
          ],
          "font": {
           "color": "#2a3f5f"
          },
          "geo": {
           "bgcolor": "white",
           "lakecolor": "white",
           "landcolor": "#E5ECF6",
           "showlakes": true,
           "showland": true,
           "subunitcolor": "white"
          },
          "hoverlabel": {
           "align": "left"
          },
          "hovermode": "closest",
          "mapbox": {
           "style": "light"
          },
          "paper_bgcolor": "white",
          "plot_bgcolor": "#E5ECF6",
          "polar": {
           "angularaxis": {
            "gridcolor": "white",
            "linecolor": "white",
            "ticks": ""
           },
           "bgcolor": "#E5ECF6",
           "radialaxis": {
            "gridcolor": "white",
            "linecolor": "white",
            "ticks": ""
           }
          },
          "scene": {
           "xaxis": {
            "backgroundcolor": "#E5ECF6",
            "gridcolor": "white",
            "gridwidth": 2,
            "linecolor": "white",
            "showbackground": true,
            "ticks": "",
            "zerolinecolor": "white"
           },
           "yaxis": {
            "backgroundcolor": "#E5ECF6",
            "gridcolor": "white",
            "gridwidth": 2,
            "linecolor": "white",
            "showbackground": true,
            "ticks": "",
            "zerolinecolor": "white"
           },
           "zaxis": {
            "backgroundcolor": "#E5ECF6",
            "gridcolor": "white",
            "gridwidth": 2,
            "linecolor": "white",
            "showbackground": true,
            "ticks": "",
            "zerolinecolor": "white"
           }
          },
          "shapedefaults": {
           "line": {
            "color": "#2a3f5f"
           }
          },
          "ternary": {
           "aaxis": {
            "gridcolor": "white",
            "linecolor": "white",
            "ticks": ""
           },
           "baxis": {
            "gridcolor": "white",
            "linecolor": "white",
            "ticks": ""
           },
           "bgcolor": "#E5ECF6",
           "caxis": {
            "gridcolor": "white",
            "linecolor": "white",
            "ticks": ""
           }
          },
          "title": {
           "x": 0.05
          },
          "xaxis": {
           "automargin": true,
           "gridcolor": "white",
           "linecolor": "white",
           "ticks": "",
           "title": {
            "standoff": 15
           },
           "zerolinecolor": "white",
           "zerolinewidth": 2
          },
          "yaxis": {
           "automargin": true,
           "gridcolor": "white",
           "linecolor": "white",
           "ticks": "",
           "title": {
            "standoff": 15
           },
           "zerolinecolor": "white",
           "zerolinewidth": 2
          }
         }
        },
        "xaxis": {
         "anchor": "y",
         "constrain": "domain",
         "domain": [
          0,
          1
         ],
         "scaleanchor": "y"
        },
        "yaxis": {
         "anchor": "x",
         "autorange": "reversed",
         "constrain": "domain",
         "domain": [
          0,
          1
         ]
        }
       }
      }
     },
     "metadata": {},
     "output_type": "display_data"
    }
   ],
   "source": [
    "px.imshow(ablated_loss_diff_matrix, color_continuous_midpoint=0, color_continuous_scale='RdBu')"
   ]
  },
  {
   "cell_type": "code",
   "execution_count": 28,
   "metadata": {},
   "outputs": [
    {
     "data": {
      "application/vnd.plotly.v1+json": {
       "config": {
        "plotlyServerURL": "https://plot.ly"
       },
       "data": [
        {
         "coloraxis": "coloraxis",
         "hovertemplate": "x: %{x}<br>y: %{y}<br>color: %{z}<extra></extra>",
         "name": "0",
         "type": "heatmap",
         "xaxis": "x",
         "yaxis": "y",
         "z": [
          [
           0.017713069915771484,
           -0.2385101318359375,
           -0.18917083740234375,
           -0.2673494815826416,
           -0.020479679107666016,
           0.4561619758605957,
           -0.1781444549560547,
           -0.11287522315979004
          ],
          [
           -0.08571386337280273,
           -0.1973402500152588,
           -0.20324444770812988,
           -0.2110888957977295,
           -0.1611497402191162,
           -0.24394917488098145,
           -0.1672496795654297,
           -0.24061036109924316
          ],
          [
           -0.23975348472595215,
           -0.20890498161315918,
           0.03102898597717285,
           -0.1938173770904541,
           -0.15267062187194824,
           -0.1703815460205078,
           -0.15291333198547363,
           -0.2062075138092041
          ],
          [
           -0.1312696933746338,
           -0.20424914360046387,
           -0.15022897720336914,
           -0.012628316879272461,
           -0.15718293190002441,
           -0.17501425743103027,
           -0.1995086669921875,
           -0.2006359100341797
          ]
         ]
        }
       ],
       "layout": {
        "coloraxis": {
         "cmid": 0,
         "colorscale": [
          [
           0,
           "rgb(103,0,31)"
          ],
          [
           0.1,
           "rgb(178,24,43)"
          ],
          [
           0.2,
           "rgb(214,96,77)"
          ],
          [
           0.3,
           "rgb(244,165,130)"
          ],
          [
           0.4,
           "rgb(253,219,199)"
          ],
          [
           0.5,
           "rgb(247,247,247)"
          ],
          [
           0.6,
           "rgb(209,229,240)"
          ],
          [
           0.7,
           "rgb(146,197,222)"
          ],
          [
           0.8,
           "rgb(67,147,195)"
          ],
          [
           0.9,
           "rgb(33,102,172)"
          ],
          [
           1,
           "rgb(5,48,97)"
          ]
         ]
        },
        "margin": {
         "t": 60
        },
        "template": {
         "data": {
          "bar": [
           {
            "error_x": {
             "color": "#2a3f5f"
            },
            "error_y": {
             "color": "#2a3f5f"
            },
            "marker": {
             "line": {
              "color": "#E5ECF6",
              "width": 0.5
             },
             "pattern": {
              "fillmode": "overlay",
              "size": 10,
              "solidity": 0.2
             }
            },
            "type": "bar"
           }
          ],
          "barpolar": [
           {
            "marker": {
             "line": {
              "color": "#E5ECF6",
              "width": 0.5
             },
             "pattern": {
              "fillmode": "overlay",
              "size": 10,
              "solidity": 0.2
             }
            },
            "type": "barpolar"
           }
          ],
          "carpet": [
           {
            "aaxis": {
             "endlinecolor": "#2a3f5f",
             "gridcolor": "white",
             "linecolor": "white",
             "minorgridcolor": "white",
             "startlinecolor": "#2a3f5f"
            },
            "baxis": {
             "endlinecolor": "#2a3f5f",
             "gridcolor": "white",
             "linecolor": "white",
             "minorgridcolor": "white",
             "startlinecolor": "#2a3f5f"
            },
            "type": "carpet"
           }
          ],
          "choropleth": [
           {
            "colorbar": {
             "outlinewidth": 0,
             "ticks": ""
            },
            "type": "choropleth"
           }
          ],
          "contour": [
           {
            "colorbar": {
             "outlinewidth": 0,
             "ticks": ""
            },
            "colorscale": [
             [
              0,
              "#0d0887"
             ],
             [
              0.1111111111111111,
              "#46039f"
             ],
             [
              0.2222222222222222,
              "#7201a8"
             ],
             [
              0.3333333333333333,
              "#9c179e"
             ],
             [
              0.4444444444444444,
              "#bd3786"
             ],
             [
              0.5555555555555556,
              "#d8576b"
             ],
             [
              0.6666666666666666,
              "#ed7953"
             ],
             [
              0.7777777777777778,
              "#fb9f3a"
             ],
             [
              0.8888888888888888,
              "#fdca26"
             ],
             [
              1,
              "#f0f921"
             ]
            ],
            "type": "contour"
           }
          ],
          "contourcarpet": [
           {
            "colorbar": {
             "outlinewidth": 0,
             "ticks": ""
            },
            "type": "contourcarpet"
           }
          ],
          "heatmap": [
           {
            "colorbar": {
             "outlinewidth": 0,
             "ticks": ""
            },
            "colorscale": [
             [
              0,
              "#0d0887"
             ],
             [
              0.1111111111111111,
              "#46039f"
             ],
             [
              0.2222222222222222,
              "#7201a8"
             ],
             [
              0.3333333333333333,
              "#9c179e"
             ],
             [
              0.4444444444444444,
              "#bd3786"
             ],
             [
              0.5555555555555556,
              "#d8576b"
             ],
             [
              0.6666666666666666,
              "#ed7953"
             ],
             [
              0.7777777777777778,
              "#fb9f3a"
             ],
             [
              0.8888888888888888,
              "#fdca26"
             ],
             [
              1,
              "#f0f921"
             ]
            ],
            "type": "heatmap"
           }
          ],
          "heatmapgl": [
           {
            "colorbar": {
             "outlinewidth": 0,
             "ticks": ""
            },
            "colorscale": [
             [
              0,
              "#0d0887"
             ],
             [
              0.1111111111111111,
              "#46039f"
             ],
             [
              0.2222222222222222,
              "#7201a8"
             ],
             [
              0.3333333333333333,
              "#9c179e"
             ],
             [
              0.4444444444444444,
              "#bd3786"
             ],
             [
              0.5555555555555556,
              "#d8576b"
             ],
             [
              0.6666666666666666,
              "#ed7953"
             ],
             [
              0.7777777777777778,
              "#fb9f3a"
             ],
             [
              0.8888888888888888,
              "#fdca26"
             ],
             [
              1,
              "#f0f921"
             ]
            ],
            "type": "heatmapgl"
           }
          ],
          "histogram": [
           {
            "marker": {
             "pattern": {
              "fillmode": "overlay",
              "size": 10,
              "solidity": 0.2
             }
            },
            "type": "histogram"
           }
          ],
          "histogram2d": [
           {
            "colorbar": {
             "outlinewidth": 0,
             "ticks": ""
            },
            "colorscale": [
             [
              0,
              "#0d0887"
             ],
             [
              0.1111111111111111,
              "#46039f"
             ],
             [
              0.2222222222222222,
              "#7201a8"
             ],
             [
              0.3333333333333333,
              "#9c179e"
             ],
             [
              0.4444444444444444,
              "#bd3786"
             ],
             [
              0.5555555555555556,
              "#d8576b"
             ],
             [
              0.6666666666666666,
              "#ed7953"
             ],
             [
              0.7777777777777778,
              "#fb9f3a"
             ],
             [
              0.8888888888888888,
              "#fdca26"
             ],
             [
              1,
              "#f0f921"
             ]
            ],
            "type": "histogram2d"
           }
          ],
          "histogram2dcontour": [
           {
            "colorbar": {
             "outlinewidth": 0,
             "ticks": ""
            },
            "colorscale": [
             [
              0,
              "#0d0887"
             ],
             [
              0.1111111111111111,
              "#46039f"
             ],
             [
              0.2222222222222222,
              "#7201a8"
             ],
             [
              0.3333333333333333,
              "#9c179e"
             ],
             [
              0.4444444444444444,
              "#bd3786"
             ],
             [
              0.5555555555555556,
              "#d8576b"
             ],
             [
              0.6666666666666666,
              "#ed7953"
             ],
             [
              0.7777777777777778,
              "#fb9f3a"
             ],
             [
              0.8888888888888888,
              "#fdca26"
             ],
             [
              1,
              "#f0f921"
             ]
            ],
            "type": "histogram2dcontour"
           }
          ],
          "mesh3d": [
           {
            "colorbar": {
             "outlinewidth": 0,
             "ticks": ""
            },
            "type": "mesh3d"
           }
          ],
          "parcoords": [
           {
            "line": {
             "colorbar": {
              "outlinewidth": 0,
              "ticks": ""
             }
            },
            "type": "parcoords"
           }
          ],
          "pie": [
           {
            "automargin": true,
            "type": "pie"
           }
          ],
          "scatter": [
           {
            "fillpattern": {
             "fillmode": "overlay",
             "size": 10,
             "solidity": 0.2
            },
            "type": "scatter"
           }
          ],
          "scatter3d": [
           {
            "line": {
             "colorbar": {
              "outlinewidth": 0,
              "ticks": ""
             }
            },
            "marker": {
             "colorbar": {
              "outlinewidth": 0,
              "ticks": ""
             }
            },
            "type": "scatter3d"
           }
          ],
          "scattercarpet": [
           {
            "marker": {
             "colorbar": {
              "outlinewidth": 0,
              "ticks": ""
             }
            },
            "type": "scattercarpet"
           }
          ],
          "scattergeo": [
           {
            "marker": {
             "colorbar": {
              "outlinewidth": 0,
              "ticks": ""
             }
            },
            "type": "scattergeo"
           }
          ],
          "scattergl": [
           {
            "marker": {
             "colorbar": {
              "outlinewidth": 0,
              "ticks": ""
             }
            },
            "type": "scattergl"
           }
          ],
          "scattermapbox": [
           {
            "marker": {
             "colorbar": {
              "outlinewidth": 0,
              "ticks": ""
             }
            },
            "type": "scattermapbox"
           }
          ],
          "scatterpolar": [
           {
            "marker": {
             "colorbar": {
              "outlinewidth": 0,
              "ticks": ""
             }
            },
            "type": "scatterpolar"
           }
          ],
          "scatterpolargl": [
           {
            "marker": {
             "colorbar": {
              "outlinewidth": 0,
              "ticks": ""
             }
            },
            "type": "scatterpolargl"
           }
          ],
          "scatterternary": [
           {
            "marker": {
             "colorbar": {
              "outlinewidth": 0,
              "ticks": ""
             }
            },
            "type": "scatterternary"
           }
          ],
          "surface": [
           {
            "colorbar": {
             "outlinewidth": 0,
             "ticks": ""
            },
            "colorscale": [
             [
              0,
              "#0d0887"
             ],
             [
              0.1111111111111111,
              "#46039f"
             ],
             [
              0.2222222222222222,
              "#7201a8"
             ],
             [
              0.3333333333333333,
              "#9c179e"
             ],
             [
              0.4444444444444444,
              "#bd3786"
             ],
             [
              0.5555555555555556,
              "#d8576b"
             ],
             [
              0.6666666666666666,
              "#ed7953"
             ],
             [
              0.7777777777777778,
              "#fb9f3a"
             ],
             [
              0.8888888888888888,
              "#fdca26"
             ],
             [
              1,
              "#f0f921"
             ]
            ],
            "type": "surface"
           }
          ],
          "table": [
           {
            "cells": {
             "fill": {
              "color": "#EBF0F8"
             },
             "line": {
              "color": "white"
             }
            },
            "header": {
             "fill": {
              "color": "#C8D4E3"
             },
             "line": {
              "color": "white"
             }
            },
            "type": "table"
           }
          ]
         },
         "layout": {
          "annotationdefaults": {
           "arrowcolor": "#2a3f5f",
           "arrowhead": 0,
           "arrowwidth": 1
          },
          "autotypenumbers": "strict",
          "coloraxis": {
           "colorbar": {
            "outlinewidth": 0,
            "ticks": ""
           }
          },
          "colorscale": {
           "diverging": [
            [
             0,
             "#8e0152"
            ],
            [
             0.1,
             "#c51b7d"
            ],
            [
             0.2,
             "#de77ae"
            ],
            [
             0.3,
             "#f1b6da"
            ],
            [
             0.4,
             "#fde0ef"
            ],
            [
             0.5,
             "#f7f7f7"
            ],
            [
             0.6,
             "#e6f5d0"
            ],
            [
             0.7,
             "#b8e186"
            ],
            [
             0.8,
             "#7fbc41"
            ],
            [
             0.9,
             "#4d9221"
            ],
            [
             1,
             "#276419"
            ]
           ],
           "sequential": [
            [
             0,
             "#0d0887"
            ],
            [
             0.1111111111111111,
             "#46039f"
            ],
            [
             0.2222222222222222,
             "#7201a8"
            ],
            [
             0.3333333333333333,
             "#9c179e"
            ],
            [
             0.4444444444444444,
             "#bd3786"
            ],
            [
             0.5555555555555556,
             "#d8576b"
            ],
            [
             0.6666666666666666,
             "#ed7953"
            ],
            [
             0.7777777777777778,
             "#fb9f3a"
            ],
            [
             0.8888888888888888,
             "#fdca26"
            ],
            [
             1,
             "#f0f921"
            ]
           ],
           "sequentialminus": [
            [
             0,
             "#0d0887"
            ],
            [
             0.1111111111111111,
             "#46039f"
            ],
            [
             0.2222222222222222,
             "#7201a8"
            ],
            [
             0.3333333333333333,
             "#9c179e"
            ],
            [
             0.4444444444444444,
             "#bd3786"
            ],
            [
             0.5555555555555556,
             "#d8576b"
            ],
            [
             0.6666666666666666,
             "#ed7953"
            ],
            [
             0.7777777777777778,
             "#fb9f3a"
            ],
            [
             0.8888888888888888,
             "#fdca26"
            ],
            [
             1,
             "#f0f921"
            ]
           ]
          },
          "colorway": [
           "#636efa",
           "#EF553B",
           "#00cc96",
           "#ab63fa",
           "#FFA15A",
           "#19d3f3",
           "#FF6692",
           "#B6E880",
           "#FF97FF",
           "#FECB52"
          ],
          "font": {
           "color": "#2a3f5f"
          },
          "geo": {
           "bgcolor": "white",
           "lakecolor": "white",
           "landcolor": "#E5ECF6",
           "showlakes": true,
           "showland": true,
           "subunitcolor": "white"
          },
          "hoverlabel": {
           "align": "left"
          },
          "hovermode": "closest",
          "mapbox": {
           "style": "light"
          },
          "paper_bgcolor": "white",
          "plot_bgcolor": "#E5ECF6",
          "polar": {
           "angularaxis": {
            "gridcolor": "white",
            "linecolor": "white",
            "ticks": ""
           },
           "bgcolor": "#E5ECF6",
           "radialaxis": {
            "gridcolor": "white",
            "linecolor": "white",
            "ticks": ""
           }
          },
          "scene": {
           "xaxis": {
            "backgroundcolor": "#E5ECF6",
            "gridcolor": "white",
            "gridwidth": 2,
            "linecolor": "white",
            "showbackground": true,
            "ticks": "",
            "zerolinecolor": "white"
           },
           "yaxis": {
            "backgroundcolor": "#E5ECF6",
            "gridcolor": "white",
            "gridwidth": 2,
            "linecolor": "white",
            "showbackground": true,
            "ticks": "",
            "zerolinecolor": "white"
           },
           "zaxis": {
            "backgroundcolor": "#E5ECF6",
            "gridcolor": "white",
            "gridwidth": 2,
            "linecolor": "white",
            "showbackground": true,
            "ticks": "",
            "zerolinecolor": "white"
           }
          },
          "shapedefaults": {
           "line": {
            "color": "#2a3f5f"
           }
          },
          "ternary": {
           "aaxis": {
            "gridcolor": "white",
            "linecolor": "white",
            "ticks": ""
           },
           "baxis": {
            "gridcolor": "white",
            "linecolor": "white",
            "ticks": ""
           },
           "bgcolor": "#E5ECF6",
           "caxis": {
            "gridcolor": "white",
            "linecolor": "white",
            "ticks": ""
           }
          },
          "title": {
           "x": 0.05
          },
          "xaxis": {
           "automargin": true,
           "gridcolor": "white",
           "linecolor": "white",
           "ticks": "",
           "title": {
            "standoff": 15
           },
           "zerolinecolor": "white",
           "zerolinewidth": 2
          },
          "yaxis": {
           "automargin": true,
           "gridcolor": "white",
           "linecolor": "white",
           "ticks": "",
           "title": {
            "standoff": 15
           },
           "zerolinecolor": "white",
           "zerolinewidth": 2
          }
         }
        },
        "xaxis": {
         "anchor": "y",
         "constrain": "domain",
         "domain": [
          0,
          1
         ],
         "scaleanchor": "y"
        },
        "yaxis": {
         "anchor": "x",
         "autorange": "reversed",
         "constrain": "domain",
         "domain": [
          0,
          1
         ]
        }
       }
      }
     },
     "metadata": {},
     "output_type": "display_data"
    }
   ],
   "source": [
    "px.imshow(ablated_loss_diff_matrix, color_continuous_midpoint=0, color_continuous_scale='RdBu')"
   ]
  },
  {
   "attachments": {},
   "cell_type": "markdown",
   "metadata": {},
   "source": [
    "### Showing DLA is misleading by resampling ablation"
   ]
  },
  {
   "cell_type": "code",
   "execution_count": null,
   "metadata": {},
   "outputs": [],
   "source": [
    "ablated_results = []\n",
    "\n",
    "text = \"It's in the shelf, either on the top or the\"\n",
    "ori_tokens = model.to_tokens(text)\n",
    "\n",
    "n_prompts = 1000\n",
    "for random_prompt_idx in range(n_prompts):\n",
    "    # random_prompt_idx = 0\n",
    "    corrupted_tokens = prompts_t[random_prompt_idx:random_prompt_idx+1, :ori_tokens.shape[-1]]\n",
    "\n",
    "    # print(ori_tokens)\n",
    "    # print(corrupted_tokens)\n",
    "\n",
    "    # print(model.to_string(ori_tokens))\n",
    "    # print(model.to_string(corrupted_tokens))\n",
    "    # print()\n",
    "\n",
    "\n",
    "    # show original probability\n",
    "    original_logits = model(ori_tokens, return_type=\"logits\")\n",
    "    ori_prob, ori_token = torch.max(torch.softmax(original_logits[0, -1, :], dim=-1), dim=-1)\n",
    "    ori_prob, ori_token = ori_prob.item(), ori_token.item()\n",
    "    # print(f\"Original: max_prob: {max_prob}, max_token: {max_token}, token: '{model.to_string(max_token)}'\")\n",
    "\n",
    "    _, corrupted_activation = model.run_with_cache(corrupted_tokens)\n",
    "\n",
    "    def resample_ablation(activation, hook, corrupted_activation, head):\n",
    "        \"\"\"activation: (batch, pos, head, dmodel)\"\"\"\n",
    "        activation[:, -1, head, :] = corrupted_activation[hook.name][:, -1, head, :]\n",
    "        return activation\n",
    "\n",
    "    layer, head = 0, 2\n",
    "    ablated_logits = model.run_with_hooks(\n",
    "        ori_tokens,\n",
    "        return_type=\"logits\",\n",
    "        fwd_hooks=[(get_act_name('result', layer), partial(resample_ablation, corrupted_activation=corrupted_activation, head=head))]\n",
    "    )\n",
    "\n",
    "    # get the token with highest probability, get the probability as well\n",
    "    ablated_prob, ablated_token = torch.max(torch.softmax(ablated_logits[0, -1, :], dim=-1), dim=-1)\n",
    "    ablated_prob, ablated_token = ablated_prob.item(), ablated_token.item()\n",
    "    # print(model.to_string(ablated_token))\n",
    "    # print(f\"Ablated: max_prob: {max_prob}, max_token: {max_token}, token: '{model.to_string(max_token)}'\")\n",
    "\n",
    "\n",
    "    ablated_results.append(ablated_prob - ori_prob)\n",
    "\n",
    "    "
   ]
  },
  {
   "cell_type": "code",
   "execution_count": 99,
   "metadata": {},
   "outputs": [
    {
     "data": {
      "application/vnd.plotly.v1+json": {
       "config": {
        "plotlyServerURL": "https://plot.ly"
       },
       "data": [
        {
         "alignmentgroup": "True",
         "bingroup": "x",
         "hovertemplate": "variable=0<br>Pr(\" bottom\" | original) - Pr(\" bottom\" | ablated)=%{x}<br>count=%{y}<extra></extra>",
         "legendgroup": "0",
         "marker": {
          "color": "#636efa",
          "pattern": {
           "shape": ""
          }
         },
         "name": "0",
         "offsetgroup": "0",
         "orientation": "v",
         "showlegend": true,
         "type": "histogram",
         "x": [
          -0.0008606910705566406,
          -0.005095571279525757,
          -0.002819240093231201,
          0.002433598041534424,
          -0.028844773769378662,
          0.00992533564567566,
          -0.0036415159702301025,
          0.007564425468444824,
          -0.0005533397197723389,
          0.002787292003631592,
          0.0016928017139434814,
          0.013011187314987183,
          -0.00006935000419616699,
          0.009526610374450684,
          0.011048853397369385,
          -0.010683983564376831,
          -0.0074020326137542725,
          0.0005654394626617432,
          0.029324203729629517,
          0.021828055381774902,
          0.007081389427185059,
          -0.0013554692268371582,
          0.005407899618148804,
          0.0020952820777893066,
          0.004141658544540405,
          0.014069527387619019,
          -0.00816604495048523,
          0.012191057205200195,
          -0.01373949646949768,
          0.011028379201889038,
          0.03409022092819214,
          -0.0015307068824768066,
          0.008504241704940796,
          -0.0014379322528839111,
          -0.005039900541305542,
          -0.0008702874183654785,
          -0.002352416515350342,
          0.01006665825843811,
          0.010931015014648438,
          0.006933927536010742,
          -0.0019067823886871338,
          0.00803181529045105,
          0.011377096176147461,
          0.01227647066116333,
          0.0034027397632598877,
          -0.009255051612854004,
          0.0005037784576416016,
          0.007920950651168823,
          -0.001055002212524414,
          -0.00595429539680481,
          -0.004655241966247559,
          -0.0042954981327056885,
          0.00963398814201355,
          0.007883936166763306,
          -0.006582766771316528,
          0.0006937086582183838,
          -0.008281409740447998,
          -0.003037691116333008,
          -0.00030997395515441895,
          -0.00664597749710083,
          -0.000974506139755249,
          0.0035564005374908447,
          0.011273980140686035,
          0.003053516149520874,
          -0.009171217679977417,
          0.0025777816772460938,
          0.008158773183822632,
          0.011622637510299683,
          0.0011623501777648926,
          -0.006434708833694458,
          0.018994450569152832,
          0.004923015832901001,
          -0.0018834471702575684,
          0.00945734977722168,
          -0.0043717920780181885,
          0.018491387367248535,
          0.0030528604984283447,
          0.00037851929664611816,
          -0.0013807713985443115,
          0.0018728077411651611,
          0.007557481527328491,
          0.0024452507495880127,
          -0.0014382600784301758,
          -0.005041539669036865,
          -0.008104652166366577,
          -0.0024195313453674316,
          0.003992289304733276,
          0.007611632347106934,
          0.018537700176239014,
          0.006258070468902588,
          -0.0002548396587371826,
          -0.003236711025238037,
          0.013144642114639282,
          0.007816195487976074,
          0.01391071081161499,
          0.0015523433685302734,
          -0.001554638147354126,
          0.0022193193435668945,
          -0.0033264458179473877,
          0.0007053017616271973,
          0.0011612772941589355,
          -0.014106124639511108,
          -0.009162992238998413,
          0.0009586811065673828,
          -0.0016654729843139648,
          0.008712440729141235,
          0.0143660306930542,
          0.008215934038162231,
          0.002808302640914917,
          0.00574985146522522,
          0.01957601308822632,
          -0.0186137855052948,
          0.0014354288578033447,
          0.002560853958129883,
          0.0034341514110565186,
          -0.0023058950901031494,
          -0.0018868744373321533,
          0.002532482147216797,
          0.008859604597091675,
          -0.00874483585357666,
          -0.0013838708400726318,
          -0.0030078887939453125,
          0.014112919569015503,
          0.0013829469680786133,
          0.0006992220878601074,
          -0.006579607725143433,
          0.005650937557220459,
          -0.008303046226501465,
          0.0009270310401916504,
          0.000042766332626342773,
          -0.0011255145072937012,
          0.003584355115890503,
          0.007753461599349976,
          -0.002467036247253418,
          -0.005248695611953735,
          0.001156449317932129,
          0.0076201558113098145,
          0.01660659909248352,
          -0.007916480302810669,
          0.0057537853717803955,
          -0.00012820959091186523,
          -0.015138059854507446,
          0.02631893754005432,
          0.0026733875274658203,
          0.0026403963565826416,
          0.014763325452804565,
          0.005364269018173218,
          0.002436041831970215,
          0.0012769103050231934,
          0.009496420621871948,
          0.0073934197425842285,
          0.011440783739089966,
          -0.0007460415363311768,
          -0.005201786756515503,
          -0.0004946589469909668,
          -0.001045912504196167,
          0.010485947132110596,
          0.0038694143295288086,
          0.0002751648426055908,
          -0.012396514415740967,
          0.004032015800476074,
          0.005311727523803711,
          0.0010211765766143799,
          -0.0066130757331848145,
          0.013997465372085571,
          -0.004618853330612183,
          -0.0017038285732269287,
          0.0030981600284576416,
          0.035665273666381836,
          -0.0006748437881469727,
          0.000959932804107666,
          0.004711359739303589,
          0.0012824535369873047,
          -0.0022696852684020996,
          -0.0008450448513031006,
          -0.0025137662887573242,
          0.006427645683288574,
          0.0010628104209899902,
          0.029863744974136353,
          -0.0025170743465423584,
          0.0212535560131073,
          0.006797999143600464,
          0.004343688488006592,
          -0.00704193115234375,
          0.000276416540145874,
          0.0005301833152770996,
          0.011057496070861816,
          0.0017531216144561768,
          0.00027045607566833496,
          0.014343351125717163,
          0.0026137828826904297,
          0.006429851055145264,
          0.0072352588176727295,
          0.01840585470199585,
          -0.00019890069961547852,
          0.0024003684520721436,
          -0.0010548830032348633,
          0.007195562124252319,
          -0.016827881336212158,
          -0.0031082332134246826,
          -0.0035314857959747314,
          0.00879216194152832,
          0.00003898143768310547,
          0.004874497652053833,
          0.0008127093315124512,
          0.012450754642486572,
          -0.00035062432289123535,
          -0.002696096897125244,
          0.0027653872966766357,
          -0.008508116006851196,
          0.010493695735931396,
          -0.0016182959079742432,
          0.0011549890041351318,
          0.0032916367053985596,
          -0.0003667771816253662,
          0.0007600188255310059,
          0.005356103181838989,
          0.01377817988395691,
          0.0004617273807525635,
          -0.0010960698127746582,
          0.016370832920074463,
          -0.007964879274368286,
          -0.02123582363128662,
          -0.00024458765983581543,
          0.006877273321151733,
          0.009987980127334595,
          -0.0011470317840576172,
          0.009205222129821777,
          0.0070892274379730225,
          0.007139801979064941,
          0.000279158353805542,
          0.0002130270004272461,
          -0.0008070170879364014,
          0.00490039587020874,
          0.011084407567977905,
          0.0025712251663208008,
          0.007471144199371338,
          -0.003668159246444702,
          0.012210637331008911,
          -0.009312570095062256,
          0.003840208053588867,
          0.0022242069244384766,
          0.02789485454559326,
          0.010482221841812134,
          0.009056955575942993,
          -0.0003959834575653076,
          0.008488297462463379,
          -0.0072615742683410645,
          -0.004564791917800903,
          0.004896670579910278,
          -0.0006748437881469727,
          -0.00472673773765564,
          0.005403310060501099,
          0.004174351692199707,
          -0.0018216073513031006,
          0.0014636516571044922,
          -0.0025348663330078125,
          -0.006990551948547363,
          0.00024199485778808594,
          0.0010345876216888428,
          0.0018922090530395508,
          0.007442861795425415,
          0.0042803287506103516,
          0.012045443058013916,
          0.005103707313537598,
          0.003362894058227539,
          0.007474631071090698,
          0.005820423364639282,
          0.01308789849281311,
          -0.004497021436691284,
          -0.011084109544754028,
          0.0011245906352996826,
          -0.0015868544578552246,
          0.008292555809020996,
          0.00023761391639709473,
          -0.017093747854232788,
          0.007551759481430054,
          0.013965636491775513,
          0.000298917293548584,
          -0.0025283992290496826,
          0.0028127431869506836,
          -0.004323005676269531,
          0.0015904009342193604,
          0.02000737190246582,
          -0.004025489091873169,
          -0.0007695853710174561,
          0.00941842794418335,
          -0.007102608680725098,
          0.008347302675247192,
          0.0021930336952209473,
          0.009824395179748535,
          -0.0026381313800811768,
          0.0020312368869781494,
          0.000415116548538208,
          0.011566162109375,
          0.0020782947540283203,
          -0.0013034343719482422,
          -0.001319289207458496,
          -0.002872973680496216,
          -0.0007753372192382812,
          0.007887035608291626,
          0.000985264778137207,
          0.036642998456954956,
          -0.006310522556304932,
          0.003738313913345337,
          0.01370808482170105,
          -0.017513185739517212,
          -0.0016411840915679932,
          -0.005619347095489502,
          0.01265782117843628,
          -0.03505551815032959,
          -0.005892157554626465,
          -0.004750877618789673,
          0.017386674880981445,
          -0.006124407052993774,
          0.004409700632095337,
          0.004984349012374878,
          -0.0022762417793273926,
          -0.0032799243927001953,
          -0.002794027328491211,
          0.0008882880210876465,
          0.0006066560745239258,
          0.012576460838317871,
          0.0071173906326293945,
          0.020078927278518677,
          -0.0029195547103881836,
          0.0008002817630767822,
          -0.006272554397583008,
          0.0013356506824493408,
          -0.012149304151535034,
          0.001562565565109253,
          -0.004400730133056641,
          0.026365071535110474,
          -0.0006394684314727783,
          0.0038720369338989258,
          0.0054773688316345215,
          0.008072644472122192,
          -0.006461143493652344,
          0.01348075270652771,
          -0.002816498279571533,
          -0.0019231736660003662,
          -0.005727261304855347,
          0.00906062126159668,
          0.0006555914878845215,
          0.0000027120113372802734,
          -0.0013726353645324707,
          -0.009787678718566895,
          0.0028878450393676758,
          0.021784424781799316,
          -0.0005501806735992432,
          -0.0030256807804107666,
          -0.004712164402008057,
          0.0009675323963165283,
          -0.0011657178401947021,
          -0.0009191334247589111,
          0.00786849856376648,
          0.002501875162124634,
          0.0031910836696624756,
          -0.0019099712371826172,
          0.0023391544818878174,
          -0.0038247406482696533,
          0.035240620374679565,
          -0.002548903226852417,
          -0.007666409015655518,
          0.0067195892333984375,
          0.014651477336883545,
          -0.003980964422225952,
          -0.0024054348468780518,
          -0.0025172829627990723,
          0.01088520884513855,
          -0.0020035505294799805,
          -0.007774680852890015,
          -0.006472796201705933,
          0.019998401403427124,
          0.014227688312530518,
          0.0008064806461334229,
          -0.002767026424407959,
          0.013223081827163696,
          -0.0032332241535186768,
          0.0047557055950164795,
          -0.0012548267841339111,
          -0.00026607513427734375,
          0.004466444253921509,
          0.013232648372650146,
          0.01984533667564392,
          -0.00831177830696106,
          0.0018168985843658447,
          -0.0021026432514190674,
          -0.0012371540069580078,
          0.0071961283683776855,
          0.0036767423152923584,
          0.008638709783554077,
          0.004679679870605469,
          0.002698749303817749,
          0.016006559133529663,
          -0.000470966100692749,
          0.015780985355377197,
          0.0005148947238922119,
          0.0169675350189209,
          -0.0031651854515075684,
          0.013607025146484375,
          -0.0006566941738128662,
          0.022006601095199585,
          -0.0009449422359466553,
          -0.007659047842025757,
          0.002551734447479248,
          0.008970022201538086,
          0.009934961795806885,
          -0.006107360124588013,
          0.018131881952285767,
          0.000678718090057373,
          0.0028285980224609375,
          -0.008643507957458496,
          -0.0014966130256652832,
          0.0017277300357818604,
          0.009795308113098145,
          -0.0059506893157958984,
          0.015308111906051636,
          0.0064851343631744385,
          0.0031256377696990967,
          0.004809081554412842,
          0.02035662531852722,
          0.007179349660873413,
          -0.008379995822906494,
          -0.0001538693904876709,
          0.013764053583145142,
          -0.04043266177177429,
          -0.00020238757133483887,
          0.029020249843597412,
          -0.000894010066986084,
          0.002031087875366211,
          -0.007738441228866577,
          0.015861958265304565,
          0.007102936506271362,
          0.016523927450180054,
          0.003693610429763794,
          0.016812115907669067,
          -0.004244059324264526,
          -0.003790348768234253,
          0.005601048469543457,
          0.0072672367095947266,
          0.014831781387329102,
          0.0034579038619995117,
          0.005193531513214111,
          0.0008611381053924561,
          -0.005693882703781128,
          0.005425930023193359,
          -0.0020815134048461914,
          0.002360224723815918,
          -0.005768299102783203,
          0.02327096462249756,
          0.0051201581954956055,
          0.0037630200386047363,
          0.001818150281906128,
          -0.00692412257194519,
          -0.005238056182861328,
          -0.012053608894348145,
          -0.00134962797164917,
          0.0038929879665374756,
          0.00651898980140686,
          -0.014187008142471313,
          0.016444385051727295,
          -0.00032594799995422363,
          0.004801005125045776,
          -0.008246153593063354,
          0.011909246444702148,
          0.0015431642532348633,
          -0.004982680082321167,
          -0.0010175108909606934,
          0.01595732569694519,
          -0.0028752684593200684,
          0.015228301286697388,
          -0.01933184266090393,
          0.0070909857749938965,
          -0.0033194422721862793,
          0.027262866497039795,
          -0.0005833804607391357,
          -0.0020676851272583008,
          -0.0044974684715271,
          0.0095289945602417,
          0.000015288591384887695,
          0.0014462769031524658,
          -0.003093212842941284,
          0.000392913818359375,
          -0.010507762432098389,
          -0.0032489895820617676,
          -0.0064362287521362305,
          0.002927809953689575,
          0.011746346950531006,
          -0.002232879400253296,
          0.00232890248298645,
          0.0010001063346862793,
          0.003687739372253418,
          -0.0015068650245666504,
          -0.0007023215293884277,
          -0.008287370204925537,
          -0.007466346025466919,
          0.012441843748092651,
          -0.006535708904266357,
          0.01022273302078247,
          0.01011773943901062,
          -0.002076387405395508,
          0.0015411376953125,
          -0.007563352584838867,
          -0.012233078479766846,
          0.008210986852645874,
          -0.003818303346633911,
          0.0018549859523773193,
          -0.004316836595535278,
          0.0012662410736083984,
          0.0015076696872711182,
          0.015091866254806519,
          -0.01440119743347168,
          -0.0033936798572540283,
          0.03148820996284485,
          -0.0029249191284179688,
          -0.00020623207092285156,
          0.008430451154708862,
          -0.0025526881217956543,
          -0.019210636615753174,
          -0.009758085012435913,
          0.007650792598724365,
          0.0032147467136383057,
          0.0009188055992126465,
          0.0003999769687652588,
          -0.0032760798931121826,
          -0.0005474388599395752,
          0.004221111536026001,
          -0.0033858120441436768,
          0.010162442922592163,
          -0.006145387887954712,
          0.0068763792514801025,
          -0.013507068157196045,
          0.008312404155731201,
          -0.0004118978977203369,
          0.016578644514083862,
          0.0017714500427246094,
          0.013176411390304565,
          0.010880112648010254,
          0.004358768463134766,
          0.0015517771244049072,
          0.0008149147033691406,
          -0.01325458288192749,
          -0.0031332075595855713,
          0.015071392059326172,
          -0.0037573575973510742,
          0.0009059309959411621,
          0.003103405237197876,
          0.00228041410446167,
          0.014223307371139526,
          0.01887810230255127,
          -0.004881471395492554,
          -0.0005515515804290771,
          -0.004198849201202393,
          0.006974250078201294,
          -0.004378199577331543,
          0.003527611494064331,
          0.0011194050312042236,
          -0.0006684362888336182,
          0.0012119710445404053,
          -0.0038878917694091797,
          0.0024080872535705566,
          -0.011653214693069458,
          -0.0068843066692352295,
          -0.008839130401611328,
          0.001495957374572754,
          0.003298640251159668,
          0.004121005535125732,
          0.0018201470375061035,
          0.0015149414539337158,
          -0.005693674087524414,
          -0.0017934143543243408,
          -0.0017341077327728271,
          0.012872964143753052,
          0.008257061243057251,
          -0.001799166202545166,
          -0.0029363930225372314,
          -0.014051169157028198,
          0.022603392601013184,
          0.003162950277328491,
          0.0102158784866333,
          0.005758702754974365,
          -0.00021710991859436035,
          0.0009329020977020264,
          0.015796959400177002,
          -0.004359424114227295,
          -0.0027862191200256348,
          0.0008879303932189941,
          0.029810607433319092,
          0.0034471750259399414,
          -0.019284218549728394,
          -0.003969460725784302,
          -0.0027720630168914795,
          0.005820244550704956,
          -0.003690093755722046,
          -0.024610817432403564,
          0.004735887050628662,
          -0.003171563148498535,
          0.014116406440734863,
          0.01238560676574707,
          0.025292634963989258,
          0.0002098679542541504,
          0.023754537105560303,
          0.011221081018447876,
          0.0023158788681030273,
          -0.0022996366024017334,
          0.004004865884780884,
          0.001383453607559204,
          -0.011766552925109863,
          0.002005547285079956,
          0.01691332459449768,
          0.0027973949909210205,
          -0.003414243459701538,
          0.004895567893981934,
          -0.014750808477401733,
          0.0017853081226348877,
          0.01333153247833252,
          0.01185038685798645,
          -0.013036638498306274,
          -0.006086230278015137,
          0.003913611173629761,
          -0.006131857633590698,
          -0.004651159048080444,
          0.029946208000183105,
          -0.008246183395385742,
          -0.006583511829376221,
          -0.004715681076049805,
          0.00965145230293274,
          0.0024895668029785156,
          -0.004878252744674683,
          0.0005059242248535156,
          -0.0027456283569335938,
          0.002284497022628784,
          0.0006524324417114258,
          -0.00044608116149902344,
          -0.006668716669082642,
          0.00843086838722229,
          0.014621943235397339,
          0.002728015184402466,
          -0.000640571117401123,
          0.012655705213546753,
          0.0004653632640838623,
          -0.0015882551670074463,
          0.02139943838119507,
          0.00200730562210083,
          0.007930010557174683,
          -0.0009568631649017334,
          0.0006587505340576172,
          -0.010791689157485962,
          -0.006202191114425659,
          -0.004711449146270752,
          -0.0027703940868377686,
          -0.0011962652206420898,
          0.006302505731582642,
          -0.006817728281021118,
          -0.0019380450248718262,
          -0.0044938623905181885,
          0.005243092775344849,
          0.028646200895309448,
          0.000862807035446167,
          -0.0025106072425842285,
          -0.008481323719024658,
          -0.003532201051712036,
          -0.011160075664520264,
          -0.00558045506477356,
          0.012427300214767456,
          -0.005681395530700684,
          0.007470875978469849,
          -0.0005284547805786133,
          -0.0016931891441345215,
          0.006228506565093994,
          0.01903018355369568,
          -0.005039095878601074,
          -0.00587877631187439,
          0.016677141189575195,
          0.02241915464401245,
          0.006293386220932007,
          0.008262783288955688,
          -0.004303693771362305,
          0.005406558513641357,
          0.0042189061641693115,
          0.03029993176460266,
          0.014339298009872437,
          0.000024616718292236328,
          0.00296136736869812,
          -0.00032582879066467285,
          -0.00023680925369262695,
          0.0011351704597473145,
          -0.0012108683586120605,
          -0.0054208338260650635,
          -0.0049069225788116455,
          0.0032510459423065186,
          -0.004739165306091309,
          -0.000007927417755126953,
          -0.011168330907821655,
          -0.004974424839019775,
          0.0032466351985931396,
          0.00017842650413513184,
          0.003545045852661133,
          0.012306958436965942,
          -0.0102805495262146,
          -0.000050902366638183594,
          0.0092926025390625,
          0.0021265745162963867,
          0.0036980509757995605,
          0.023178458213806152,
          0.0019452869892120361,
          -0.0007905960083007812,
          0.007321566343307495,
          -0.0008924603462219238,
          0.0004471242427825928,
          -0.0034942328929901123,
          -0.0006781816482543945,
          -0.035740017890930176,
          -0.011680126190185547,
          0.0059242844581604,
          -0.007192015647888184,
          0.0013954341411590576,
          0.011404216289520264,
          -0.0016500651836395264,
          -0.011773467063903809,
          0.003052234649658203,
          0.005166292190551758,
          0.00044906139373779297,
          -0.00035303831100463867,
          0.0065257251262664795,
          -0.003102511167526245,
          0.00202333927154541,
          0.003447234630584717,
          -0.002986729145050049,
          0.022396594285964966,
          0.004118442535400391,
          -0.007198542356491089,
          -0.0016180872917175293,
          0.024466663599014282,
          0.0022111237049102783,
          -0.0000737905502319336,
          0.02411159873008728,
          -0.003295421600341797,
          -0.0027154386043548584,
          0.006819278001785278,
          0.02677738666534424,
          0.009092986583709717,
          0.006775885820388794,
          -0.00021731853485107422,
          0.010606318712234497,
          -0.003322392702102661,
          0.018516480922698975,
          0.00275576114654541,
          -0.006025642156600952,
          -0.0012716352939605713,
          -0.005222976207733154,
          0.009111851453781128,
          -0.0017928779125213623,
          0.011358290910720825,
          0.003450721502304077,
          0.005263835191726685,
          -0.007367134094238281,
          0.0006077885627746582,
          0.0062164366245269775,
          0.0006541907787322998,
          0.012227177619934082,
          -0.005403101444244385,
          0.004645228385925293,
          0.00009658932685852051,
          -0.00010022521018981934,
          0.00018990039825439453,
          0.0004826188087463379,
          0.00415375828742981,
          0.013248533010482788,
          0.0009076595306396484,
          -0.005126059055328369,
          0.0018786191940307617,
          0.001026451587677002,
          0.014520794153213501,
          -0.011003762483596802,
          0.021370768547058105,
          0.003456711769104004,
          -0.0007167160511016846,
          -0.0018602311611175537,
          0.006277114152908325,
          0.00008568167686462402,
          0.0029297471046447754,
          -0.009693503379821777,
          -0.007776468992233276,
          -0.004619628190994263,
          0.015317380428314209,
          -0.006808847188949585,
          0.0017567873001098633,
          -0.003017336130142212,
          0.015598982572555542,
          0.007288902997970581,
          0.016746997833251953,
          0.011976957321166992,
          0.006254076957702637,
          0.0017644166946411133,
          0.005009561777114868,
          -0.005487591028213501,
          0.006505638360977173,
          -0.006886571645736694,
          0.006809622049331665,
          0.001603543758392334,
          0.00884556770324707,
          0.010487884283065796,
          -0.004150271415710449,
          -0.001673877239227295,
          -0.00971946120262146,
          0.018127471208572388,
          0.0033349692821502686,
          -0.007620662450790405,
          0.00017884373664855957,
          0.00082436203956604,
          0.01805052161216736,
          0.004019826650619507,
          0.013557106256484985,
          -0.001061558723449707,
          -0.0018970966339111328,
          -0.0192965567111969,
          -0.0020873844623565674,
          0.0018406212329864502,
          0.0065864622592926025,
          -0.0010634958744049072,
          0.0011142492294311523,
          -0.0018922090530395508,
          -0.0032421350479125977,
          0.0007749497890472412,
          0.0010367929935455322,
          -0.0011555850505828857,
          -0.0006272196769714355,
          -0.004469484090805054,
          -0.004574030637741089,
          0.007402747869491577,
          0.007841736078262329,
          -0.0028093457221984863,
          -0.001438140869140625,
          0.00036194920539855957,
          0.0027431249618530273,
          0.018006950616836548,
          0.0024042129516601562,
          0.0014197230339050293,
          0.002627462148666382,
          0.000567018985748291,
          -0.002593100070953369,
          0.0028520524501800537,
          0.00449034571647644,
          -0.0047550201416015625,
          -0.0004944205284118652,
          -0.002892792224884033,
          -0.00003904104232788086,
          0.002244710922241211,
          -0.00802469253540039,
          0.0008393824100494385,
          0.007497668266296387,
          -0.000061005353927612305,
          -0.0004603266716003418,
          -0.0019741058349609375,
          0.005251377820968628,
          0.021204322576522827,
          0.0021741390228271484,
          -0.002349376678466797,
          0.003976672887802124,
          -0.00037914514541625977,
          -0.0004911422729492188,
          0.025342166423797607,
          -0.0021361708641052246,
          -0.00021219253540039062,
          -0.0020750761032104492,
          0.001979827880859375,
          0.0001304149627685547,
          -0.012907832860946655,
          0.004434108734130859,
          0.00036066770553588867,
          0.0023310482501983643,
          0.003034621477127075,
          -0.030455678701400757,
          0.00016894936561584473,
          -0.005760908126831055,
          0.004665881395339966,
          0.0001787245273590088,
          -0.004392951726913452,
          0.02327054738998413,
          0.006595790386199951,
          0.008846282958984375,
          0.003776639699935913,
          0.016848385334014893,
          -0.003680706024169922,
          -0.0029438436031341553,
          0.0010309815406799316,
          0.007914930582046509,
          -0.00019240379333496094,
          -0.00034418702125549316,
          0.007147550582885742,
          -0.008199691772460938,
          0.0007232725620269775,
          0.011923760175704956,
          0.003369450569152832,
          -0.00406801700592041,
          -0.002970099449157715,
          0.01631373167037964,
          -0.0017652511596679688,
          -0.008210957050323486,
          -0.008538633584976196,
          -0.0010433793067932129,
          0.004517048597335815,
          -0.007347524166107178,
          0.005150526762008667,
          0.0007638931274414062,
          -0.020417094230651855,
          0.004655241966247559,
          0.0003921985626220703,
          -0.009258627891540527,
          0.009696155786514282,
          0.002880185842514038,
          0.0077554285526275635,
          -0.0006369352340698242,
          0.0036378800868988037,
          -0.0019102692604064941,
          0.01640462875366211,
          0.004275143146514893,
          0.006394833326339722,
          0.0013613998889923096,
          -0.0010014474391937256,
          -0.001690208911895752,
          0.003072291612625122,
          0.017152339220046997,
          0.0061134397983551025,
          -0.010435760021209717,
          -0.0016467571258544922,
          0.004922807216644287,
          0.0037206709384918213,
          0.0021842122077941895,
          0.0021148622035980225,
          0.003575831651687622,
          0.0012291669845581055,
          -0.0007254183292388916,
          0.008229434490203857,
          -0.0010841786861419678,
          0.0012642741203308105,
          0.005525439977645874,
          0.00008040666580200195,
          -0.0009674131870269775,
          -0.00577881932258606,
          0.008815497159957886,
          0.006020784378051758,
          -0.0017831027507781982,
          -0.005705654621124268,
          0.0023479163646698,
          -0.002748847007751465,
          -0.0007562935352325439,
          0.004034310579299927,
          -0.0007278621196746826,
          -0.0014056563377380371,
          -0.0085105299949646,
          0.003030747175216675,
          -0.005691051483154297,
          0.0085679292678833,
          0.010044246912002563,
          -0.005782902240753174,
          -0.0011991262435913086,
          0.012883663177490234,
          0.009241193532943726,
          0.008949846029281616,
          0.011408060789108276,
          -0.0015947520732879639,
          0.002809375524520874,
          -0.0015886127948760986,
          0.0014342963695526123,
          0.011935263872146606,
          0.010265618562698364,
          0.002339988946914673,
          0.003232210874557495,
          0.018701821565628052,
          0.03131800889968872,
          0.00611451268196106,
          0.016745388507843018,
          0.00042769312858581543,
          -0.008437693119049072,
          -0.00022539496421813965,
          -0.005126088857650757,
          -0.0035765469074249268,
          -0.007103562355041504,
          -0.005750834941864014,
          0.005261480808258057,
          0.022936254739761353,
          -0.0052942633628845215,
          -0.0074111223220825195,
          -0.007243454456329346,
          -0.00016134977340698242,
          -0.005491286516189575,
          -0.002506047487258911,
          0.0003764629364013672,
          0.006228774785995483,
          -0.0020460784435272217,
          -0.009192615747451782,
          0.009995818138122559,
          -0.005219876766204834,
          0.0017388761043548584,
          -0.00909191370010376,
          0.006336480379104614,
          0.009015768766403198
         ],
         "xaxis": "x",
         "yaxis": "y"
        }
       ],
       "layout": {
        "barmode": "relative",
        "legend": {
         "title": {
          "text": "variable"
         },
         "tracegroupgap": 0
        },
        "template": {
         "data": {
          "bar": [
           {
            "error_x": {
             "color": "#2a3f5f"
            },
            "error_y": {
             "color": "#2a3f5f"
            },
            "marker": {
             "line": {
              "color": "#E5ECF6",
              "width": 0.5
             },
             "pattern": {
              "fillmode": "overlay",
              "size": 10,
              "solidity": 0.2
             }
            },
            "type": "bar"
           }
          ],
          "barpolar": [
           {
            "marker": {
             "line": {
              "color": "#E5ECF6",
              "width": 0.5
             },
             "pattern": {
              "fillmode": "overlay",
              "size": 10,
              "solidity": 0.2
             }
            },
            "type": "barpolar"
           }
          ],
          "carpet": [
           {
            "aaxis": {
             "endlinecolor": "#2a3f5f",
             "gridcolor": "white",
             "linecolor": "white",
             "minorgridcolor": "white",
             "startlinecolor": "#2a3f5f"
            },
            "baxis": {
             "endlinecolor": "#2a3f5f",
             "gridcolor": "white",
             "linecolor": "white",
             "minorgridcolor": "white",
             "startlinecolor": "#2a3f5f"
            },
            "type": "carpet"
           }
          ],
          "choropleth": [
           {
            "colorbar": {
             "outlinewidth": 0,
             "ticks": ""
            },
            "type": "choropleth"
           }
          ],
          "contour": [
           {
            "colorbar": {
             "outlinewidth": 0,
             "ticks": ""
            },
            "colorscale": [
             [
              0,
              "#0d0887"
             ],
             [
              0.1111111111111111,
              "#46039f"
             ],
             [
              0.2222222222222222,
              "#7201a8"
             ],
             [
              0.3333333333333333,
              "#9c179e"
             ],
             [
              0.4444444444444444,
              "#bd3786"
             ],
             [
              0.5555555555555556,
              "#d8576b"
             ],
             [
              0.6666666666666666,
              "#ed7953"
             ],
             [
              0.7777777777777778,
              "#fb9f3a"
             ],
             [
              0.8888888888888888,
              "#fdca26"
             ],
             [
              1,
              "#f0f921"
             ]
            ],
            "type": "contour"
           }
          ],
          "contourcarpet": [
           {
            "colorbar": {
             "outlinewidth": 0,
             "ticks": ""
            },
            "type": "contourcarpet"
           }
          ],
          "heatmap": [
           {
            "colorbar": {
             "outlinewidth": 0,
             "ticks": ""
            },
            "colorscale": [
             [
              0,
              "#0d0887"
             ],
             [
              0.1111111111111111,
              "#46039f"
             ],
             [
              0.2222222222222222,
              "#7201a8"
             ],
             [
              0.3333333333333333,
              "#9c179e"
             ],
             [
              0.4444444444444444,
              "#bd3786"
             ],
             [
              0.5555555555555556,
              "#d8576b"
             ],
             [
              0.6666666666666666,
              "#ed7953"
             ],
             [
              0.7777777777777778,
              "#fb9f3a"
             ],
             [
              0.8888888888888888,
              "#fdca26"
             ],
             [
              1,
              "#f0f921"
             ]
            ],
            "type": "heatmap"
           }
          ],
          "heatmapgl": [
           {
            "colorbar": {
             "outlinewidth": 0,
             "ticks": ""
            },
            "colorscale": [
             [
              0,
              "#0d0887"
             ],
             [
              0.1111111111111111,
              "#46039f"
             ],
             [
              0.2222222222222222,
              "#7201a8"
             ],
             [
              0.3333333333333333,
              "#9c179e"
             ],
             [
              0.4444444444444444,
              "#bd3786"
             ],
             [
              0.5555555555555556,
              "#d8576b"
             ],
             [
              0.6666666666666666,
              "#ed7953"
             ],
             [
              0.7777777777777778,
              "#fb9f3a"
             ],
             [
              0.8888888888888888,
              "#fdca26"
             ],
             [
              1,
              "#f0f921"
             ]
            ],
            "type": "heatmapgl"
           }
          ],
          "histogram": [
           {
            "marker": {
             "pattern": {
              "fillmode": "overlay",
              "size": 10,
              "solidity": 0.2
             }
            },
            "type": "histogram"
           }
          ],
          "histogram2d": [
           {
            "colorbar": {
             "outlinewidth": 0,
             "ticks": ""
            },
            "colorscale": [
             [
              0,
              "#0d0887"
             ],
             [
              0.1111111111111111,
              "#46039f"
             ],
             [
              0.2222222222222222,
              "#7201a8"
             ],
             [
              0.3333333333333333,
              "#9c179e"
             ],
             [
              0.4444444444444444,
              "#bd3786"
             ],
             [
              0.5555555555555556,
              "#d8576b"
             ],
             [
              0.6666666666666666,
              "#ed7953"
             ],
             [
              0.7777777777777778,
              "#fb9f3a"
             ],
             [
              0.8888888888888888,
              "#fdca26"
             ],
             [
              1,
              "#f0f921"
             ]
            ],
            "type": "histogram2d"
           }
          ],
          "histogram2dcontour": [
           {
            "colorbar": {
             "outlinewidth": 0,
             "ticks": ""
            },
            "colorscale": [
             [
              0,
              "#0d0887"
             ],
             [
              0.1111111111111111,
              "#46039f"
             ],
             [
              0.2222222222222222,
              "#7201a8"
             ],
             [
              0.3333333333333333,
              "#9c179e"
             ],
             [
              0.4444444444444444,
              "#bd3786"
             ],
             [
              0.5555555555555556,
              "#d8576b"
             ],
             [
              0.6666666666666666,
              "#ed7953"
             ],
             [
              0.7777777777777778,
              "#fb9f3a"
             ],
             [
              0.8888888888888888,
              "#fdca26"
             ],
             [
              1,
              "#f0f921"
             ]
            ],
            "type": "histogram2dcontour"
           }
          ],
          "mesh3d": [
           {
            "colorbar": {
             "outlinewidth": 0,
             "ticks": ""
            },
            "type": "mesh3d"
           }
          ],
          "parcoords": [
           {
            "line": {
             "colorbar": {
              "outlinewidth": 0,
              "ticks": ""
             }
            },
            "type": "parcoords"
           }
          ],
          "pie": [
           {
            "automargin": true,
            "type": "pie"
           }
          ],
          "scatter": [
           {
            "fillpattern": {
             "fillmode": "overlay",
             "size": 10,
             "solidity": 0.2
            },
            "type": "scatter"
           }
          ],
          "scatter3d": [
           {
            "line": {
             "colorbar": {
              "outlinewidth": 0,
              "ticks": ""
             }
            },
            "marker": {
             "colorbar": {
              "outlinewidth": 0,
              "ticks": ""
             }
            },
            "type": "scatter3d"
           }
          ],
          "scattercarpet": [
           {
            "marker": {
             "colorbar": {
              "outlinewidth": 0,
              "ticks": ""
             }
            },
            "type": "scattercarpet"
           }
          ],
          "scattergeo": [
           {
            "marker": {
             "colorbar": {
              "outlinewidth": 0,
              "ticks": ""
             }
            },
            "type": "scattergeo"
           }
          ],
          "scattergl": [
           {
            "marker": {
             "colorbar": {
              "outlinewidth": 0,
              "ticks": ""
             }
            },
            "type": "scattergl"
           }
          ],
          "scattermapbox": [
           {
            "marker": {
             "colorbar": {
              "outlinewidth": 0,
              "ticks": ""
             }
            },
            "type": "scattermapbox"
           }
          ],
          "scatterpolar": [
           {
            "marker": {
             "colorbar": {
              "outlinewidth": 0,
              "ticks": ""
             }
            },
            "type": "scatterpolar"
           }
          ],
          "scatterpolargl": [
           {
            "marker": {
             "colorbar": {
              "outlinewidth": 0,
              "ticks": ""
             }
            },
            "type": "scatterpolargl"
           }
          ],
          "scatterternary": [
           {
            "marker": {
             "colorbar": {
              "outlinewidth": 0,
              "ticks": ""
             }
            },
            "type": "scatterternary"
           }
          ],
          "surface": [
           {
            "colorbar": {
             "outlinewidth": 0,
             "ticks": ""
            },
            "colorscale": [
             [
              0,
              "#0d0887"
             ],
             [
              0.1111111111111111,
              "#46039f"
             ],
             [
              0.2222222222222222,
              "#7201a8"
             ],
             [
              0.3333333333333333,
              "#9c179e"
             ],
             [
              0.4444444444444444,
              "#bd3786"
             ],
             [
              0.5555555555555556,
              "#d8576b"
             ],
             [
              0.6666666666666666,
              "#ed7953"
             ],
             [
              0.7777777777777778,
              "#fb9f3a"
             ],
             [
              0.8888888888888888,
              "#fdca26"
             ],
             [
              1,
              "#f0f921"
             ]
            ],
            "type": "surface"
           }
          ],
          "table": [
           {
            "cells": {
             "fill": {
              "color": "#EBF0F8"
             },
             "line": {
              "color": "white"
             }
            },
            "header": {
             "fill": {
              "color": "#C8D4E3"
             },
             "line": {
              "color": "white"
             }
            },
            "type": "table"
           }
          ]
         },
         "layout": {
          "annotationdefaults": {
           "arrowcolor": "#2a3f5f",
           "arrowhead": 0,
           "arrowwidth": 1
          },
          "autotypenumbers": "strict",
          "coloraxis": {
           "colorbar": {
            "outlinewidth": 0,
            "ticks": ""
           }
          },
          "colorscale": {
           "diverging": [
            [
             0,
             "#8e0152"
            ],
            [
             0.1,
             "#c51b7d"
            ],
            [
             0.2,
             "#de77ae"
            ],
            [
             0.3,
             "#f1b6da"
            ],
            [
             0.4,
             "#fde0ef"
            ],
            [
             0.5,
             "#f7f7f7"
            ],
            [
             0.6,
             "#e6f5d0"
            ],
            [
             0.7,
             "#b8e186"
            ],
            [
             0.8,
             "#7fbc41"
            ],
            [
             0.9,
             "#4d9221"
            ],
            [
             1,
             "#276419"
            ]
           ],
           "sequential": [
            [
             0,
             "#0d0887"
            ],
            [
             0.1111111111111111,
             "#46039f"
            ],
            [
             0.2222222222222222,
             "#7201a8"
            ],
            [
             0.3333333333333333,
             "#9c179e"
            ],
            [
             0.4444444444444444,
             "#bd3786"
            ],
            [
             0.5555555555555556,
             "#d8576b"
            ],
            [
             0.6666666666666666,
             "#ed7953"
            ],
            [
             0.7777777777777778,
             "#fb9f3a"
            ],
            [
             0.8888888888888888,
             "#fdca26"
            ],
            [
             1,
             "#f0f921"
            ]
           ],
           "sequentialminus": [
            [
             0,
             "#0d0887"
            ],
            [
             0.1111111111111111,
             "#46039f"
            ],
            [
             0.2222222222222222,
             "#7201a8"
            ],
            [
             0.3333333333333333,
             "#9c179e"
            ],
            [
             0.4444444444444444,
             "#bd3786"
            ],
            [
             0.5555555555555556,
             "#d8576b"
            ],
            [
             0.6666666666666666,
             "#ed7953"
            ],
            [
             0.7777777777777778,
             "#fb9f3a"
            ],
            [
             0.8888888888888888,
             "#fdca26"
            ],
            [
             1,
             "#f0f921"
            ]
           ]
          },
          "colorway": [
           "#636efa",
           "#EF553B",
           "#00cc96",
           "#ab63fa",
           "#FFA15A",
           "#19d3f3",
           "#FF6692",
           "#B6E880",
           "#FF97FF",
           "#FECB52"
          ],
          "font": {
           "color": "#2a3f5f"
          },
          "geo": {
           "bgcolor": "white",
           "lakecolor": "white",
           "landcolor": "#E5ECF6",
           "showlakes": true,
           "showland": true,
           "subunitcolor": "white"
          },
          "hoverlabel": {
           "align": "left"
          },
          "hovermode": "closest",
          "mapbox": {
           "style": "light"
          },
          "paper_bgcolor": "white",
          "plot_bgcolor": "#E5ECF6",
          "polar": {
           "angularaxis": {
            "gridcolor": "white",
            "linecolor": "white",
            "ticks": ""
           },
           "bgcolor": "#E5ECF6",
           "radialaxis": {
            "gridcolor": "white",
            "linecolor": "white",
            "ticks": ""
           }
          },
          "scene": {
           "xaxis": {
            "backgroundcolor": "#E5ECF6",
            "gridcolor": "white",
            "gridwidth": 2,
            "linecolor": "white",
            "showbackground": true,
            "ticks": "",
            "zerolinecolor": "white"
           },
           "yaxis": {
            "backgroundcolor": "#E5ECF6",
            "gridcolor": "white",
            "gridwidth": 2,
            "linecolor": "white",
            "showbackground": true,
            "ticks": "",
            "zerolinecolor": "white"
           },
           "zaxis": {
            "backgroundcolor": "#E5ECF6",
            "gridcolor": "white",
            "gridwidth": 2,
            "linecolor": "white",
            "showbackground": true,
            "ticks": "",
            "zerolinecolor": "white"
           }
          },
          "shapedefaults": {
           "line": {
            "color": "#2a3f5f"
           }
          },
          "ternary": {
           "aaxis": {
            "gridcolor": "white",
            "linecolor": "white",
            "ticks": ""
           },
           "baxis": {
            "gridcolor": "white",
            "linecolor": "white",
            "ticks": ""
           },
           "bgcolor": "#E5ECF6",
           "caxis": {
            "gridcolor": "white",
            "linecolor": "white",
            "ticks": ""
           }
          },
          "title": {
           "x": 0.05
          },
          "xaxis": {
           "automargin": true,
           "gridcolor": "white",
           "linecolor": "white",
           "ticks": "",
           "title": {
            "standoff": 15
           },
           "zerolinecolor": "white",
           "zerolinewidth": 2
          },
          "yaxis": {
           "automargin": true,
           "gridcolor": "white",
           "linecolor": "white",
           "ticks": "",
           "title": {
            "standoff": 15
           },
           "zerolinecolor": "white",
           "zerolinewidth": 2
          }
         }
        },
        "title": {
         "text": "The probability difference of the correct token between original run and resample ablation for 1000 prompts<br>Original probability: 0.385, token: \" bottom\"<br>Prompt: \"It's in the shelf, either on the top or the\""
        },
        "xaxis": {
         "anchor": "y",
         "domain": [
          0,
          1
         ],
         "title": {
          "text": "Pr(\" bottom\" | original) - Pr(\" bottom\" | ablated)"
         }
        },
        "yaxis": {
         "anchor": "x",
         "domain": [
          0,
          1
         ],
         "title": {
          "text": "count"
         }
        }
       }
      }
     },
     "metadata": {},
     "output_type": "display_data"
    }
   ],
   "source": [
    "px.histogram(\n",
    "    ablated_results,\n",
    "    title=f'The probability difference of the correct token between original run and resample ablation for {n_prompts} prompts<br>Original probability: {ori_prob:.3f}, token: \"{model.to_string(ori_token)}\"<br>Prompt: \"It\\'s in the shelf, either on the top or the\"',\n",
    "    labels={'value': 'Pr(\" bottom\" | original) - Pr(\" bottom\" | ablated)'},\n",
    ")"
   ]
  },
  {
   "cell_type": "code",
   "execution_count": null,
   "metadata": {},
   "outputs": [],
   "source": []
  }
 ],
 "metadata": {
  "kernelspec": {
   "display_name": "cleanupenv",
   "language": "python",
   "name": "python3"
  },
  "language_info": {
   "codemirror_mode": {
    "name": "ipython",
    "version": 3
   },
   "file_extension": ".py",
   "mimetype": "text/x-python",
   "name": "python",
   "nbconvert_exporter": "python",
   "pygments_lexer": "ipython3",
   "version": "3.10.0"
  },
  "orig_nbformat": 4
 },
 "nbformat": 4,
 "nbformat_minor": 2
}
