{
 "cells": [
  {
   "cell_type": "code",
   "execution_count": 1,
   "metadata": {},
   "outputs": [],
   "source": [
    "# Gross code to allow for importing from parent directory\n",
    "import os, sys\n",
    "from pathlib import Path\n",
    "sys.path.append(str(Path(os.getcwd()).parent))"
   ]
  },
  {
   "cell_type": "markdown",
   "metadata": {},
   "source": [
    "### Imports"
   ]
  },
  {
   "cell_type": "code",
   "execution_count": 2,
   "metadata": {},
   "outputs": [],
   "source": [
    "import torch\n",
    "import einops\n",
    "import numpy as np\n",
    "\n",
    "from jaxtyping import Float\n",
    "from torch import Tensor\n",
    "\n",
    "from transformer_lens import HookedTransformer\n",
    "from load_data import get_prompts_t\n",
    "from plotting import ntensor_to_long\n",
    "\n",
    "from plotly.graph_objs.layout._shape import Shape\n",
    "import plotly.express as px\n",
    "import plotly.graph_objects as go\n",
    "import seaborn as sns\n",
    "sns.set()\n",
    "\n",
    "\n",
    "# Global settings and variables\n",
    "torch.set_grad_enabled(False)\n",
    "# device = torch.device('cuda' if torch.cuda.is_available() else 'cpu')\n",
    "device = \"cpu\""
   ]
  },
  {
   "cell_type": "code",
   "execution_count": 3,
   "metadata": {},
   "outputs": [],
   "source": [
    "def reinforcement_ratio(\n",
    "    cleaner_vectors: Float[Tensor, \"... d_model\"],\n",
    "    writer_vectors: Float[Tensor, \"... d_model\"],\n",
    ") -> Float[Tensor, \"...\"]:\n",
    "    \"\"\"\n",
    "    Works element-wise on the last dimension of the input tensors.\n",
    "\n",
    "    Interpretation: \n",
    "    After you project `cleaner_vectors` onto the direction of\n",
    "    `writer_vectors`, the reinforcement ratio is the ratio of length of the\n",
    "    projection to the length of `writer_vectors`.\n",
    "\n",
    "    A reinforcement ratio of -1 means that the projection is in the opposite\n",
    "    direction of `writer_vectors`, and has the same L2 norm.\n",
    "    \n",
    "    Mathematically:\n",
    "    reinforcement_ratio(A, B) = (A⋅B) / ||B||^2\n",
    "        OR\n",
    "    reinforcement_ratio(A, B) = cos_sim(A, B) * ||A|| / ||B||\n",
    "\n",
    "\n",
    "    Args:\n",
    "        cleaner_vectors: a tensor of vectors that will be projected\n",
    "        writer_vectors: a tensor of vectors that will be projected onto\n",
    "    \"\"\"\n",
    "    return einops.einsum(\n",
    "        cleaner_vectors,\n",
    "        writer_vectors / writer_vectors.norm(dim=-1, keepdim=True).pow(2),\n",
    "        \"... d_model, ... d_model -> ...\",\n",
    "    )\n",
    "\n",
    "\n",
    "def reinforcement_ratio_cartesian(\n",
    "    cleaner_vectors: Float[Tensor, \"dim0_arg0 ... d_model\"],\n",
    "    writer_vectors: Float[Tensor, \"dim0_arg1 ... d_model\"],\n",
    ") -> Float[Tensor, \"...\"]:\n",
    "    \"\"\"\n",
    "    Same as `reinforcement_ratio`, but takes the Cartesian product of the\n",
    "    first dimension of the input tensors.\n",
    "    \"\"\"\n",
    "    return einops.einsum(\n",
    "        cleaner_vectors,\n",
    "        writer_vectors / writer_vectors.norm(dim=-1, keepdim=True).pow(2),\n",
    "        \"dim0_arg0 ... d_model, dim0_arg1 ... d_model -> dim0_arg0 dim0_arg1 ...\",\n",
    "    )\n",
    "\n",
    "\n",
    "def cos_sim(\n",
    "    cleaner_vectors: Float[Tensor, \"... d_model\"],\n",
    "    writer_vectors: Float[Tensor, \"... d_model\"],\n",
    ") -> Float[Tensor, \"...\"]:\n",
    "    \"\"\"\n",
    "    Works element-wise on the last dimension of the input tensors.\n",
    "\n",
    "    Mathematically: cos_sim(A, B) = (A•B) / (||A|| * ||B||)\n",
    "    \"\"\"\n",
    "    return einops.einsum(\n",
    "        cleaner_vectors / cleaner_vectors.norm(dim=-1, keepdim=True),\n",
    "        writer_vectors / writer_vectors.norm(dim=-1, keepdim=True),\n",
    "        \"... d_model, ... d_model -> ...\",\n",
    "    )\n",
    "\n",
    "\n",
    "def cos_sim_cartesian(\n",
    "    cleaner_vectors: Float[Tensor, \"dim0_arg0 ... d_model\"],\n",
    "    writer_vectors: Float[Tensor, \"dim0_arg1 ... d_model\"],\n",
    ") -> Float[Tensor, \"...\"]:\n",
    "    \"\"\"\n",
    "    Works element-wise on the last dimension of the input tensors.\n",
    "\n",
    "    Mathematically: cos_sim(A, B) = (A•B) / (||A|| * ||B||)\n",
    "    \"\"\"\n",
    "    return einops.einsum(\n",
    "        cleaner_vectors / cleaner_vectors.norm(dim=-1, keepdim=True),\n",
    "        writer_vectors / writer_vectors.norm(dim=-1, keepdim=True),\n",
    "        \"dim0_arg0 ... d_model, dim0_arg1 ... d_model -> dim0_arg0 dim0_arg1 ...\",\n",
    "    )"
   ]
  },
  {
   "cell_type": "code",
   "execution_count": 4,
   "metadata": {},
   "outputs": [
    {
     "name": "stdout",
     "output_type": "stream",
     "text": [
      "Loading 80 prompts from c4-tokenized-2b...\n"
     ]
    },
    {
     "data": {
      "application/vnd.jupyter.widget-view+json": {
       "model_id": "5ee63d1a25174491ac3167620b8dbfc6",
       "version_major": 2,
       "version_minor": 0
      },
      "text/plain": [
       "  0%|          | 0/80 [00:00<?, ?it/s]"
      ]
     },
     "metadata": {},
     "output_type": "display_data"
    },
    {
     "name": "stdout",
     "output_type": "stream",
     "text": [
      "Loading 20 prompts from code-tokenized...\n"
     ]
    },
    {
     "data": {
      "application/vnd.jupyter.widget-view+json": {
       "model_id": "4b6726acd1644ad79e5aa4d088bbb6a9",
       "version_major": 2,
       "version_minor": 0
      },
      "text/plain": [
       "  0%|          | 0/20 [00:00<?, ?it/s]"
      ]
     },
     "metadata": {},
     "output_type": "display_data"
    }
   ],
   "source": [
    "prompts = get_prompts_t()\n",
    "# prompts = get_prompts_t(n_text_prompts=160, n_code_prompts=40)\n",
    "\n",
    "# Throws a warning if there is a non-unique prompt\n",
    "if not (torch.unique(prompts, dim=0).shape == prompts.shape):\n",
    "    print(\"WARNING: at least 1 prompt is not unique\")"
   ]
  },
  {
   "cell_type": "code",
   "execution_count": 5,
   "metadata": {},
   "outputs": [
    {
     "name": "stdout",
     "output_type": "stream",
     "text": [
      "Loaded pretrained model gelu-4l into HookedTransformer\n"
     ]
    }
   ],
   "source": [
    "#Transformer Lens model names:\n",
    "# https://github.com/neelnanda-io/TransformerLens/blob/3cd943628b5c415585c8ef100f65989f6adc7f75/transformer_lens/loading_from_pretrained.py#L127\n",
    "\n",
    "model_name = \"gelu-4l\"\n",
    "model = HookedTransformer.from_pretrained(model_name, device=device)\n",
    "model.cfg.use_attn_result = True"
   ]
  },
  {
   "cell_type": "code",
   "execution_count": 6,
   "metadata": {},
   "outputs": [],
   "source": [
    "# Generate names of residual stream components\n",
    "resid_names = [\"blocks.0.hook_resid_pre\"]\n",
    "for i in range(model.cfg.n_layers):\n",
    "    resid_names.append(f\"blocks.{i}.hook_resid_mid\")\n",
    "    resid_names.append(f\"blocks.{i}.hook_resid_post\")\n",
    "\n",
    "# Generate names of attention blocks for each layer\n",
    "attn_names = []\n",
    "for i in range(model.cfg.n_layers):\n",
    "    attn_names.append(f\"blocks.{i}.attn.hook_result\")\n",
    "\n",
    "# Generate names of MLP out for each layer\n",
    "mlp_names = []\n",
    "for i in range(model.cfg.n_layers):\n",
    "    mlp_names.append(f\"blocks.{i}.hook_mlp_out\")\n",
    "\n",
    "hook_names = resid_names + attn_names + mlp_names"
   ]
  },
  {
   "cell_type": "code",
   "execution_count": 7,
   "metadata": {},
   "outputs": [],
   "source": [
    "# Run a forward pass and cache selected activations\n",
    "_, cache = model.run_with_cache(\n",
    "    prompts[:30],\n",
    "    names_filter=lambda name: name in hook_names,\n",
    "    device=device,\n",
    ")"
   ]
  },
  {
   "cell_type": "code",
   "execution_count": 8,
   "metadata": {},
   "outputs": [],
   "source": [
    "# Concatenate the cached activations into tensors\n",
    "cache_resids = torch.stack(\n",
    "    [cache[name] for name in resid_names],\n",
    "    dim=0,\n",
    ")  # shape: (resid, batch, pos, d_model)\n",
    "\n",
    "# Generate node names by layer\n",
    "node_names = []\n",
    "for l in range(model.cfg.n_layers):\n",
    "    node_names.extend([f\"H{l}.{h}\" for h in range(model.cfg.n_heads)])\n",
    "    node_names.append(f\"MLP_{l}\")\n",
    "\n",
    "# Generate node tensors by layer, where the node dimension aligns with `node_names`\n",
    "node_tensors = []\n",
    "for l in range(model.cfg.n_layers):\n",
    "    attn_heads_of_layer = cache[f\"blocks.{l}.attn.hook_result\"]\n",
    "    attn_heads_of_layer = einops.rearrange(\n",
    "        attn_heads_of_layer, \"batch pos head d_model -> head batch pos d_model\",\n",
    "    )\n",
    "    mlp_of_layer = cache[f\"blocks.{l}.hook_mlp_out\"].unsqueeze(0)\n",
    "    node_tensors.append(torch.cat([attn_heads_of_layer, mlp_of_layer], dim=0))\n",
    "\n",
    "cache_nodes = torch.cat(node_tensors, dim=0)  # shape: (node, batch, pos, d_model)\n",
    "\n",
    "assert cache_nodes.ndim == cache_resids.ndim"
   ]
  },
  {
   "cell_type": "code",
   "execution_count": 9,
   "metadata": {},
   "outputs": [],
   "source": [
    "# Calculate reinforcement ratios\n",
    "reinf_ratios = reinforcement_ratio_cartesian(cache_resids, cache_nodes)  # shape: (resid node batch pos)"
   ]
  },
  {
   "cell_type": "code",
   "execution_count": 10,
   "metadata": {},
   "outputs": [],
   "source": [
    "df = ntensor_to_long(\n",
    "    reinf_ratios,\n",
    "    value_name=\"reinforcement_ratio\",\n",
    "    dim_names=[\"resid\", \"node\", \"batch\", \"pos\"],\n",
    ")\n",
    "\n",
    "layers, comps = divmod(df.node, model.cfg.n_heads + 1)\n",
    "df[\"layer\"] = layers\n",
    "df[\"comp\"] = comps"
   ]
  },
  {
   "cell_type": "code",
   "execution_count": 24,
   "metadata": {},
   "outputs": [
    {
     "name": "stdout",
     "output_type": "stream",
     "text": [
      "<class 'pandas.core.frame.DataFrame'>\n",
      "RangeIndex: 9953280 entries, 0 to 9953279\n",
      "Data columns (total 7 columns):\n",
      " #   Column               Dtype  \n",
      "---  ------               -----  \n",
      " 0   reinforcement_ratio  float32\n",
      " 1   resid                int64  \n",
      " 2   node                 int64  \n",
      " 3   batch                int64  \n",
      " 4   pos                  int64  \n",
      " 5   layer                int64  \n",
      " 6   comp                 int64  \n",
      "dtypes: float32(1), int64(6)\n",
      "memory usage: 493.6 MB\n"
     ]
    }
   ],
   "source": [
    "df.info()"
   ]
  },
  {
   "cell_type": "code",
   "execution_count": 11,
   "metadata": {},
   "outputs": [],
   "source": [
    "quantile_fncs = [\n",
    "    lambda x: x.quantile(0.25),\n",
    "    lambda x: x.quantile(0.50),\n",
    "    lambda x: x.quantile(0.75),\n",
    "]\n",
    "\n",
    "df_quantiles = (\n",
    "    df.groupby([\"resid\", \"layer\", \"comp\"])\n",
    "    .agg({\"reinforcement_ratio\": quantile_fncs})\n",
    ")\n",
    "df_quantiles.columns = [\"rr_q25\", \"rr_q50\", \"rr_q75\"]\n",
    "df_quantiles = df_quantiles.reset_index()\n",
    "\n",
    "df_quantiles[\"error_plus\"] = df_quantiles.rr_q75 - df_quantiles.rr_q50\n",
    "df_quantiles[\"error_minus\"] = df_quantiles.rr_q50 - df_quantiles.rr_q25\n",
    "\n",
    "# Set component names\n",
    "df_quantiles[\"comp_name\"] = \"H\" + df_quantiles.layer.astype(str) + \".\" + df_quantiles.comp.astype(str)\n",
    "df_quantiles[\"comp_name\"] = df_quantiles.comp_name.where(\n",
    "    df_quantiles.comp != model.cfg.n_heads,\n",
    "    \"MLP\" + df_quantiles.layer.astype(str),\n",
    ")"
   ]
  },
  {
   "cell_type": "code",
   "execution_count": 104,
   "metadata": {},
   "outputs": [],
   "source": [
    "# Create main figure\n",
    "main_fig = go.Figure()\n",
    "\n",
    "# Add all traces to main figure\n",
    "for l in range(model.cfg.n_layers):\n",
    "    tmp_fig = px.line(\n",
    "        data_frame=df_quantiles.query(f\"layer == {l}\"),\n",
    "        x=\"resid\",\n",
    "        y=\"rr_q50\",\n",
    "        color=\"comp_name\",\n",
    "        error_y=\"error_plus\",\n",
    "        error_y_minus=\"error_minus\",\n",
    "    )\n",
    "\n",
    "    for trace in tmp_fig.select_traces():\n",
    "        main_fig.add_trace(trace)\n",
    "\n",
    "# Set title on start\n",
    "title = (\n",
    "    f\"Various residual stream locations, projected onto the outputs of \"\n",
    "    f\"components in layer 0\"\n",
    ")\n",
    "main_fig.update_layout(title={\"text\": title}\n",
    ")\n",
    "main_fig.add_vline(x=0.5, line_dash=\"dash\", line_color=\"grey\")\n",
    "main_fig.add_vline(x=1.5, line_dash=\"dot\", line_color=\"grey\")\n",
    "\n",
    "# Which traces to show on start\n",
    "layers_to_show = np.zeros(model.cfg.n_layers, dtype=bool)\n",
    "layers_to_show[0] = True\n",
    "traces_to_show = np.repeat(layers_to_show, model.cfg.n_heads + 1)\n",
    "\n",
    "for data, to_show in zip(main_fig.data, traces_to_show):\n",
    "    data.visible = to_show\n",
    "\n",
    "# Create and add slider\n",
    "slider_steps = []\n",
    "for i in range(model.cfg.n_layers):\n",
    "    # Which traces to show on slider update\n",
    "    layers_to_show = np.zeros(model.cfg.n_layers, dtype=bool)\n",
    "    layers_to_show[i] = True\n",
    "    traces_to_show = np.repeat(layers_to_show, model.cfg.n_heads + 1)\n",
    "\n",
    "    title = (\n",
    "        f\"Various residual stream locations, projected onto the outputs of \"\n",
    "        f\"components in layer {i}\"\n",
    "    )\n",
    "\n",
    "    shapes = []\n",
    "    for j, style in zip([0, 1], [\"dash\", \"dot\"]):\n",
    "        shapes.append(Shape({\n",
    "            'line': {'color': 'grey', 'dash': style},\n",
    "            'type': 'line',\n",
    "            'x0': 0.5 + i*2 + j,\n",
    "            'x1': 0.5 + i*2 + j,\n",
    "            'xref': 'x',\n",
    "            'y0': 0,\n",
    "            'y1': 1,\n",
    "            'yref': 'y domain'\n",
    "        }))\n",
    "\n",
    "    step = dict(\n",
    "        method=\"update\",\n",
    "        label=f\"Layer {i}\",\n",
    "        args=[\n",
    "            {\"visible\": traces_to_show},\n",
    "            {\"title\": title},\n",
    "            {\"shapes\": shapes}\n",
    "        ],  # Layout attributes\n",
    "    )\n",
    "\n",
    "    step[\"args\"][1][\"shapes\"] = shapes\n",
    "\n",
    "    slider_steps.append(step)\n",
    "\n",
    "sliders = [dict(\n",
    "    active=0,\n",
    "    steps=slider_steps,\n",
    ")]\n",
    "\n",
    "# Prep main figure\n",
    "middle_ticks = []\n",
    "for l in range(model.cfg.n_layers):\n",
    "    middle_ticks.append(f\"H{l}.X\")\n",
    "    middle_ticks.append(f\"MLP{l}\")\n",
    "xaxis_ticknames = [val for pair in zip(resid_names, middle_ticks) for val in pair] + [resid_names[-1]]\n",
    "\n",
    "main_fig.update_layout(\n",
    "    sliders=sliders,\n",
    "    xaxis_title=\"Residual Stream Location\",\n",
    "    yaxis_title=\"Reinforcement Ratio\",\n",
    "    xaxis=dict(\n",
    "        tickmode=\"array\",\n",
    "        tickvals=np.arange(0, model.cfg.n_heads + 0.1, 0.5),\n",
    "        ticktext=xaxis_ticknames,\n",
    "    ),\n",
    "    height=600,\n",
    ")\n",
    "# Reposition the slider\n",
    "main_fig[\"layout\"][\"sliders\"][0][\"pad\"] = dict(t=120)"
   ]
  },
  {
   "cell_type": "markdown",
   "metadata": {},
   "source": [
    "### Projecting Residual Stream Onto Nodes"
   ]
  },
  {
   "cell_type": "code",
   "execution_count": 105,
   "metadata": {},
   "outputs": [
    {
     "data": {
      "application/vnd.plotly.v1+json": {
       "config": {
        "plotlyServerURL": "https://plot.ly"
       },
       "data": [
        {
         "error_y": {
          "array": [
           0.0768404807895422,
           0.4609192758798599,
           0.29198500514030457,
           0.32791055738925934,
           0.3496825397014618,
           0.4001688063144684,
           0.40851910412311554,
           0.7146273851394653,
           0.7535963654518127
          ],
          "arrayminus": [
           0.07683973386883736,
           0.358843382447958,
           0.32257163897156715,
           0.3303693160414696,
           0.33045610785484314,
           0.41000182926654816,
           0.4210558719933033,
           0.6433259230107069,
           0.7224077265709639
          ]
         },
         "hovertemplate": "comp_name=H0.0<br>resid=%{x}<br>rr_q50=%{y}<extra></extra>",
         "legendgroup": "H0.0",
         "line": {
          "color": "#636efa",
          "dash": "solid"
         },
         "marker": {
          "symbol": "circle"
         },
         "mode": "lines",
         "name": "H0.0",
         "orientation": "v",
         "showlegend": true,
         "type": "scatter",
         "visible": true,
         "x": [
          0,
          1,
          2,
          3,
          4,
          5,
          6,
          7,
          8
         ],
         "xaxis": "x",
         "y": [
          -0.08055471628904343,
          0.2128908485174179,
          0.48433008790016174,
          0.6236253678798676,
          0.8582102358341217,
          0.5189550518989563,
          0.48772546648979187,
          0.7562878727912903,
          0.6777801513671875
         ],
         "yaxis": "y"
        },
        {
         "error_y": {
          "array": [
           0.17630696296691895,
           0.7534376382827759,
           0.38850119709968567,
           0.4584937244653702,
           0.5207121446728706,
           0.6299862414598465,
           0.6795604377985001,
           1.177794098854065,
           1.3922444581985474
          ],
          "arrayminus": [
           0.1587177775800228,
           0.5142138004302979,
           0.43030061945319176,
           0.48292987793684006,
           0.5621735975146294,
           0.6573246121406555,
           0.7579773515462875,
           1.1605287790298462,
           1.3834079504013062
          ]
         },
         "hovertemplate": "comp_name=H0.1<br>resid=%{x}<br>rr_q50=%{y}<extra></extra>",
         "legendgroup": "H0.1",
         "line": {
          "color": "#EF553B",
          "dash": "solid"
         },
         "marker": {
          "symbol": "circle"
         },
         "mode": "lines",
         "name": "H0.1",
         "orientation": "v",
         "showlegend": true,
         "type": "scatter",
         "visible": true,
         "x": [
          0,
          1,
          2,
          3,
          4,
          5,
          6,
          7,
          8
         ],
         "xaxis": "x",
         "y": [
          0.002009924501180649,
          1.9406431913375854,
          0.3941070884466171,
          0.25145575404167175,
          -0.02413392812013626,
          -0.15385198593139648,
          -0.2134423404932022,
          -0.9295836687088013,
          -1.4070300459861755
         ],
         "yaxis": "y"
        },
        {
         "error_y": {
          "array": [
           0.026010003872215748,
           0.1404571831226349,
           0.11218559741973877,
           0.11672097444534302,
           0.10685330629348755,
           0.2079620510339737,
           0.14849428087472916,
           0.23281526938080788,
           0.22159527614712715
          ],
          "arrayminus": [
           0.01678676367737353,
           0.09684813022613525,
           0.08341625332832336,
           0.08033749461174011,
           0.0808342844247818,
           0.2271789237856865,
           0.145927457138896,
           0.22944894060492516,
           0.23044148832559586
          ]
         },
         "hovertemplate": "comp_name=H0.2<br>resid=%{x}<br>rr_q50=%{y}<extra></extra>",
         "legendgroup": "H0.2",
         "line": {
          "color": "#00cc96",
          "dash": "solid"
         },
         "marker": {
          "symbol": "circle"
         },
         "mode": "lines",
         "name": "H0.2",
         "orientation": "v",
         "showlegend": true,
         "type": "scatter",
         "visible": true,
         "x": [
          0,
          1,
          2,
          3,
          4,
          5,
          6,
          7,
          8
         ],
         "xaxis": "x",
         "y": [
          0.011611999943852425,
          0.9640311896800995,
          1.0409389734268188,
          1.0083978176116943,
          1.0162968635559082,
          0.09975049644708633,
          0.09228034317493439,
          0.04655168578028679,
          0.04754303768277168
         ],
         "yaxis": "y"
        },
        {
         "error_y": {
          "array": [
           0.11856815591454506,
           0.278318427503109,
           0.40792734175920486,
           0.42355478554964066,
           0.4709007926285267,
           0.5732979252934456,
           0.6513019651174545,
           1.0167328864336014,
           1.088746964931488
          ],
          "arrayminus": [
           0.12236391566693783,
           0.19937720149755478,
           0.3913797587156296,
           0.42060479521751404,
           0.4740663468837738,
           0.5915516018867493,
           0.6599557846784592,
           0.9975557029247284,
           1.086598426103592
          ]
         },
         "hovertemplate": "comp_name=H0.3<br>resid=%{x}<br>rr_q50=%{y}<extra></extra>",
         "legendgroup": "H0.3",
         "line": {
          "color": "#ab63fa",
          "dash": "solid"
         },
         "marker": {
          "symbol": "circle"
         },
         "mode": "lines",
         "name": "H0.3",
         "orientation": "v",
         "showlegend": true,
         "type": "scatter",
         "visible": true,
         "x": [
          0,
          1,
          2,
          3,
          4,
          5,
          6,
          7,
          8
         ],
         "xaxis": "x",
         "y": [
          0.08399414643645287,
          0.061378173530101776,
          -0.2192370444536209,
          -0.2604897916316986,
          -0.3341216593980789,
          -0.39660966396331787,
          -0.19805856049060822,
          -0.028555601835250854,
          0.06002134084701538
         ],
         "yaxis": "y"
        },
        {
         "error_y": {
          "array": [
           0.06826401222497225,
           0.2988353967666626,
           0.21750955283641815,
           0.24401230365037918,
           0.2784652207046747,
           0.32851947844028473,
           0.3185426741838455,
           0.4546220973134041,
           0.5693798735737801
          ],
          "arrayminus": [
           0.06335316598415375,
           0.20948733389377594,
           0.24221276305615902,
           0.2400013953447342,
           0.28986804001033306,
           0.30757059901952744,
           0.317520834505558,
           0.4410777688026428,
           0.5744046866893768
          ]
         },
         "hovertemplate": "comp_name=H0.4<br>resid=%{x}<br>rr_q50=%{y}<extra></extra>",
         "legendgroup": "H0.4",
         "line": {
          "color": "#FFA15A",
          "dash": "solid"
         },
         "marker": {
          "symbol": "circle"
         },
         "mode": "lines",
         "name": "H0.4",
         "orientation": "v",
         "showlegend": true,
         "type": "scatter",
         "visible": true,
         "x": [
          0,
          1,
          2,
          3,
          4,
          5,
          6,
          7,
          8
         ],
         "xaxis": "x",
         "y": [
          -0.028998203575611115,
          1.1042519807815552,
          0.19031648337841034,
          0.08458314836025238,
          0.018324745818972588,
          -0.14780981838703156,
          0.0028807371854782104,
          0.18100500851869583,
          -0.1732388436794281
         ],
         "yaxis": "y"
        },
        {
         "error_y": {
          "array": [
           0.0672721117734909,
           0.1869184821844101,
           0.18675200641155243,
           0.2154240906238556,
           0.25348100066185,
           0.3241215646266937,
           0.3222930580377579,
           0.5621221959590912,
           0.6323045045137405
          ],
          "arrayminus": [
           0.07053829729557037,
           0.18154258653521538,
           0.17118508368730545,
           0.21087206900119781,
           0.24889510869979858,
           0.3154005706310272,
           0.32269633188843727,
           0.5639836490154266,
           0.6523859724402428
          ]
         },
         "hovertemplate": "comp_name=H0.5<br>resid=%{x}<br>rr_q50=%{y}<extra></extra>",
         "legendgroup": "H0.5",
         "line": {
          "color": "#19d3f3",
          "dash": "solid"
         },
         "marker": {
          "symbol": "circle"
         },
         "mode": "lines",
         "name": "H0.5",
         "orientation": "v",
         "showlegend": true,
         "type": "scatter",
         "visible": true,
         "x": [
          0,
          1,
          2,
          3,
          4,
          5,
          6,
          7,
          8
         ],
         "xaxis": "x",
         "y": [
          -0.39206966757774353,
          0.38137494027614594,
          0.42287755012512207,
          0.47786498069763184,
          0.4139416217803955,
          0.46126487851142883,
          0.37718580663204193,
          0.2673472762107849,
          0.19174017012119293
         ],
         "yaxis": "y"
        },
        {
         "error_y": {
          "array": [
           0.10011996701359749,
           0.32071664184331894,
           0.2272309511899948,
           0.28126902878284454,
           0.3113615810871124,
           0.39163827896118164,
           0.4234228730201721,
           0.6959520578384399,
           0.8018485307693481
          ],
          "arrayminus": [
           0.09548911452293396,
           0.41093243658542633,
           0.2678661271929741,
           0.3042677268385887,
           0.3129359744489193,
           0.3989834189414978,
           0.399440236389637,
           0.6827906891703606,
           0.7815393507480621
          ]
         },
         "hovertemplate": "comp_name=H0.6<br>resid=%{x}<br>rr_q50=%{y}<extra></extra>",
         "legendgroup": "H0.6",
         "line": {
          "color": "#FF6692",
          "dash": "solid"
         },
         "marker": {
          "symbol": "circle"
         },
         "mode": "lines",
         "name": "H0.6",
         "orientation": "v",
         "showlegend": true,
         "type": "scatter",
         "visible": true,
         "x": [
          0,
          1,
          2,
          3,
          4,
          5,
          6,
          7,
          8
         ],
         "xaxis": "x",
         "y": [
          -0.16105305403470993,
          -0.3211505711078644,
          0.2683887779712677,
          0.42663584649562836,
          0.543284684419632,
          0.6674133539199829,
          0.769158661365509,
          1.0987019538879395,
          1.3917323350906372
         ],
         "yaxis": "y"
        },
        {
         "error_y": {
          "array": [
           0.05733136460185051,
           0.22215008735656738,
           0.15394015610218048,
           0.17372003942728043,
           0.21625465154647827,
           0.25362442433834076,
           0.26793138682842255,
           0.42711661756038666,
           0.465397447347641
          ],
          "arrayminus": [
           0.06311775743961334,
           0.3271291106939316,
           0.15361851081252098,
           0.18789953365921974,
           0.20531417429447174,
           0.25020088255405426,
           0.25109238736331463,
           0.36293954215943813,
           0.41106216609477997
          ]
         },
         "hovertemplate": "comp_name=H0.7<br>resid=%{x}<br>rr_q50=%{y}<extra></extra>",
         "legendgroup": "H0.7",
         "line": {
          "color": "#B6E880",
          "dash": "solid"
         },
         "marker": {
          "symbol": "circle"
         },
         "mode": "lines",
         "name": "H0.7",
         "orientation": "v",
         "showlegend": true,
         "type": "scatter",
         "visible": true,
         "x": [
          0,
          1,
          2,
          3,
          4,
          5,
          6,
          7,
          8
         ],
         "xaxis": "x",
         "y": [
          -0.1505804806947708,
          -0.5967591106891632,
          -0.004183772951364517,
          -0.0075920745730400085,
          0.03628715127706528,
          0.05639580637216568,
          0.1816515251994133,
          0.4546121209859848,
          0.537005215883255
         ],
         "yaxis": "y"
        },
        {
         "error_y": {
          "array": [
           0.010635531740263104,
           0.020833129063248634,
           0.020833149552345276,
           0.041644543409347534,
           0.05260750651359558,
           0.06960010528564453,
           0.1157558262348175,
           0.21269840002059937,
           0.32067811489105225
          ],
          "arrayminus": [
           0.011096834205091,
           0.024094514548778534,
           0.024094536900520325,
           0.04846443235874176,
           0.05661284923553467,
           0.07252135872840881,
           0.14439085125923157,
           0.22986218333244324,
           0.3266496956348419
          ]
         },
         "hovertemplate": "comp_name=MLP0<br>resid=%{x}<br>rr_q50=%{y}<extra></extra>",
         "legendgroup": "MLP0",
         "line": {
          "color": "#FF97FF",
          "dash": "solid"
         },
         "marker": {
          "symbol": "circle"
         },
         "mode": "lines",
         "name": "MLP0",
         "orientation": "v",
         "showlegend": true,
         "type": "scatter",
         "visible": true,
         "x": [
          0,
          1,
          2,
          3,
          4,
          5,
          6,
          7,
          8
         ],
         "xaxis": "x",
         "y": [
          -0.020322891883552074,
          -0.06296739727258682,
          0.9370326101779938,
          1.0285112857818604,
          1.1253831386566162,
          1.2831040024757385,
          1.1701174974441528,
          1.838254153728485,
          1.9927306771278381
         ],
         "yaxis": "y"
        },
        {
         "error_y": {
          "array": [
           0.03850454092025757,
           0.05505190510302782,
           0.3603321947157383,
           0.4503733813762665,
           0.4725610315799713,
           0.6478673219680786,
           0.4676709994673729,
           0.9482363313436508,
           0.9101044684648514
          ],
          "arrayminus": [
           0.038249045610427856,
           0.05517491139471531,
           0.29406116902828217,
           0.3357943370938301,
           0.42494340240955353,
           0.5132518857717514,
           0.46691837906837463,
           0.8279058039188385,
           0.9208993911743164
          ]
         },
         "hovertemplate": "comp_name=H1.0<br>resid=%{x}<br>rr_q50=%{y}<extra></extra>",
         "legendgroup": "H1.0",
         "line": {
          "color": "#636efa",
          "dash": "solid"
         },
         "marker": {
          "symbol": "circle"
         },
         "mode": "lines",
         "name": "H1.0",
         "orientation": "v",
         "showlegend": true,
         "type": "scatter",
         "visible": false,
         "x": [
          0,
          1,
          2,
          3,
          4,
          5,
          6,
          7,
          8
         ],
         "xaxis": "x",
         "y": [
          -0.0003918427973985672,
          -0.046147024258971214,
          -0.4318595379590988,
          -0.10243373364210129,
          -0.37647438049316406,
          -0.36614613234996796,
          -0.2972562462091446,
          -0.48811832070350647,
          -0.5689574182033539
         ],
         "yaxis": "y"
        },
        {
         "error_y": {
          "array": [
           0.0572139210999012,
           0.10344760492444038,
           0.3855888731777668,
           0.5269874557852745,
           0.5746367126703262,
           0.8973078727722168,
           0.7034479975700378,
           1.626945823431015,
           1.8203230202198029
          ],
          "arrayminus": [
           0.05456709396094084,
           0.10381647013127804,
           0.5121205747127533,
           0.7048013135790825,
           0.8076426684856415,
           1.1446339190006256,
           0.9145672172307968,
           1.8118593096733093,
           2.239607095718384
          ]
         },
         "hovertemplate": "comp_name=H1.1<br>resid=%{x}<br>rr_q50=%{y}<extra></extra>",
         "legendgroup": "H1.1",
         "line": {
          "color": "#EF553B",
          "dash": "solid"
         },
         "marker": {
          "symbol": "circle"
         },
         "mode": "lines",
         "name": "H1.1",
         "orientation": "v",
         "showlegend": true,
         "type": "scatter",
         "visible": false,
         "x": [
          0,
          1,
          2,
          3,
          4,
          5,
          6,
          7,
          8
         ],
         "xaxis": "x",
         "y": [
          -0.016368634067475796,
          -0.05324804596602917,
          -0.6149215698242188,
          0.19547343999147415,
          0.016107380390167236,
          -0.15247580409049988,
          0.14735877513885498,
          -1.3126085996627808,
          -1.5278310775756836
         ],
         "yaxis": "y"
        },
        {
         "error_y": {
          "array": [
           0.05028338823467493,
           0.07920616306364536,
           0.33138400316238403,
           0.4658348709344864,
           0.5472619161009789,
           0.6609060019254684,
           0.5952117517590523,
           1.0475673601031303,
           1.1997434347867966
          ],
          "arrayminus": [
           0.04972888994961977,
           0.08016709610819817,
           0.37010693550109863,
           0.45118746906518936,
           0.5697230696678162,
           0.6911413967609406,
           0.6600032299757004,
           1.1122806668281555,
           1.3457825779914856
          ]
         },
         "hovertemplate": "comp_name=H1.2<br>resid=%{x}<br>rr_q50=%{y}<extra></extra>",
         "legendgroup": "H1.2",
         "line": {
          "color": "#00cc96",
          "dash": "solid"
         },
         "marker": {
          "symbol": "circle"
         },
         "mode": "lines",
         "name": "H1.2",
         "orientation": "v",
         "showlegend": true,
         "type": "scatter",
         "visible": false,
         "x": [
          0,
          1,
          2,
          3,
          4,
          5,
          6,
          7,
          8
         ],
         "xaxis": "x",
         "y": [
          -0.013899116776883602,
          -0.034911613911390305,
          -0.7253043949604034,
          -0.2020592913031578,
          -0.38812465965747833,
          -0.4856523871421814,
          -0.20479534566402435,
          -1.343035101890564,
          -1.7061813473701477
         ],
         "yaxis": "y"
        },
        {
         "error_y": {
          "array": [
           0.04978893790394068,
           0.150418802164495,
           0.4309251308441162,
           0.626655325293541,
           0.6713250055909157,
           0.9512337185442448,
           0.6804275438189507,
           1.1690046340227127,
           1.4018844664096832
          ],
          "arrayminus": [
           0.04905403405427933,
           0.1805131658911705,
           0.39127638936042786,
           0.5361361503601074,
           0.6162532567977905,
           0.7964771091938019,
           0.597811758518219,
           1.0211164951324463,
           1.177088439464569
          ]
         },
         "hovertemplate": "comp_name=H1.3<br>resid=%{x}<br>rr_q50=%{y}<extra></extra>",
         "legendgroup": "H1.3",
         "line": {
          "color": "#ab63fa",
          "dash": "solid"
         },
         "marker": {
          "symbol": "circle"
         },
         "mode": "lines",
         "name": "H1.3",
         "orientation": "v",
         "showlegend": true,
         "type": "scatter",
         "visible": false,
         "x": [
          0,
          1,
          2,
          3,
          4,
          5,
          6,
          7,
          8
         ],
         "xaxis": "x",
         "y": [
          -0.06262926384806633,
          -0.17624597996473312,
          -1.2299827933311462,
          -0.9196196794509888,
          -0.9035568833351135,
          -1.1713000535964966,
          -0.823606938123703,
          -2.076146960258484,
          -2.1255563497543335
         ],
         "yaxis": "y"
        },
        {
         "error_y": {
          "array": [
           0.05806438624858856,
           0.08818001113831997,
           0.3167441841214895,
           0.44010308384895325,
           0.49619418382644653,
           0.6998946517705917,
           0.5735893100500107,
           1.0947959870100021,
           1.2400241494178772
          ],
          "arrayminus": [
           0.05987180583178997,
           0.08860960602760315,
           0.38322706520557404,
           0.5399579182267189,
           0.6205618232488632,
           0.8539268970489502,
           0.7049015760421753,
           1.4177414178848267,
           1.6622660756111145
          ]
         },
         "hovertemplate": "comp_name=H1.4<br>resid=%{x}<br>rr_q50=%{y}<extra></extra>",
         "legendgroup": "H1.4",
         "line": {
          "color": "#FFA15A",
          "dash": "solid"
         },
         "marker": {
          "symbol": "circle"
         },
         "mode": "lines",
         "name": "H1.4",
         "orientation": "v",
         "showlegend": true,
         "type": "scatter",
         "visible": false,
         "x": [
          0,
          1,
          2,
          3,
          4,
          5,
          6,
          7,
          8
         ],
         "xaxis": "x",
         "y": [
          -0.01000199280679226,
          -0.019218526780605316,
          -0.4104693979024887,
          0.4120341092348099,
          0.13814949989318848,
          0.18823406100273132,
          0.3273135721683502,
          -0.33748337626457214,
          -0.6538912057876587
         ],
         "yaxis": "y"
        },
        {
         "error_y": {
          "array": [
           0.05708714760839939,
           0.19547258410602808,
           0.36545540392398834,
           0.45025211572647095,
           0.5461738407611847,
           0.6737426221370697,
           0.5766918659210205,
           1.2132420986890793,
           1.4502201154828072
          ],
          "arrayminus": [
           0.05248442478477955,
           0.26474807411432266,
           0.5828353017568588,
           0.7046949788928032,
           0.8550853133201599,
           1.0651280283927917,
           0.9091102480888367,
           1.5903838276863098,
           2.07929927110672
          ]
         },
         "hovertemplate": "comp_name=H1.5<br>resid=%{x}<br>rr_q50=%{y}<extra></extra>",
         "legendgroup": "H1.5",
         "line": {
          "color": "#19d3f3",
          "dash": "solid"
         },
         "marker": {
          "symbol": "circle"
         },
         "mode": "lines",
         "name": "H1.5",
         "orientation": "v",
         "showlegend": true,
         "type": "scatter",
         "visible": false,
         "x": [
          0,
          1,
          2,
          3,
          4,
          5,
          6,
          7,
          8
         ],
         "xaxis": "x",
         "y": [
          -0.01836388371884823,
          -0.23936951905488968,
          -0.0700433999300003,
          0.7679769098758698,
          0.6515065133571625,
          0.554101437330246,
          0.5151881575584412,
          -1.9876882433891296,
          -1.8527364134788513
         ],
         "yaxis": "y"
        },
        {
         "error_y": {
          "array": [
           0.05279367417097092,
           0.0880240686237812,
           0.7123242095112801,
           0.978244349360466,
           1.1077903509140015,
           1.4336483478546143,
           1.1446137577295303,
           2.437577873468399,
           2.682001605629921
          ],
          "arrayminus": [
           0.05216678883880377,
           0.08654025383293629,
           0.731098860502243,
           0.901111364364624,
           1.2043781578540802,
           1.4630102813243866,
           1.3644305616617203,
           2.6238927245140076,
           3.0479538440704346
          ]
         },
         "hovertemplate": "comp_name=H1.6<br>resid=%{x}<br>rr_q50=%{y}<extra></extra>",
         "legendgroup": "H1.6",
         "line": {
          "color": "#FF6692",
          "dash": "solid"
         },
         "marker": {
          "symbol": "circle"
         },
         "mode": "lines",
         "name": "H1.6",
         "orientation": "v",
         "showlegend": true,
         "type": "scatter",
         "visible": false,
         "x": [
          0,
          1,
          2,
          3,
          4,
          5,
          6,
          7,
          8
         ],
         "xaxis": "x",
         "y": [
          -0.0003452068194746971,
          0.038419436663389206,
          -0.5161432325839996,
          0.21189112961292267,
          0.0035316944122314453,
          -0.21317309141159058,
          -0.01981242001056671,
          -1.6410555243492126,
          -2.05851674079895
         ],
         "yaxis": "y"
        },
        {
         "error_y": {
          "array": [
           0.055449699983000755,
           0.1384331313893199,
           0.3367414101958275,
           0.436244934797287,
           0.4803826343268156,
           0.628544494509697,
           0.551692359149456,
           1.0864401459693909,
           1.2756390571594238
          ],
          "arrayminus": [
           0.05801934748888016,
           0.1499062366783619,
           0.382722407579422,
           0.49839428067207336,
           0.5535946488380432,
           0.7374295592308044,
           0.6448011696338654,
           1.1913493275642395,
           1.484385907649994
          ]
         },
         "hovertemplate": "comp_name=H1.7<br>resid=%{x}<br>rr_q50=%{y}<extra></extra>",
         "legendgroup": "H1.7",
         "line": {
          "color": "#B6E880",
          "dash": "solid"
         },
         "marker": {
          "symbol": "circle"
         },
         "mode": "lines",
         "name": "H1.7",
         "orientation": "v",
         "showlegend": true,
         "type": "scatter",
         "visible": false,
         "x": [
          0,
          1,
          2,
          3,
          4,
          5,
          6,
          7,
          8
         ],
         "xaxis": "x",
         "y": [
          -0.006751444190740585,
          -0.0911996029317379,
          -0.8295400738716125,
          -0.28389693796634674,
          -0.3897255212068558,
          -0.830999344587326,
          -0.5260921716690063,
          -2.2146103382110596,
          -2.380617618560791
         ],
         "yaxis": "y"
        },
        {
         "error_y": {
          "array": [
           0.01431488897651434,
           0.025378732942044735,
           0.15055999904870987,
           0.168856181204319,
           0.16885599493980408,
           0.21237120032310486,
           0.2348490059375763,
           0.5086598992347717,
           0.6949466466903687
          ],
          "arrayminus": [
           0.014979364816099405,
           0.027880537323653698,
           0.16650278866291046,
           0.22061672993004322,
           0.22061674296855927,
           0.32466334104537964,
           0.3125265836715698,
           0.5868778228759766,
           0.7168663740158081
          ]
         },
         "hovertemplate": "comp_name=MLP1<br>resid=%{x}<br>rr_q50=%{y}<extra></extra>",
         "legendgroup": "MLP1",
         "line": {
          "color": "#FF97FF",
          "dash": "solid"
         },
         "marker": {
          "symbol": "circle"
         },
         "mode": "lines",
         "name": "MLP1",
         "orientation": "v",
         "showlegend": true,
         "type": "scatter",
         "visible": false,
         "x": [
          0,
          1,
          2,
          3,
          4,
          5,
          6,
          7,
          8
         ],
         "xaxis": "x",
         "y": [
          -0.0017475294880568981,
          -0.01785331219434738,
          0.2199961468577385,
          0.1888473927974701,
          1.1888474225997925,
          1.2417632937431335,
          1.2994630336761475,
          2.3826221227645874,
          2.510872721672058
         ],
         "yaxis": "y"
        },
        {
         "error_y": {
          "array": [
           0.03334452584385872,
           0.11772800050675869,
           0.32101312279701233,
           0.40378689765930176,
           0.4623904824256897,
           0.5250580906867981,
           0.6184815168380737,
           1.0803089141845703,
           1.3082975149154663
          ],
          "arrayminus": [
           0.033991682808846235,
           0.1007065623998642,
           0.35368891060352325,
           0.3934602737426758,
           0.612777978181839,
           0.5761179327964783,
           0.8027198314666748,
           1.4104755520820618,
           1.5429683327674866
          ]
         },
         "hovertemplate": "comp_name=H2.0<br>resid=%{x}<br>rr_q50=%{y}<extra></extra>",
         "legendgroup": "H2.0",
         "line": {
          "color": "#636efa",
          "dash": "solid"
         },
         "marker": {
          "symbol": "circle"
         },
         "mode": "lines",
         "name": "H2.0",
         "orientation": "v",
         "showlegend": true,
         "type": "scatter",
         "visible": false,
         "x": [
          0,
          1,
          2,
          3,
          4,
          5,
          6,
          7,
          8
         ],
         "xaxis": "x",
         "y": [
          -0.010893643368035555,
          -0.0034797508269548416,
          0.9949640333652496,
          1.2788636684417725,
          1.5433708429336548,
          2.557275652885437,
          2.055061101913452,
          4.557680130004883,
          4.996902704238892
         ],
         "yaxis": "y"
        },
        {
         "error_y": {
          "array": [
           0.03827745886519551,
           0.12424861080944538,
           0.33962030708789825,
           0.41965271532535553,
           0.472982008010149,
           0.6387784034013748,
           0.4563854709267616,
           1.1716645956039429,
           1.2819963097572327
          ],
          "arrayminus": [
           0.04019699152559042,
           0.12858526036143303,
           0.2915835790336132,
           0.3762090131640434,
           0.40976958349347115,
           0.6138661801815033,
           0.5067512765526772,
           1.350043073296547,
           1.2755842506885529
          ]
         },
         "hovertemplate": "comp_name=H2.1<br>resid=%{x}<br>rr_q50=%{y}<extra></extra>",
         "legendgroup": "H2.1",
         "line": {
          "color": "#EF553B",
          "dash": "solid"
         },
         "marker": {
          "symbol": "circle"
         },
         "mode": "lines",
         "name": "H2.1",
         "orientation": "v",
         "showlegend": true,
         "type": "scatter",
         "visible": false,
         "x": [
          0,
          1,
          2,
          3,
          4,
          5,
          6,
          7,
          8
         ],
         "xaxis": "x",
         "y": [
          -0.012398596853017807,
          -0.06931998208165169,
          0.30648429691791534,
          0.09869977831840515,
          -0.06346580758690834,
          0.3191438168287277,
          -0.12067898362874985,
          -0.4955265372991562,
          -0.14647924900054932
         ],
         "yaxis": "y"
        },
        {
         "error_y": {
          "array": [
           0.029077271930873394,
           0.15778296440839767,
           0.20712064765393734,
           0.2339826636016369,
           0.24808358028531075,
           0.25311902165412903,
           0.211844801902771,
           0.5062048733234406,
           0.5807127952575684
          ],
          "arrayminus": [
           0.030343373771756887,
           0.15653114020824432,
           0.20630399882793427,
           0.22867243736982346,
           0.24887606501579285,
           0.23094920814037323,
           0.20471158623695374,
           0.4737270027399063,
           0.5123458728194237
          ]
         },
         "hovertemplate": "comp_name=H2.2<br>resid=%{x}<br>rr_q50=%{y}<extra></extra>",
         "legendgroup": "H2.2",
         "line": {
          "color": "#00cc96",
          "dash": "solid"
         },
         "marker": {
          "symbol": "circle"
         },
         "mode": "lines",
         "name": "H2.2",
         "orientation": "v",
         "showlegend": true,
         "type": "scatter",
         "visible": false,
         "x": [
          0,
          1,
          2,
          3,
          4,
          5,
          6,
          7,
          8
         ],
         "xaxis": "x",
         "y": [
          -0.008342052344232798,
          -0.3061988949775696,
          -0.2534756064414978,
          -0.07122346013784409,
          -0.11325007677078247,
          1.1438767910003662,
          0.9968663156032562,
          1.0638312697410583,
          0.8353137969970703
         ],
         "yaxis": "y"
        },
        {
         "error_y": {
          "array": [
           0.03638171777129173,
           0.16648674942553043,
           0.27009496837854385,
           0.35034020245075226,
           0.36398085951805115,
           0.44708508253097534,
           0.3618524372577667,
           0.8051288723945618,
           1.0091642141342163
          ],
          "arrayminus": [
           0.03660124633461237,
           0.1979832649230957,
           0.24467842280864716,
           0.3085167482495308,
           0.3168966956436634,
           0.41451406478881836,
           0.3024093806743622,
           0.7092876732349396,
           0.8525603413581848
          ]
         },
         "hovertemplate": "comp_name=H2.3<br>resid=%{x}<br>rr_q50=%{y}<extra></extra>",
         "legendgroup": "H2.3",
         "line": {
          "color": "#ab63fa",
          "dash": "solid"
         },
         "marker": {
          "symbol": "circle"
         },
         "mode": "lines",
         "name": "H2.3",
         "orientation": "v",
         "showlegend": true,
         "type": "scatter",
         "visible": false,
         "x": [
          0,
          1,
          2,
          3,
          4,
          5,
          6,
          7,
          8
         ],
         "xaxis": "x",
         "y": [
          -0.008107367902994156,
          -0.13179711997509003,
          0.20039528608322144,
          0.5519996583461761,
          0.5357820093631744,
          1.910330057144165,
          1.4498300552368164,
          2.5030252933502197,
          2.598127245903015
         ],
         "yaxis": "y"
        },
        {
         "error_y": {
          "array": [
           0.032330887857824564,
           0.20210125856101513,
           0.25107330083847046,
           0.27427615970373154,
           0.2937895208597183,
           0.3009225130081177,
           0.2809276580810547,
           0.603027731180191,
           0.7087534666061401
          ],
          "arrayminus": [
           0.034640650264918804,
           0.24982725083827972,
           0.3103332668542862,
           0.33713944256305695,
           0.34883707761764526,
           0.33070650696754456,
           0.3139859288930893,
           0.611935555934906,
           0.6685508191585541
          ]
         },
         "hovertemplate": "comp_name=H2.4<br>resid=%{x}<br>rr_q50=%{y}<extra></extra>",
         "legendgroup": "H2.4",
         "line": {
          "color": "#FFA15A",
          "dash": "solid"
         },
         "marker": {
          "symbol": "circle"
         },
         "mode": "lines",
         "name": "H2.4",
         "orientation": "v",
         "showlegend": true,
         "type": "scatter",
         "visible": false,
         "x": [
          0,
          1,
          2,
          3,
          4,
          5,
          6,
          7,
          8
         ],
         "xaxis": "x",
         "y": [
          -0.01035866979509592,
          -0.3114306777715683,
          -0.29541683197021484,
          -0.15198497474193573,
          -0.14517538994550705,
          1.1064810156822205,
          1.000787079334259,
          1.3023932576179504,
          1.367126226425171
         ],
         "yaxis": "y"
        },
        {
         "error_y": {
          "array": [
           0.03382539376616478,
           0.21650594472885132,
           0.2760142832994461,
           0.3028569668531418,
           0.31999924778938293,
           0.3452054262161255,
           0.31906314194202423,
           0.6800703853368759,
           0.7388662621378899
          ],
          "arrayminus": [
           0.03967877849936485,
           0.21525976061820984,
           0.31233423948287964,
           0.368320494890213,
           0.396761953830719,
           0.43337126821279526,
           0.39857152849435806,
           0.8034404516220093,
           0.8896599486470222
          ]
         },
         "hovertemplate": "comp_name=H2.5<br>resid=%{x}<br>rr_q50=%{y}<extra></extra>",
         "legendgroup": "H2.5",
         "line": {
          "color": "#19d3f3",
          "dash": "solid"
         },
         "marker": {
          "symbol": "circle"
         },
         "mode": "lines",
         "name": "H2.5",
         "orientation": "v",
         "showlegend": true,
         "type": "scatter",
         "visible": false,
         "x": [
          0,
          1,
          2,
          3,
          4,
          5,
          6,
          7,
          8
         ],
         "xaxis": "x",
         "y": [
          -0.01075010932981968,
          -0.6414127051830292,
          -0.7871376276016235,
          -0.6690279245376587,
          -0.7216687500476837,
          0.6742262542247772,
          0.5727305114269257,
          0.2501264810562134,
          0.21660376340150833
         ],
         "yaxis": "y"
        },
        {
         "error_y": {
          "array": [
           0.02746736491099,
           0.15898728370666504,
           0.2479378655552864,
           0.35828299820423126,
           0.33936505019664764,
           0.4486028552055359,
           0.3690289258956909,
           0.7849053144454956,
           1.0244215726852417
          ],
          "arrayminus": [
           0.029371185693889856,
           0.1760786771774292,
           0.28740060701966286,
           0.38260601460933685,
           0.37226250767707825,
           0.5285812020301819,
           0.4049956798553467,
           0.8826434016227722,
           1.0595290064811707
          ]
         },
         "hovertemplate": "comp_name=H2.6<br>resid=%{x}<br>rr_q50=%{y}<extra></extra>",
         "legendgroup": "H2.6",
         "line": {
          "color": "#FF6692",
          "dash": "solid"
         },
         "marker": {
          "symbol": "circle"
         },
         "mode": "lines",
         "name": "H2.6",
         "orientation": "v",
         "showlegend": true,
         "type": "scatter",
         "visible": false,
         "x": [
          0,
          1,
          2,
          3,
          4,
          5,
          6,
          7,
          8
         ],
         "xaxis": "x",
         "y": [
          -0.007753846701234579,
          -0.41868679225444794,
          0.08971002697944641,
          0.4081905633211136,
          0.4997073858976364,
          2.0624743700027466,
          1.572682499885559,
          3.3458690643310547,
          3.425710439682007
         ],
         "yaxis": "y"
        },
        {
         "error_y": {
          "array": [
           0.04071083152666688,
           0.2595304250717163,
           0.3134707137942314,
           0.3679520785808563,
           0.3969390094280243,
           0.5195566117763519,
           0.4040578603744507,
           0.8577977418899536,
           1.022958517074585
          ],
          "arrayminus": [
           0.04057907545939088,
           0.2519626319408417,
           0.35634416341781616,
           0.4004829078912735,
           0.4345492720603943,
           0.5397606492042542,
           0.4334314614534378,
           0.9523976743221283,
           1.0252548344433308
          ]
         },
         "hovertemplate": "comp_name=H2.7<br>resid=%{x}<br>rr_q50=%{y}<extra></extra>",
         "legendgroup": "H2.7",
         "line": {
          "color": "#B6E880",
          "dash": "solid"
         },
         "marker": {
          "symbol": "circle"
         },
         "mode": "lines",
         "name": "H2.7",
         "orientation": "v",
         "showlegend": true,
         "type": "scatter",
         "visible": false,
         "x": [
          0,
          1,
          2,
          3,
          4,
          5,
          6,
          7,
          8
         ],
         "xaxis": "x",
         "y": [
          -0.013194320257753134,
          -0.5560604631900787,
          -0.4346776306629181,
          -0.311458095908165,
          -0.35922127962112427,
          1.1252660155296326,
          0.8734826743602753,
          1.1785010695457458,
          1.2241292595863342
         ],
         "yaxis": "y"
        },
        {
         "error_y": {
          "array": [
           0.009368926752358675,
           0.03906681900843978,
           0.1565373265184462,
           0.20675864070653915,
           0.23362444154918194,
           0.3356217476539314,
           0.3356218785047531,
           0.5566417872905731,
           0.6070181727409363
          ],
          "arrayminus": [
           0.009303441504016519,
           0.047511391807347536,
           0.16900014132261276,
           0.2755211740732193,
           0.2680380716919899,
           0.49115198850631714,
           0.49115191027522087,
           0.8770379349589348,
           0.8751426450908184
          ]
         },
         "hovertemplate": "comp_name=MLP2<br>resid=%{x}<br>rr_q50=%{y}<extra></extra>",
         "legendgroup": "MLP2",
         "line": {
          "color": "#FF97FF",
          "dash": "solid"
         },
         "marker": {
          "symbol": "circle"
         },
         "mode": "lines",
         "name": "MLP2",
         "orientation": "v",
         "showlegend": true,
         "type": "scatter",
         "visible": false,
         "x": [
          0,
          1,
          2,
          3,
          4,
          5,
          6,
          7,
          8
         ],
         "xaxis": "x",
         "y": [
          -0.0018577880691736937,
          -0.009111905004829168,
          -0.15440451353788376,
          -0.22384580224752426,
          -0.2005200833082199,
          -0.36204323172569275,
          0.6379566490650177,
          0.8543704748153687,
          0.8583055734634399
         ],
         "yaxis": "y"
        },
        {
         "error_y": {
          "array": [
           0.01716715795919299,
           0.04487960459664464,
           0.13444619625806808,
           0.1633833795785904,
           0.20378753542900085,
           0.2796260118484497,
           0.27593794465065,
           0.6196390390396118,
           0.7774602770805359
          ],
          "arrayminus": [
           0.01632378902286291,
           0.0417161020450294,
           0.09552178531885147,
           0.11414836533367634,
           0.14796704798936844,
           0.19810477644205093,
           0.1926235854625702,
           0.4819927215576172,
           0.6045540571212769
          ]
         },
         "hovertemplate": "comp_name=H3.0<br>resid=%{x}<br>rr_q50=%{y}<extra></extra>",
         "legendgroup": "H3.0",
         "line": {
          "color": "#636efa",
          "dash": "solid"
         },
         "marker": {
          "symbol": "circle"
         },
         "mode": "lines",
         "name": "H3.0",
         "orientation": "v",
         "showlegend": true,
         "type": "scatter",
         "visible": false,
         "x": [
          0,
          1,
          2,
          3,
          4,
          5,
          6,
          7,
          8
         ],
         "xaxis": "x",
         "y": [
          0.00029200688004493713,
          0.006317625287920237,
          0.1579614207148552,
          0.23264940828084946,
          0.3174177408218384,
          0.46921975910663605,
          0.462030291557312,
          2.4972949028015137,
          2.435774087905884
         ],
         "yaxis": "y"
        },
        {
         "error_y": {
          "array": [
           0.028359532356262207,
           0.07796270586550236,
           0.3880358934402466,
           0.4750085175037384,
           0.6691842675209045,
           0.8071818351745605,
           1.1017879247665405,
           2.1372642517089844,
           2.6620028018951416
          ],
          "arrayminus": [
           0.030336881056427956,
           0.0656262505799532,
           0.46067412942647934,
           0.5533978044986725,
           0.8855424523353577,
           1.1164251565933228,
           1.428812861442566,
           3.187432289123535,
           3.25808584690094
          ]
         },
         "hovertemplate": "comp_name=H3.1<br>resid=%{x}<br>rr_q50=%{y}<extra></extra>",
         "legendgroup": "H3.1",
         "line": {
          "color": "#EF553B",
          "dash": "solid"
         },
         "marker": {
          "symbol": "circle"
         },
         "mode": "lines",
         "name": "H3.1",
         "orientation": "v",
         "showlegend": true,
         "type": "scatter",
         "visible": false,
         "x": [
          0,
          1,
          2,
          3,
          4,
          5,
          6,
          7,
          8
         ],
         "xaxis": "x",
         "y": [
          -0.003944653086364269,
          0.026579048484563828,
          0.8981147408485413,
          1.1200712323188782,
          1.691766083240509,
          2.3137582540512085,
          2.5720731019973755,
          7.516945838928223,
          7.641029119491577
         ],
         "yaxis": "y"
        },
        {
         "error_y": {
          "array": [
           0.02537151542492211,
           0.06136018875986338,
           0.6214402616024017,
           0.7429603338241577,
           1.0619015097618103,
           1.3705946207046509,
           1.6561954021453857,
           3.277672290802002,
           3.9976296424865723
          ],
          "arrayminus": [
           0.033302388386800885,
           0.059939226135611534,
           0.8442558124661446,
           0.9676856845617294,
           1.5213027894496918,
           1.9362753331661224,
           2.2887478470802307,
           5.5976479053497314,
           5.516672134399414
          ]
         },
         "hovertemplate": "comp_name=H3.2<br>resid=%{x}<br>rr_q50=%{y}<extra></extra>",
         "legendgroup": "H3.2",
         "line": {
          "color": "#00cc96",
          "dash": "solid"
         },
         "marker": {
          "symbol": "circle"
         },
         "mode": "lines",
         "name": "H3.2",
         "orientation": "v",
         "showlegend": true,
         "type": "scatter",
         "visible": false,
         "x": [
          0,
          1,
          2,
          3,
          4,
          5,
          6,
          7,
          8
         ],
         "xaxis": "x",
         "y": [
          -0.0065934748854488134,
          0.0038337716832756996,
          1.3132780194282532,
          1.5689798593521118,
          2.3492058515548706,
          3.10880970954895,
          3.3386571407318115,
          9.927696228027344,
          9.76830768585205
         ],
         "yaxis": "y"
        },
        {
         "error_y": {
          "array": [
           0.015619993675500154,
           0.02555007580667734,
           0.13074001669883728,
           0.17215605080127716,
           0.23325121402740479,
           0.29203975200653076,
           0.3551512360572815,
           0.6231837272644043,
           0.8539295196533203
          ],
          "arrayminus": [
           0.015731004532426596,
           0.025151934009045362,
           0.15048415213823318,
           0.17218102514743805,
           0.2995222508907318,
           0.3258956968784332,
           0.5157557129859924,
           0.8628749251365662,
           0.9570925235748291
          ]
         },
         "hovertemplate": "comp_name=H3.3<br>resid=%{x}<br>rr_q50=%{y}<extra></extra>",
         "legendgroup": "H3.3",
         "line": {
          "color": "#ab63fa",
          "dash": "solid"
         },
         "marker": {
          "symbol": "circle"
         },
         "mode": "lines",
         "name": "H3.3",
         "orientation": "v",
         "showlegend": true,
         "type": "scatter",
         "visible": false,
         "x": [
          0,
          1,
          2,
          3,
          4,
          5,
          6,
          7,
          8
         ],
         "xaxis": "x",
         "y": [
          -0.004315162543207407,
          0.02683012466877699,
          0.5648669898509979,
          0.6872462332248688,
          1.0739745497703552,
          1.4280678629875183,
          1.5890962481498718,
          4.834958553314209,
          4.99139142036438
         ],
         "yaxis": "y"
        },
        {
         "error_y": {
          "array": [
           0.031073373276740313,
           0.10113941691815853,
           0.14770482853055,
           0.18235868960618973,
           0.182595856487751,
           0.21322375535964966,
           0.21309543773531914,
           0.6210692524909973,
           0.5896778404712677
          ],
          "arrayminus": [
           0.023633620236068964,
           0.067345155403018,
           0.10549196414649487,
           0.13064603693783283,
           0.16023221611976624,
           0.20609270967543125,
           0.2626892812550068,
           0.9218848794698715,
           1.077700912952423
          ]
         },
         "hovertemplate": "comp_name=H3.4<br>resid=%{x}<br>rr_q50=%{y}<extra></extra>",
         "legendgroup": "H3.4",
         "line": {
          "color": "#FFA15A",
          "dash": "solid"
         },
         "marker": {
          "symbol": "circle"
         },
         "mode": "lines",
         "name": "H3.4",
         "orientation": "v",
         "showlegend": true,
         "type": "scatter",
         "visible": false,
         "x": [
          0,
          1,
          2,
          3,
          4,
          5,
          6,
          7,
          8
         ],
         "xaxis": "x",
         "y": [
          0.005213579628616571,
          0.02004900388419628,
          0.06310083717107773,
          0.09964378923177719,
          0.0880892351269722,
          0.1204880028963089,
          0.07697798684239388,
          1.543192744255066,
          1.3840850591659546
         ],
         "yaxis": "y"
        },
        {
         "error_y": {
          "array": [
           0.010875202133320272,
           0.022279041353613138,
           0.10935094952583313,
           0.13791227340698242,
           0.16420647501945496,
           0.1945067048072815,
           0.22463589906692505,
           0.3158379793167114,
           0.5758601427078247
          ],
          "arrayminus": [
           0.009496254613623023,
           0.021513456711545587,
           0.11147534474730492,
           0.14343824982643127,
           0.17665618658065796,
           0.20936214923858643,
           0.247661754488945,
           0.33803677558898926,
           0.563675045967102
          ]
         },
         "hovertemplate": "comp_name=H3.5<br>resid=%{x}<br>rr_q50=%{y}<extra></extra>",
         "legendgroup": "H3.5",
         "line": {
          "color": "#19d3f3",
          "dash": "solid"
         },
         "marker": {
          "symbol": "circle"
         },
         "mode": "lines",
         "name": "H3.5",
         "orientation": "v",
         "showlegend": true,
         "type": "scatter",
         "visible": false,
         "x": [
          0,
          1,
          2,
          3,
          4,
          5,
          6,
          7,
          8
         ],
         "xaxis": "x",
         "y": [
          -0.005583992227911949,
          0.006140329409390688,
          0.3183182626962662,
          0.4180489331483841,
          0.620491087436676,
          0.9342250227928162,
          0.9876656532287598,
          3.2030142545700073,
          3.4476999044418335
         ],
         "yaxis": "y"
        },
        {
         "error_y": {
          "array": [
           0.01605537161231041,
           0.04487015772610903,
           0.12286704778671265,
           0.15354856103658676,
           0.1918782815337181,
           0.2513440102338791,
           0.2614991366863251,
           0.6638810038566589,
           0.7797123789787292
          ],
          "arrayminus": [
           0.015955536160618067,
           0.05145453568547964,
           0.09636133629828691,
           0.12170614954084158,
           0.1412404179573059,
           0.17983761988580227,
           0.16670993901789188,
           0.47344934940338135,
           0.5003818571567535
          ]
         },
         "hovertemplate": "comp_name=H3.6<br>resid=%{x}<br>rr_q50=%{y}<extra></extra>",
         "legendgroup": "H3.6",
         "line": {
          "color": "#FF6692",
          "dash": "solid"
         },
         "marker": {
          "symbol": "circle"
         },
         "mode": "lines",
         "name": "H3.6",
         "orientation": "v",
         "showlegend": true,
         "type": "scatter",
         "visible": false,
         "x": [
          0,
          1,
          2,
          3,
          4,
          5,
          6,
          7,
          8
         ],
         "xaxis": "x",
         "y": [
          -0.0018407497555017471,
          -0.0035165688022971153,
          0.10217157378792763,
          0.13001655787229538,
          0.19009149819612503,
          0.2836105227470398,
          0.2694924622774124,
          2.0534884929656982,
          2.010762333869934
         ],
         "yaxis": "y"
        },
        {
         "error_y": {
          "array": [
           0.02902332693338394,
           0.12045668624341488,
           0.3078371062874794,
           0.3794572502374649,
           0.5044130831956863,
           0.6475270688533783,
           0.717503547668457,
           1.7237910032272339,
           1.551430344581604
          ],
          "arrayminus": [
           0.03120041871443391,
           0.07756286766380072,
           0.17022655438631773,
           0.2107134871184826,
           0.29997249878942966,
           0.4015970677137375,
           0.4513999819755554,
           1.2186095416545868,
           1.109666645526886
          ]
         },
         "hovertemplate": "comp_name=H3.7<br>resid=%{x}<br>rr_q50=%{y}<extra></extra>",
         "legendgroup": "H3.7",
         "line": {
          "color": "#B6E880",
          "dash": "solid"
         },
         "marker": {
          "symbol": "circle"
         },
         "mode": "lines",
         "name": "H3.7",
         "orientation": "v",
         "showlegend": true,
         "type": "scatter",
         "visible": false,
         "x": [
          0,
          1,
          2,
          3,
          4,
          5,
          6,
          7,
          8
         ],
         "xaxis": "x",
         "y": [
          -0.003003173042088747,
          0.034167131409049034,
          0.20042116194963455,
          0.25701357424259186,
          0.3865441828966141,
          0.541820615530014,
          0.5606156885623932,
          2.8422216176986694,
          2.6074851751327515
         ],
         "yaxis": "y"
        },
        {
         "error_y": {
          "array": [
           0.004933554213494062,
           0.012297657201997936,
           0.05534356087446213,
           0.07008607871830463,
           0.09384379163384438,
           0.13538073748350143,
           0.12863526493310928,
           0.35194965451955795,
           0.3519492745399475
          ],
          "arrayminus": [
           0.0050153027987107635,
           0.01486175088211894,
           0.08841038215905428,
           0.11013241484761238,
           0.1496005840599537,
           0.20885583385825157,
           0.21154792234301567,
           0.5424129739403725,
           0.5424129813909531
          ]
         },
         "hovertemplate": "comp_name=MLP3<br>resid=%{x}<br>rr_q50=%{y}<extra></extra>",
         "legendgroup": "MLP3",
         "line": {
          "color": "#FF97FF",
          "dash": "solid"
         },
         "marker": {
          "symbol": "circle"
         },
         "mode": "lines",
         "name": "MLP3",
         "orientation": "v",
         "showlegend": true,
         "type": "scatter",
         "visible": false,
         "x": [
          0,
          1,
          2,
          3,
          4,
          5,
          6,
          7,
          8
         ],
         "xaxis": "x",
         "y": [
          -0.0007899689953774214,
          -0.0055946907959878445,
          0.03557171672582626,
          0.03181933052837849,
          0.05540402978658676,
          0.0653359442949295,
          0.07065315172076225,
          0.12798655778169632,
          1.1279865503311157
         ],
         "yaxis": "y"
        }
       ],
       "layout": {
        "height": 600,
        "shapes": [
         {
          "line": {
           "color": "grey",
           "dash": "dash"
          },
          "type": "line",
          "x0": 0.5,
          "x1": 0.5,
          "xref": "x",
          "y0": 0,
          "y1": 1,
          "yref": "y domain"
         },
         {
          "line": {
           "color": "grey",
           "dash": "dot"
          },
          "type": "line",
          "x0": 1.5,
          "x1": 1.5,
          "xref": "x",
          "y0": 0,
          "y1": 1,
          "yref": "y domain"
         }
        ],
        "sliders": [
         {
          "active": 0,
          "pad": {
           "t": 120
          },
          "steps": [
           {
            "args": [
             {
              "visible": [
               true,
               true,
               true,
               true,
               true,
               true,
               true,
               true,
               true,
               false,
               false,
               false,
               false,
               false,
               false,
               false,
               false,
               false,
               false,
               false,
               false,
               false,
               false,
               false,
               false,
               false,
               false,
               false,
               false,
               false,
               false,
               false,
               false,
               false,
               false,
               false
              ]
             },
             {
              "shapes": [
               {
                "line": {
                 "color": "grey",
                 "dash": "dash"
                },
                "type": "line",
                "x0": 0.5,
                "x1": 0.5,
                "xref": "x",
                "y0": 0,
                "y1": 1,
                "yref": "y domain"
               },
               {
                "line": {
                 "color": "grey",
                 "dash": "dot"
                },
                "type": "line",
                "x0": 1.5,
                "x1": 1.5,
                "xref": "x",
                "y0": 0,
                "y1": 1,
                "yref": "y domain"
               }
              ],
              "title": "Various residual stream locations, projected onto the outputs of components in layer 0"
             },
             {
              "shapes": [
               {
                "line": {
                 "color": "grey",
                 "dash": "dash"
                },
                "type": "line",
                "x0": 0.5,
                "x1": 0.5,
                "xref": "x",
                "y0": 0,
                "y1": 1,
                "yref": "y domain"
               },
               {
                "line": {
                 "color": "grey",
                 "dash": "dot"
                },
                "type": "line",
                "x0": 1.5,
                "x1": 1.5,
                "xref": "x",
                "y0": 0,
                "y1": 1,
                "yref": "y domain"
               }
              ]
             }
            ],
            "label": "Layer 0",
            "method": "update"
           },
           {
            "args": [
             {
              "visible": [
               false,
               false,
               false,
               false,
               false,
               false,
               false,
               false,
               false,
               true,
               true,
               true,
               true,
               true,
               true,
               true,
               true,
               true,
               false,
               false,
               false,
               false,
               false,
               false,
               false,
               false,
               false,
               false,
               false,
               false,
               false,
               false,
               false,
               false,
               false,
               false
              ]
             },
             {
              "shapes": [
               {
                "line": {
                 "color": "grey",
                 "dash": "dash"
                },
                "type": "line",
                "x0": 2.5,
                "x1": 2.5,
                "xref": "x",
                "y0": 0,
                "y1": 1,
                "yref": "y domain"
               },
               {
                "line": {
                 "color": "grey",
                 "dash": "dot"
                },
                "type": "line",
                "x0": 3.5,
                "x1": 3.5,
                "xref": "x",
                "y0": 0,
                "y1": 1,
                "yref": "y domain"
               }
              ],
              "title": "Various residual stream locations, projected onto the outputs of components in layer 1"
             },
             {
              "shapes": [
               {
                "line": {
                 "color": "grey",
                 "dash": "dash"
                },
                "type": "line",
                "x0": 2.5,
                "x1": 2.5,
                "xref": "x",
                "y0": 0,
                "y1": 1,
                "yref": "y domain"
               },
               {
                "line": {
                 "color": "grey",
                 "dash": "dot"
                },
                "type": "line",
                "x0": 3.5,
                "x1": 3.5,
                "xref": "x",
                "y0": 0,
                "y1": 1,
                "yref": "y domain"
               }
              ]
             }
            ],
            "label": "Layer 1",
            "method": "update"
           },
           {
            "args": [
             {
              "visible": [
               false,
               false,
               false,
               false,
               false,
               false,
               false,
               false,
               false,
               false,
               false,
               false,
               false,
               false,
               false,
               false,
               false,
               false,
               true,
               true,
               true,
               true,
               true,
               true,
               true,
               true,
               true,
               false,
               false,
               false,
               false,
               false,
               false,
               false,
               false,
               false
              ]
             },
             {
              "shapes": [
               {
                "line": {
                 "color": "grey",
                 "dash": "dash"
                },
                "type": "line",
                "x0": 4.5,
                "x1": 4.5,
                "xref": "x",
                "y0": 0,
                "y1": 1,
                "yref": "y domain"
               },
               {
                "line": {
                 "color": "grey",
                 "dash": "dot"
                },
                "type": "line",
                "x0": 5.5,
                "x1": 5.5,
                "xref": "x",
                "y0": 0,
                "y1": 1,
                "yref": "y domain"
               }
              ],
              "title": "Various residual stream locations, projected onto the outputs of components in layer 2"
             },
             {
              "shapes": [
               {
                "line": {
                 "color": "grey",
                 "dash": "dash"
                },
                "type": "line",
                "x0": 4.5,
                "x1": 4.5,
                "xref": "x",
                "y0": 0,
                "y1": 1,
                "yref": "y domain"
               },
               {
                "line": {
                 "color": "grey",
                 "dash": "dot"
                },
                "type": "line",
                "x0": 5.5,
                "x1": 5.5,
                "xref": "x",
                "y0": 0,
                "y1": 1,
                "yref": "y domain"
               }
              ]
             }
            ],
            "label": "Layer 2",
            "method": "update"
           },
           {
            "args": [
             {
              "visible": [
               false,
               false,
               false,
               false,
               false,
               false,
               false,
               false,
               false,
               false,
               false,
               false,
               false,
               false,
               false,
               false,
               false,
               false,
               false,
               false,
               false,
               false,
               false,
               false,
               false,
               false,
               false,
               true,
               true,
               true,
               true,
               true,
               true,
               true,
               true,
               true
              ]
             },
             {
              "shapes": [
               {
                "line": {
                 "color": "grey",
                 "dash": "dash"
                },
                "type": "line",
                "x0": 6.5,
                "x1": 6.5,
                "xref": "x",
                "y0": 0,
                "y1": 1,
                "yref": "y domain"
               },
               {
                "line": {
                 "color": "grey",
                 "dash": "dot"
                },
                "type": "line",
                "x0": 7.5,
                "x1": 7.5,
                "xref": "x",
                "y0": 0,
                "y1": 1,
                "yref": "y domain"
               }
              ],
              "title": "Various residual stream locations, projected onto the outputs of components in layer 3"
             },
             {
              "shapes": [
               {
                "line": {
                 "color": "grey",
                 "dash": "dash"
                },
                "type": "line",
                "x0": 6.5,
                "x1": 6.5,
                "xref": "x",
                "y0": 0,
                "y1": 1,
                "yref": "y domain"
               },
               {
                "line": {
                 "color": "grey",
                 "dash": "dot"
                },
                "type": "line",
                "x0": 7.5,
                "x1": 7.5,
                "xref": "x",
                "y0": 0,
                "y1": 1,
                "yref": "y domain"
               }
              ]
             }
            ],
            "label": "Layer 3",
            "method": "update"
           }
          ]
         }
        ],
        "template": {
         "data": {
          "bar": [
           {
            "error_x": {
             "color": "#2a3f5f"
            },
            "error_y": {
             "color": "#2a3f5f"
            },
            "marker": {
             "line": {
              "color": "#E5ECF6",
              "width": 0.5
             },
             "pattern": {
              "fillmode": "overlay",
              "size": 10,
              "solidity": 0.2
             }
            },
            "type": "bar"
           }
          ],
          "barpolar": [
           {
            "marker": {
             "line": {
              "color": "#E5ECF6",
              "width": 0.5
             },
             "pattern": {
              "fillmode": "overlay",
              "size": 10,
              "solidity": 0.2
             }
            },
            "type": "barpolar"
           }
          ],
          "carpet": [
           {
            "aaxis": {
             "endlinecolor": "#2a3f5f",
             "gridcolor": "white",
             "linecolor": "white",
             "minorgridcolor": "white",
             "startlinecolor": "#2a3f5f"
            },
            "baxis": {
             "endlinecolor": "#2a3f5f",
             "gridcolor": "white",
             "linecolor": "white",
             "minorgridcolor": "white",
             "startlinecolor": "#2a3f5f"
            },
            "type": "carpet"
           }
          ],
          "choropleth": [
           {
            "colorbar": {
             "outlinewidth": 0,
             "ticks": ""
            },
            "type": "choropleth"
           }
          ],
          "contour": [
           {
            "colorbar": {
             "outlinewidth": 0,
             "ticks": ""
            },
            "colorscale": [
             [
              0,
              "#0d0887"
             ],
             [
              0.1111111111111111,
              "#46039f"
             ],
             [
              0.2222222222222222,
              "#7201a8"
             ],
             [
              0.3333333333333333,
              "#9c179e"
             ],
             [
              0.4444444444444444,
              "#bd3786"
             ],
             [
              0.5555555555555556,
              "#d8576b"
             ],
             [
              0.6666666666666666,
              "#ed7953"
             ],
             [
              0.7777777777777778,
              "#fb9f3a"
             ],
             [
              0.8888888888888888,
              "#fdca26"
             ],
             [
              1,
              "#f0f921"
             ]
            ],
            "type": "contour"
           }
          ],
          "contourcarpet": [
           {
            "colorbar": {
             "outlinewidth": 0,
             "ticks": ""
            },
            "type": "contourcarpet"
           }
          ],
          "heatmap": [
           {
            "colorbar": {
             "outlinewidth": 0,
             "ticks": ""
            },
            "colorscale": [
             [
              0,
              "#0d0887"
             ],
             [
              0.1111111111111111,
              "#46039f"
             ],
             [
              0.2222222222222222,
              "#7201a8"
             ],
             [
              0.3333333333333333,
              "#9c179e"
             ],
             [
              0.4444444444444444,
              "#bd3786"
             ],
             [
              0.5555555555555556,
              "#d8576b"
             ],
             [
              0.6666666666666666,
              "#ed7953"
             ],
             [
              0.7777777777777778,
              "#fb9f3a"
             ],
             [
              0.8888888888888888,
              "#fdca26"
             ],
             [
              1,
              "#f0f921"
             ]
            ],
            "type": "heatmap"
           }
          ],
          "heatmapgl": [
           {
            "colorbar": {
             "outlinewidth": 0,
             "ticks": ""
            },
            "colorscale": [
             [
              0,
              "#0d0887"
             ],
             [
              0.1111111111111111,
              "#46039f"
             ],
             [
              0.2222222222222222,
              "#7201a8"
             ],
             [
              0.3333333333333333,
              "#9c179e"
             ],
             [
              0.4444444444444444,
              "#bd3786"
             ],
             [
              0.5555555555555556,
              "#d8576b"
             ],
             [
              0.6666666666666666,
              "#ed7953"
             ],
             [
              0.7777777777777778,
              "#fb9f3a"
             ],
             [
              0.8888888888888888,
              "#fdca26"
             ],
             [
              1,
              "#f0f921"
             ]
            ],
            "type": "heatmapgl"
           }
          ],
          "histogram": [
           {
            "marker": {
             "pattern": {
              "fillmode": "overlay",
              "size": 10,
              "solidity": 0.2
             }
            },
            "type": "histogram"
           }
          ],
          "histogram2d": [
           {
            "colorbar": {
             "outlinewidth": 0,
             "ticks": ""
            },
            "colorscale": [
             [
              0,
              "#0d0887"
             ],
             [
              0.1111111111111111,
              "#46039f"
             ],
             [
              0.2222222222222222,
              "#7201a8"
             ],
             [
              0.3333333333333333,
              "#9c179e"
             ],
             [
              0.4444444444444444,
              "#bd3786"
             ],
             [
              0.5555555555555556,
              "#d8576b"
             ],
             [
              0.6666666666666666,
              "#ed7953"
             ],
             [
              0.7777777777777778,
              "#fb9f3a"
             ],
             [
              0.8888888888888888,
              "#fdca26"
             ],
             [
              1,
              "#f0f921"
             ]
            ],
            "type": "histogram2d"
           }
          ],
          "histogram2dcontour": [
           {
            "colorbar": {
             "outlinewidth": 0,
             "ticks": ""
            },
            "colorscale": [
             [
              0,
              "#0d0887"
             ],
             [
              0.1111111111111111,
              "#46039f"
             ],
             [
              0.2222222222222222,
              "#7201a8"
             ],
             [
              0.3333333333333333,
              "#9c179e"
             ],
             [
              0.4444444444444444,
              "#bd3786"
             ],
             [
              0.5555555555555556,
              "#d8576b"
             ],
             [
              0.6666666666666666,
              "#ed7953"
             ],
             [
              0.7777777777777778,
              "#fb9f3a"
             ],
             [
              0.8888888888888888,
              "#fdca26"
             ],
             [
              1,
              "#f0f921"
             ]
            ],
            "type": "histogram2dcontour"
           }
          ],
          "mesh3d": [
           {
            "colorbar": {
             "outlinewidth": 0,
             "ticks": ""
            },
            "type": "mesh3d"
           }
          ],
          "parcoords": [
           {
            "line": {
             "colorbar": {
              "outlinewidth": 0,
              "ticks": ""
             }
            },
            "type": "parcoords"
           }
          ],
          "pie": [
           {
            "automargin": true,
            "type": "pie"
           }
          ],
          "scatter": [
           {
            "fillpattern": {
             "fillmode": "overlay",
             "size": 10,
             "solidity": 0.2
            },
            "type": "scatter"
           }
          ],
          "scatter3d": [
           {
            "line": {
             "colorbar": {
              "outlinewidth": 0,
              "ticks": ""
             }
            },
            "marker": {
             "colorbar": {
              "outlinewidth": 0,
              "ticks": ""
             }
            },
            "type": "scatter3d"
           }
          ],
          "scattercarpet": [
           {
            "marker": {
             "colorbar": {
              "outlinewidth": 0,
              "ticks": ""
             }
            },
            "type": "scattercarpet"
           }
          ],
          "scattergeo": [
           {
            "marker": {
             "colorbar": {
              "outlinewidth": 0,
              "ticks": ""
             }
            },
            "type": "scattergeo"
           }
          ],
          "scattergl": [
           {
            "marker": {
             "colorbar": {
              "outlinewidth": 0,
              "ticks": ""
             }
            },
            "type": "scattergl"
           }
          ],
          "scattermapbox": [
           {
            "marker": {
             "colorbar": {
              "outlinewidth": 0,
              "ticks": ""
             }
            },
            "type": "scattermapbox"
           }
          ],
          "scatterpolar": [
           {
            "marker": {
             "colorbar": {
              "outlinewidth": 0,
              "ticks": ""
             }
            },
            "type": "scatterpolar"
           }
          ],
          "scatterpolargl": [
           {
            "marker": {
             "colorbar": {
              "outlinewidth": 0,
              "ticks": ""
             }
            },
            "type": "scatterpolargl"
           }
          ],
          "scatterternary": [
           {
            "marker": {
             "colorbar": {
              "outlinewidth": 0,
              "ticks": ""
             }
            },
            "type": "scatterternary"
           }
          ],
          "surface": [
           {
            "colorbar": {
             "outlinewidth": 0,
             "ticks": ""
            },
            "colorscale": [
             [
              0,
              "#0d0887"
             ],
             [
              0.1111111111111111,
              "#46039f"
             ],
             [
              0.2222222222222222,
              "#7201a8"
             ],
             [
              0.3333333333333333,
              "#9c179e"
             ],
             [
              0.4444444444444444,
              "#bd3786"
             ],
             [
              0.5555555555555556,
              "#d8576b"
             ],
             [
              0.6666666666666666,
              "#ed7953"
             ],
             [
              0.7777777777777778,
              "#fb9f3a"
             ],
             [
              0.8888888888888888,
              "#fdca26"
             ],
             [
              1,
              "#f0f921"
             ]
            ],
            "type": "surface"
           }
          ],
          "table": [
           {
            "cells": {
             "fill": {
              "color": "#EBF0F8"
             },
             "line": {
              "color": "white"
             }
            },
            "header": {
             "fill": {
              "color": "#C8D4E3"
             },
             "line": {
              "color": "white"
             }
            },
            "type": "table"
           }
          ]
         },
         "layout": {
          "annotationdefaults": {
           "arrowcolor": "#2a3f5f",
           "arrowhead": 0,
           "arrowwidth": 1
          },
          "autotypenumbers": "strict",
          "coloraxis": {
           "colorbar": {
            "outlinewidth": 0,
            "ticks": ""
           }
          },
          "colorscale": {
           "diverging": [
            [
             0,
             "#8e0152"
            ],
            [
             0.1,
             "#c51b7d"
            ],
            [
             0.2,
             "#de77ae"
            ],
            [
             0.3,
             "#f1b6da"
            ],
            [
             0.4,
             "#fde0ef"
            ],
            [
             0.5,
             "#f7f7f7"
            ],
            [
             0.6,
             "#e6f5d0"
            ],
            [
             0.7,
             "#b8e186"
            ],
            [
             0.8,
             "#7fbc41"
            ],
            [
             0.9,
             "#4d9221"
            ],
            [
             1,
             "#276419"
            ]
           ],
           "sequential": [
            [
             0,
             "#0d0887"
            ],
            [
             0.1111111111111111,
             "#46039f"
            ],
            [
             0.2222222222222222,
             "#7201a8"
            ],
            [
             0.3333333333333333,
             "#9c179e"
            ],
            [
             0.4444444444444444,
             "#bd3786"
            ],
            [
             0.5555555555555556,
             "#d8576b"
            ],
            [
             0.6666666666666666,
             "#ed7953"
            ],
            [
             0.7777777777777778,
             "#fb9f3a"
            ],
            [
             0.8888888888888888,
             "#fdca26"
            ],
            [
             1,
             "#f0f921"
            ]
           ],
           "sequentialminus": [
            [
             0,
             "#0d0887"
            ],
            [
             0.1111111111111111,
             "#46039f"
            ],
            [
             0.2222222222222222,
             "#7201a8"
            ],
            [
             0.3333333333333333,
             "#9c179e"
            ],
            [
             0.4444444444444444,
             "#bd3786"
            ],
            [
             0.5555555555555556,
             "#d8576b"
            ],
            [
             0.6666666666666666,
             "#ed7953"
            ],
            [
             0.7777777777777778,
             "#fb9f3a"
            ],
            [
             0.8888888888888888,
             "#fdca26"
            ],
            [
             1,
             "#f0f921"
            ]
           ]
          },
          "colorway": [
           "#636efa",
           "#EF553B",
           "#00cc96",
           "#ab63fa",
           "#FFA15A",
           "#19d3f3",
           "#FF6692",
           "#B6E880",
           "#FF97FF",
           "#FECB52"
          ],
          "font": {
           "color": "#2a3f5f"
          },
          "geo": {
           "bgcolor": "white",
           "lakecolor": "white",
           "landcolor": "#E5ECF6",
           "showlakes": true,
           "showland": true,
           "subunitcolor": "white"
          },
          "hoverlabel": {
           "align": "left"
          },
          "hovermode": "closest",
          "mapbox": {
           "style": "light"
          },
          "paper_bgcolor": "white",
          "plot_bgcolor": "#E5ECF6",
          "polar": {
           "angularaxis": {
            "gridcolor": "white",
            "linecolor": "white",
            "ticks": ""
           },
           "bgcolor": "#E5ECF6",
           "radialaxis": {
            "gridcolor": "white",
            "linecolor": "white",
            "ticks": ""
           }
          },
          "scene": {
           "xaxis": {
            "backgroundcolor": "#E5ECF6",
            "gridcolor": "white",
            "gridwidth": 2,
            "linecolor": "white",
            "showbackground": true,
            "ticks": "",
            "zerolinecolor": "white"
           },
           "yaxis": {
            "backgroundcolor": "#E5ECF6",
            "gridcolor": "white",
            "gridwidth": 2,
            "linecolor": "white",
            "showbackground": true,
            "ticks": "",
            "zerolinecolor": "white"
           },
           "zaxis": {
            "backgroundcolor": "#E5ECF6",
            "gridcolor": "white",
            "gridwidth": 2,
            "linecolor": "white",
            "showbackground": true,
            "ticks": "",
            "zerolinecolor": "white"
           }
          },
          "shapedefaults": {
           "line": {
            "color": "#2a3f5f"
           }
          },
          "ternary": {
           "aaxis": {
            "gridcolor": "white",
            "linecolor": "white",
            "ticks": ""
           },
           "baxis": {
            "gridcolor": "white",
            "linecolor": "white",
            "ticks": ""
           },
           "bgcolor": "#E5ECF6",
           "caxis": {
            "gridcolor": "white",
            "linecolor": "white",
            "ticks": ""
           }
          },
          "title": {
           "x": 0.05
          },
          "xaxis": {
           "automargin": true,
           "gridcolor": "white",
           "linecolor": "white",
           "ticks": "",
           "title": {
            "standoff": 15
           },
           "zerolinecolor": "white",
           "zerolinewidth": 2
          },
          "yaxis": {
           "automargin": true,
           "gridcolor": "white",
           "linecolor": "white",
           "ticks": "",
           "title": {
            "standoff": 15
           },
           "zerolinecolor": "white",
           "zerolinewidth": 2
          }
         }
        },
        "title": {
         "text": "Various residual stream locations, projected onto the outputs of components in layer 0"
        },
        "xaxis": {
         "tickmode": "array",
         "ticktext": [
          "blocks.0.hook_resid_pre",
          "H0.X",
          "blocks.0.hook_resid_mid",
          "MLP0",
          "blocks.0.hook_resid_post",
          "H1.X",
          "blocks.1.hook_resid_mid",
          "MLP1",
          "blocks.1.hook_resid_post",
          "H2.X",
          "blocks.2.hook_resid_mid",
          "MLP2",
          "blocks.2.hook_resid_post",
          "H3.X",
          "blocks.3.hook_resid_mid",
          "MLP3",
          "blocks.3.hook_resid_post"
         ],
         "tickvals": [
          0,
          0.5,
          1,
          1.5,
          2,
          2.5,
          3,
          3.5,
          4,
          4.5,
          5,
          5.5,
          6,
          6.5,
          7,
          7.5,
          8
         ],
         "title": {
          "text": "Residual Stream Location"
         }
        },
        "yaxis": {
         "title": {
          "text": "Reinforcement Ratio"
         }
        }
       }
      },
      "text/html": [
       "<div>                            <div id=\"95bcaa75-3444-424b-bb0e-e1e85580d27a\" class=\"plotly-graph-div\" style=\"height:600px; width:100%;\"></div>            <script type=\"text/javascript\">                require([\"plotly\"], function(Plotly) {                    window.PLOTLYENV=window.PLOTLYENV || {};                                    if (document.getElementById(\"95bcaa75-3444-424b-bb0e-e1e85580d27a\")) {                    Plotly.newPlot(                        \"95bcaa75-3444-424b-bb0e-e1e85580d27a\",                        [{\"error_y\":{\"array\":[0.0768404807895422,0.4609192758798599,0.29198500514030457,0.32791055738925934,0.3496825397014618,0.4001688063144684,0.40851910412311554,0.7146273851394653,0.7535963654518127],\"arrayminus\":[0.07683973386883736,0.358843382447958,0.32257163897156715,0.3303693160414696,0.33045610785484314,0.41000182926654816,0.4210558719933033,0.6433259230107069,0.7224077265709639]},\"hovertemplate\":\"comp_name=H0.0\\u003cbr\\u003eresid=%{x}\\u003cbr\\u003err_q50=%{y}\\u003cextra\\u003e\\u003c\\u002fextra\\u003e\",\"legendgroup\":\"H0.0\",\"line\":{\"color\":\"#636efa\",\"dash\":\"solid\"},\"marker\":{\"symbol\":\"circle\"},\"mode\":\"lines\",\"name\":\"H0.0\",\"orientation\":\"v\",\"showlegend\":true,\"x\":[0,1,2,3,4,5,6,7,8],\"xaxis\":\"x\",\"y\":[-0.08055471628904343,0.2128908485174179,0.48433008790016174,0.6236253678798676,0.8582102358341217,0.5189550518989563,0.48772546648979187,0.7562878727912903,0.6777801513671875],\"yaxis\":\"y\",\"type\":\"scatter\",\"visible\":true},{\"error_y\":{\"array\":[0.17630696296691895,0.7534376382827759,0.38850119709968567,0.4584937244653702,0.5207121446728706,0.6299862414598465,0.6795604377985001,1.177794098854065,1.3922444581985474],\"arrayminus\":[0.1587177775800228,0.5142138004302979,0.43030061945319176,0.48292987793684006,0.5621735975146294,0.6573246121406555,0.7579773515462875,1.1605287790298462,1.3834079504013062]},\"hovertemplate\":\"comp_name=H0.1\\u003cbr\\u003eresid=%{x}\\u003cbr\\u003err_q50=%{y}\\u003cextra\\u003e\\u003c\\u002fextra\\u003e\",\"legendgroup\":\"H0.1\",\"line\":{\"color\":\"#EF553B\",\"dash\":\"solid\"},\"marker\":{\"symbol\":\"circle\"},\"mode\":\"lines\",\"name\":\"H0.1\",\"orientation\":\"v\",\"showlegend\":true,\"x\":[0,1,2,3,4,5,6,7,8],\"xaxis\":\"x\",\"y\":[0.002009924501180649,1.9406431913375854,0.3941070884466171,0.25145575404167175,-0.02413392812013626,-0.15385198593139648,-0.2134423404932022,-0.9295836687088013,-1.4070300459861755],\"yaxis\":\"y\",\"type\":\"scatter\",\"visible\":true},{\"error_y\":{\"array\":[0.026010003872215748,0.1404571831226349,0.11218559741973877,0.11672097444534302,0.10685330629348755,0.2079620510339737,0.14849428087472916,0.23281526938080788,0.22159527614712715],\"arrayminus\":[0.01678676367737353,0.09684813022613525,0.08341625332832336,0.08033749461174011,0.0808342844247818,0.2271789237856865,0.145927457138896,0.22944894060492516,0.23044148832559586]},\"hovertemplate\":\"comp_name=H0.2\\u003cbr\\u003eresid=%{x}\\u003cbr\\u003err_q50=%{y}\\u003cextra\\u003e\\u003c\\u002fextra\\u003e\",\"legendgroup\":\"H0.2\",\"line\":{\"color\":\"#00cc96\",\"dash\":\"solid\"},\"marker\":{\"symbol\":\"circle\"},\"mode\":\"lines\",\"name\":\"H0.2\",\"orientation\":\"v\",\"showlegend\":true,\"x\":[0,1,2,3,4,5,6,7,8],\"xaxis\":\"x\",\"y\":[0.011611999943852425,0.9640311896800995,1.0409389734268188,1.0083978176116943,1.0162968635559082,0.09975049644708633,0.09228034317493439,0.04655168578028679,0.04754303768277168],\"yaxis\":\"y\",\"type\":\"scatter\",\"visible\":true},{\"error_y\":{\"array\":[0.11856815591454506,0.278318427503109,0.40792734175920486,0.42355478554964066,0.4709007926285267,0.5732979252934456,0.6513019651174545,1.0167328864336014,1.088746964931488],\"arrayminus\":[0.12236391566693783,0.19937720149755478,0.3913797587156296,0.42060479521751404,0.4740663468837738,0.5915516018867493,0.6599557846784592,0.9975557029247284,1.086598426103592]},\"hovertemplate\":\"comp_name=H0.3\\u003cbr\\u003eresid=%{x}\\u003cbr\\u003err_q50=%{y}\\u003cextra\\u003e\\u003c\\u002fextra\\u003e\",\"legendgroup\":\"H0.3\",\"line\":{\"color\":\"#ab63fa\",\"dash\":\"solid\"},\"marker\":{\"symbol\":\"circle\"},\"mode\":\"lines\",\"name\":\"H0.3\",\"orientation\":\"v\",\"showlegend\":true,\"x\":[0,1,2,3,4,5,6,7,8],\"xaxis\":\"x\",\"y\":[0.08399414643645287,0.061378173530101776,-0.2192370444536209,-0.2604897916316986,-0.3341216593980789,-0.39660966396331787,-0.19805856049060822,-0.028555601835250854,0.06002134084701538],\"yaxis\":\"y\",\"type\":\"scatter\",\"visible\":true},{\"error_y\":{\"array\":[0.06826401222497225,0.2988353967666626,0.21750955283641815,0.24401230365037918,0.2784652207046747,0.32851947844028473,0.3185426741838455,0.4546220973134041,0.5693798735737801],\"arrayminus\":[0.06335316598415375,0.20948733389377594,0.24221276305615902,0.2400013953447342,0.28986804001033306,0.30757059901952744,0.317520834505558,0.4410777688026428,0.5744046866893768]},\"hovertemplate\":\"comp_name=H0.4\\u003cbr\\u003eresid=%{x}\\u003cbr\\u003err_q50=%{y}\\u003cextra\\u003e\\u003c\\u002fextra\\u003e\",\"legendgroup\":\"H0.4\",\"line\":{\"color\":\"#FFA15A\",\"dash\":\"solid\"},\"marker\":{\"symbol\":\"circle\"},\"mode\":\"lines\",\"name\":\"H0.4\",\"orientation\":\"v\",\"showlegend\":true,\"x\":[0,1,2,3,4,5,6,7,8],\"xaxis\":\"x\",\"y\":[-0.028998203575611115,1.1042519807815552,0.19031648337841034,0.08458314836025238,0.018324745818972588,-0.14780981838703156,0.0028807371854782104,0.18100500851869583,-0.1732388436794281],\"yaxis\":\"y\",\"type\":\"scatter\",\"visible\":true},{\"error_y\":{\"array\":[0.0672721117734909,0.1869184821844101,0.18675200641155243,0.2154240906238556,0.25348100066185,0.3241215646266937,0.3222930580377579,0.5621221959590912,0.6323045045137405],\"arrayminus\":[0.07053829729557037,0.18154258653521538,0.17118508368730545,0.21087206900119781,0.24889510869979858,0.3154005706310272,0.32269633188843727,0.5639836490154266,0.6523859724402428]},\"hovertemplate\":\"comp_name=H0.5\\u003cbr\\u003eresid=%{x}\\u003cbr\\u003err_q50=%{y}\\u003cextra\\u003e\\u003c\\u002fextra\\u003e\",\"legendgroup\":\"H0.5\",\"line\":{\"color\":\"#19d3f3\",\"dash\":\"solid\"},\"marker\":{\"symbol\":\"circle\"},\"mode\":\"lines\",\"name\":\"H0.5\",\"orientation\":\"v\",\"showlegend\":true,\"x\":[0,1,2,3,4,5,6,7,8],\"xaxis\":\"x\",\"y\":[-0.39206966757774353,0.38137494027614594,0.42287755012512207,0.47786498069763184,0.4139416217803955,0.46126487851142883,0.37718580663204193,0.2673472762107849,0.19174017012119293],\"yaxis\":\"y\",\"type\":\"scatter\",\"visible\":true},{\"error_y\":{\"array\":[0.10011996701359749,0.32071664184331894,0.2272309511899948,0.28126902878284454,0.3113615810871124,0.39163827896118164,0.4234228730201721,0.6959520578384399,0.8018485307693481],\"arrayminus\":[0.09548911452293396,0.41093243658542633,0.2678661271929741,0.3042677268385887,0.3129359744489193,0.3989834189414978,0.399440236389637,0.6827906891703606,0.7815393507480621]},\"hovertemplate\":\"comp_name=H0.6\\u003cbr\\u003eresid=%{x}\\u003cbr\\u003err_q50=%{y}\\u003cextra\\u003e\\u003c\\u002fextra\\u003e\",\"legendgroup\":\"H0.6\",\"line\":{\"color\":\"#FF6692\",\"dash\":\"solid\"},\"marker\":{\"symbol\":\"circle\"},\"mode\":\"lines\",\"name\":\"H0.6\",\"orientation\":\"v\",\"showlegend\":true,\"x\":[0,1,2,3,4,5,6,7,8],\"xaxis\":\"x\",\"y\":[-0.16105305403470993,-0.3211505711078644,0.2683887779712677,0.42663584649562836,0.543284684419632,0.6674133539199829,0.769158661365509,1.0987019538879395,1.3917323350906372],\"yaxis\":\"y\",\"type\":\"scatter\",\"visible\":true},{\"error_y\":{\"array\":[0.05733136460185051,0.22215008735656738,0.15394015610218048,0.17372003942728043,0.21625465154647827,0.25362442433834076,0.26793138682842255,0.42711661756038666,0.465397447347641],\"arrayminus\":[0.06311775743961334,0.3271291106939316,0.15361851081252098,0.18789953365921974,0.20531417429447174,0.25020088255405426,0.25109238736331463,0.36293954215943813,0.41106216609477997]},\"hovertemplate\":\"comp_name=H0.7\\u003cbr\\u003eresid=%{x}\\u003cbr\\u003err_q50=%{y}\\u003cextra\\u003e\\u003c\\u002fextra\\u003e\",\"legendgroup\":\"H0.7\",\"line\":{\"color\":\"#B6E880\",\"dash\":\"solid\"},\"marker\":{\"symbol\":\"circle\"},\"mode\":\"lines\",\"name\":\"H0.7\",\"orientation\":\"v\",\"showlegend\":true,\"x\":[0,1,2,3,4,5,6,7,8],\"xaxis\":\"x\",\"y\":[-0.1505804806947708,-0.5967591106891632,-0.004183772951364517,-0.0075920745730400085,0.03628715127706528,0.05639580637216568,0.1816515251994133,0.4546121209859848,0.537005215883255],\"yaxis\":\"y\",\"type\":\"scatter\",\"visible\":true},{\"error_y\":{\"array\":[0.010635531740263104,0.020833129063248634,0.020833149552345276,0.041644543409347534,0.05260750651359558,0.06960010528564453,0.1157558262348175,0.21269840002059937,0.32067811489105225],\"arrayminus\":[0.011096834205091,0.024094514548778534,0.024094536900520325,0.04846443235874176,0.05661284923553467,0.07252135872840881,0.14439085125923157,0.22986218333244324,0.3266496956348419]},\"hovertemplate\":\"comp_name=MLP0\\u003cbr\\u003eresid=%{x}\\u003cbr\\u003err_q50=%{y}\\u003cextra\\u003e\\u003c\\u002fextra\\u003e\",\"legendgroup\":\"MLP0\",\"line\":{\"color\":\"#FF97FF\",\"dash\":\"solid\"},\"marker\":{\"symbol\":\"circle\"},\"mode\":\"lines\",\"name\":\"MLP0\",\"orientation\":\"v\",\"showlegend\":true,\"x\":[0,1,2,3,4,5,6,7,8],\"xaxis\":\"x\",\"y\":[-0.020322891883552074,-0.06296739727258682,0.9370326101779938,1.0285112857818604,1.1253831386566162,1.2831040024757385,1.1701174974441528,1.838254153728485,1.9927306771278381],\"yaxis\":\"y\",\"type\":\"scatter\",\"visible\":true},{\"error_y\":{\"array\":[0.03850454092025757,0.05505190510302782,0.3603321947157383,0.4503733813762665,0.4725610315799713,0.6478673219680786,0.4676709994673729,0.9482363313436508,0.9101044684648514],\"arrayminus\":[0.038249045610427856,0.05517491139471531,0.29406116902828217,0.3357943370938301,0.42494340240955353,0.5132518857717514,0.46691837906837463,0.8279058039188385,0.9208993911743164]},\"hovertemplate\":\"comp_name=H1.0\\u003cbr\\u003eresid=%{x}\\u003cbr\\u003err_q50=%{y}\\u003cextra\\u003e\\u003c\\u002fextra\\u003e\",\"legendgroup\":\"H1.0\",\"line\":{\"color\":\"#636efa\",\"dash\":\"solid\"},\"marker\":{\"symbol\":\"circle\"},\"mode\":\"lines\",\"name\":\"H1.0\",\"orientation\":\"v\",\"showlegend\":true,\"x\":[0,1,2,3,4,5,6,7,8],\"xaxis\":\"x\",\"y\":[-0.0003918427973985672,-0.046147024258971214,-0.4318595379590988,-0.10243373364210129,-0.37647438049316406,-0.36614613234996796,-0.2972562462091446,-0.48811832070350647,-0.5689574182033539],\"yaxis\":\"y\",\"type\":\"scatter\",\"visible\":false},{\"error_y\":{\"array\":[0.0572139210999012,0.10344760492444038,0.3855888731777668,0.5269874557852745,0.5746367126703262,0.8973078727722168,0.7034479975700378,1.626945823431015,1.8203230202198029],\"arrayminus\":[0.05456709396094084,0.10381647013127804,0.5121205747127533,0.7048013135790825,0.8076426684856415,1.1446339190006256,0.9145672172307968,1.8118593096733093,2.239607095718384]},\"hovertemplate\":\"comp_name=H1.1\\u003cbr\\u003eresid=%{x}\\u003cbr\\u003err_q50=%{y}\\u003cextra\\u003e\\u003c\\u002fextra\\u003e\",\"legendgroup\":\"H1.1\",\"line\":{\"color\":\"#EF553B\",\"dash\":\"solid\"},\"marker\":{\"symbol\":\"circle\"},\"mode\":\"lines\",\"name\":\"H1.1\",\"orientation\":\"v\",\"showlegend\":true,\"x\":[0,1,2,3,4,5,6,7,8],\"xaxis\":\"x\",\"y\":[-0.016368634067475796,-0.05324804596602917,-0.6149215698242188,0.19547343999147415,0.016107380390167236,-0.15247580409049988,0.14735877513885498,-1.3126085996627808,-1.5278310775756836],\"yaxis\":\"y\",\"type\":\"scatter\",\"visible\":false},{\"error_y\":{\"array\":[0.05028338823467493,0.07920616306364536,0.33138400316238403,0.4658348709344864,0.5472619161009789,0.6609060019254684,0.5952117517590523,1.0475673601031303,1.1997434347867966],\"arrayminus\":[0.04972888994961977,0.08016709610819817,0.37010693550109863,0.45118746906518936,0.5697230696678162,0.6911413967609406,0.6600032299757004,1.1122806668281555,1.3457825779914856]},\"hovertemplate\":\"comp_name=H1.2\\u003cbr\\u003eresid=%{x}\\u003cbr\\u003err_q50=%{y}\\u003cextra\\u003e\\u003c\\u002fextra\\u003e\",\"legendgroup\":\"H1.2\",\"line\":{\"color\":\"#00cc96\",\"dash\":\"solid\"},\"marker\":{\"symbol\":\"circle\"},\"mode\":\"lines\",\"name\":\"H1.2\",\"orientation\":\"v\",\"showlegend\":true,\"x\":[0,1,2,3,4,5,6,7,8],\"xaxis\":\"x\",\"y\":[-0.013899116776883602,-0.034911613911390305,-0.7253043949604034,-0.2020592913031578,-0.38812465965747833,-0.4856523871421814,-0.20479534566402435,-1.343035101890564,-1.7061813473701477],\"yaxis\":\"y\",\"type\":\"scatter\",\"visible\":false},{\"error_y\":{\"array\":[0.04978893790394068,0.150418802164495,0.4309251308441162,0.626655325293541,0.6713250055909157,0.9512337185442448,0.6804275438189507,1.1690046340227127,1.4018844664096832],\"arrayminus\":[0.04905403405427933,0.1805131658911705,0.39127638936042786,0.5361361503601074,0.6162532567977905,0.7964771091938019,0.597811758518219,1.0211164951324463,1.177088439464569]},\"hovertemplate\":\"comp_name=H1.3\\u003cbr\\u003eresid=%{x}\\u003cbr\\u003err_q50=%{y}\\u003cextra\\u003e\\u003c\\u002fextra\\u003e\",\"legendgroup\":\"H1.3\",\"line\":{\"color\":\"#ab63fa\",\"dash\":\"solid\"},\"marker\":{\"symbol\":\"circle\"},\"mode\":\"lines\",\"name\":\"H1.3\",\"orientation\":\"v\",\"showlegend\":true,\"x\":[0,1,2,3,4,5,6,7,8],\"xaxis\":\"x\",\"y\":[-0.06262926384806633,-0.17624597996473312,-1.2299827933311462,-0.9196196794509888,-0.9035568833351135,-1.1713000535964966,-0.823606938123703,-2.076146960258484,-2.1255563497543335],\"yaxis\":\"y\",\"type\":\"scatter\",\"visible\":false},{\"error_y\":{\"array\":[0.05806438624858856,0.08818001113831997,0.3167441841214895,0.44010308384895325,0.49619418382644653,0.6998946517705917,0.5735893100500107,1.0947959870100021,1.2400241494178772],\"arrayminus\":[0.05987180583178997,0.08860960602760315,0.38322706520557404,0.5399579182267189,0.6205618232488632,0.8539268970489502,0.7049015760421753,1.4177414178848267,1.6622660756111145]},\"hovertemplate\":\"comp_name=H1.4\\u003cbr\\u003eresid=%{x}\\u003cbr\\u003err_q50=%{y}\\u003cextra\\u003e\\u003c\\u002fextra\\u003e\",\"legendgroup\":\"H1.4\",\"line\":{\"color\":\"#FFA15A\",\"dash\":\"solid\"},\"marker\":{\"symbol\":\"circle\"},\"mode\":\"lines\",\"name\":\"H1.4\",\"orientation\":\"v\",\"showlegend\":true,\"x\":[0,1,2,3,4,5,6,7,8],\"xaxis\":\"x\",\"y\":[-0.01000199280679226,-0.019218526780605316,-0.4104693979024887,0.4120341092348099,0.13814949989318848,0.18823406100273132,0.3273135721683502,-0.33748337626457214,-0.6538912057876587],\"yaxis\":\"y\",\"type\":\"scatter\",\"visible\":false},{\"error_y\":{\"array\":[0.05708714760839939,0.19547258410602808,0.36545540392398834,0.45025211572647095,0.5461738407611847,0.6737426221370697,0.5766918659210205,1.2132420986890793,1.4502201154828072],\"arrayminus\":[0.05248442478477955,0.26474807411432266,0.5828353017568588,0.7046949788928032,0.8550853133201599,1.0651280283927917,0.9091102480888367,1.5903838276863098,2.07929927110672]},\"hovertemplate\":\"comp_name=H1.5\\u003cbr\\u003eresid=%{x}\\u003cbr\\u003err_q50=%{y}\\u003cextra\\u003e\\u003c\\u002fextra\\u003e\",\"legendgroup\":\"H1.5\",\"line\":{\"color\":\"#19d3f3\",\"dash\":\"solid\"},\"marker\":{\"symbol\":\"circle\"},\"mode\":\"lines\",\"name\":\"H1.5\",\"orientation\":\"v\",\"showlegend\":true,\"x\":[0,1,2,3,4,5,6,7,8],\"xaxis\":\"x\",\"y\":[-0.01836388371884823,-0.23936951905488968,-0.0700433999300003,0.7679769098758698,0.6515065133571625,0.554101437330246,0.5151881575584412,-1.9876882433891296,-1.8527364134788513],\"yaxis\":\"y\",\"type\":\"scatter\",\"visible\":false},{\"error_y\":{\"array\":[0.05279367417097092,0.0880240686237812,0.7123242095112801,0.978244349360466,1.1077903509140015,1.4336483478546143,1.1446137577295303,2.437577873468399,2.682001605629921],\"arrayminus\":[0.05216678883880377,0.08654025383293629,0.731098860502243,0.901111364364624,1.2043781578540802,1.4630102813243866,1.3644305616617203,2.6238927245140076,3.0479538440704346]},\"hovertemplate\":\"comp_name=H1.6\\u003cbr\\u003eresid=%{x}\\u003cbr\\u003err_q50=%{y}\\u003cextra\\u003e\\u003c\\u002fextra\\u003e\",\"legendgroup\":\"H1.6\",\"line\":{\"color\":\"#FF6692\",\"dash\":\"solid\"},\"marker\":{\"symbol\":\"circle\"},\"mode\":\"lines\",\"name\":\"H1.6\",\"orientation\":\"v\",\"showlegend\":true,\"x\":[0,1,2,3,4,5,6,7,8],\"xaxis\":\"x\",\"y\":[-0.0003452068194746971,0.038419436663389206,-0.5161432325839996,0.21189112961292267,0.0035316944122314453,-0.21317309141159058,-0.01981242001056671,-1.6410555243492126,-2.05851674079895],\"yaxis\":\"y\",\"type\":\"scatter\",\"visible\":false},{\"error_y\":{\"array\":[0.055449699983000755,0.1384331313893199,0.3367414101958275,0.436244934797287,0.4803826343268156,0.628544494509697,0.551692359149456,1.0864401459693909,1.2756390571594238],\"arrayminus\":[0.05801934748888016,0.1499062366783619,0.382722407579422,0.49839428067207336,0.5535946488380432,0.7374295592308044,0.6448011696338654,1.1913493275642395,1.484385907649994]},\"hovertemplate\":\"comp_name=H1.7\\u003cbr\\u003eresid=%{x}\\u003cbr\\u003err_q50=%{y}\\u003cextra\\u003e\\u003c\\u002fextra\\u003e\",\"legendgroup\":\"H1.7\",\"line\":{\"color\":\"#B6E880\",\"dash\":\"solid\"},\"marker\":{\"symbol\":\"circle\"},\"mode\":\"lines\",\"name\":\"H1.7\",\"orientation\":\"v\",\"showlegend\":true,\"x\":[0,1,2,3,4,5,6,7,8],\"xaxis\":\"x\",\"y\":[-0.006751444190740585,-0.0911996029317379,-0.8295400738716125,-0.28389693796634674,-0.3897255212068558,-0.830999344587326,-0.5260921716690063,-2.2146103382110596,-2.380617618560791],\"yaxis\":\"y\",\"type\":\"scatter\",\"visible\":false},{\"error_y\":{\"array\":[0.01431488897651434,0.025378732942044735,0.15055999904870987,0.168856181204319,0.16885599493980408,0.21237120032310486,0.2348490059375763,0.5086598992347717,0.6949466466903687],\"arrayminus\":[0.014979364816099405,0.027880537323653698,0.16650278866291046,0.22061672993004322,0.22061674296855927,0.32466334104537964,0.3125265836715698,0.5868778228759766,0.7168663740158081]},\"hovertemplate\":\"comp_name=MLP1\\u003cbr\\u003eresid=%{x}\\u003cbr\\u003err_q50=%{y}\\u003cextra\\u003e\\u003c\\u002fextra\\u003e\",\"legendgroup\":\"MLP1\",\"line\":{\"color\":\"#FF97FF\",\"dash\":\"solid\"},\"marker\":{\"symbol\":\"circle\"},\"mode\":\"lines\",\"name\":\"MLP1\",\"orientation\":\"v\",\"showlegend\":true,\"x\":[0,1,2,3,4,5,6,7,8],\"xaxis\":\"x\",\"y\":[-0.0017475294880568981,-0.01785331219434738,0.2199961468577385,0.1888473927974701,1.1888474225997925,1.2417632937431335,1.2994630336761475,2.3826221227645874,2.510872721672058],\"yaxis\":\"y\",\"type\":\"scatter\",\"visible\":false},{\"error_y\":{\"array\":[0.03334452584385872,0.11772800050675869,0.32101312279701233,0.40378689765930176,0.4623904824256897,0.5250580906867981,0.6184815168380737,1.0803089141845703,1.3082975149154663],\"arrayminus\":[0.033991682808846235,0.1007065623998642,0.35368891060352325,0.3934602737426758,0.612777978181839,0.5761179327964783,0.8027198314666748,1.4104755520820618,1.5429683327674866]},\"hovertemplate\":\"comp_name=H2.0\\u003cbr\\u003eresid=%{x}\\u003cbr\\u003err_q50=%{y}\\u003cextra\\u003e\\u003c\\u002fextra\\u003e\",\"legendgroup\":\"H2.0\",\"line\":{\"color\":\"#636efa\",\"dash\":\"solid\"},\"marker\":{\"symbol\":\"circle\"},\"mode\":\"lines\",\"name\":\"H2.0\",\"orientation\":\"v\",\"showlegend\":true,\"x\":[0,1,2,3,4,5,6,7,8],\"xaxis\":\"x\",\"y\":[-0.010893643368035555,-0.0034797508269548416,0.9949640333652496,1.2788636684417725,1.5433708429336548,2.557275652885437,2.055061101913452,4.557680130004883,4.996902704238892],\"yaxis\":\"y\",\"type\":\"scatter\",\"visible\":false},{\"error_y\":{\"array\":[0.03827745886519551,0.12424861080944538,0.33962030708789825,0.41965271532535553,0.472982008010149,0.6387784034013748,0.4563854709267616,1.1716645956039429,1.2819963097572327],\"arrayminus\":[0.04019699152559042,0.12858526036143303,0.2915835790336132,0.3762090131640434,0.40976958349347115,0.6138661801815033,0.5067512765526772,1.350043073296547,1.2755842506885529]},\"hovertemplate\":\"comp_name=H2.1\\u003cbr\\u003eresid=%{x}\\u003cbr\\u003err_q50=%{y}\\u003cextra\\u003e\\u003c\\u002fextra\\u003e\",\"legendgroup\":\"H2.1\",\"line\":{\"color\":\"#EF553B\",\"dash\":\"solid\"},\"marker\":{\"symbol\":\"circle\"},\"mode\":\"lines\",\"name\":\"H2.1\",\"orientation\":\"v\",\"showlegend\":true,\"x\":[0,1,2,3,4,5,6,7,8],\"xaxis\":\"x\",\"y\":[-0.012398596853017807,-0.06931998208165169,0.30648429691791534,0.09869977831840515,-0.06346580758690834,0.3191438168287277,-0.12067898362874985,-0.4955265372991562,-0.14647924900054932],\"yaxis\":\"y\",\"type\":\"scatter\",\"visible\":false},{\"error_y\":{\"array\":[0.029077271930873394,0.15778296440839767,0.20712064765393734,0.2339826636016369,0.24808358028531075,0.25311902165412903,0.211844801902771,0.5062048733234406,0.5807127952575684],\"arrayminus\":[0.030343373771756887,0.15653114020824432,0.20630399882793427,0.22867243736982346,0.24887606501579285,0.23094920814037323,0.20471158623695374,0.4737270027399063,0.5123458728194237]},\"hovertemplate\":\"comp_name=H2.2\\u003cbr\\u003eresid=%{x}\\u003cbr\\u003err_q50=%{y}\\u003cextra\\u003e\\u003c\\u002fextra\\u003e\",\"legendgroup\":\"H2.2\",\"line\":{\"color\":\"#00cc96\",\"dash\":\"solid\"},\"marker\":{\"symbol\":\"circle\"},\"mode\":\"lines\",\"name\":\"H2.2\",\"orientation\":\"v\",\"showlegend\":true,\"x\":[0,1,2,3,4,5,6,7,8],\"xaxis\":\"x\",\"y\":[-0.008342052344232798,-0.3061988949775696,-0.2534756064414978,-0.07122346013784409,-0.11325007677078247,1.1438767910003662,0.9968663156032562,1.0638312697410583,0.8353137969970703],\"yaxis\":\"y\",\"type\":\"scatter\",\"visible\":false},{\"error_y\":{\"array\":[0.03638171777129173,0.16648674942553043,0.27009496837854385,0.35034020245075226,0.36398085951805115,0.44708508253097534,0.3618524372577667,0.8051288723945618,1.0091642141342163],\"arrayminus\":[0.03660124633461237,0.1979832649230957,0.24467842280864716,0.3085167482495308,0.3168966956436634,0.41451406478881836,0.3024093806743622,0.7092876732349396,0.8525603413581848]},\"hovertemplate\":\"comp_name=H2.3\\u003cbr\\u003eresid=%{x}\\u003cbr\\u003err_q50=%{y}\\u003cextra\\u003e\\u003c\\u002fextra\\u003e\",\"legendgroup\":\"H2.3\",\"line\":{\"color\":\"#ab63fa\",\"dash\":\"solid\"},\"marker\":{\"symbol\":\"circle\"},\"mode\":\"lines\",\"name\":\"H2.3\",\"orientation\":\"v\",\"showlegend\":true,\"x\":[0,1,2,3,4,5,6,7,8],\"xaxis\":\"x\",\"y\":[-0.008107367902994156,-0.13179711997509003,0.20039528608322144,0.5519996583461761,0.5357820093631744,1.910330057144165,1.4498300552368164,2.5030252933502197,2.598127245903015],\"yaxis\":\"y\",\"type\":\"scatter\",\"visible\":false},{\"error_y\":{\"array\":[0.032330887857824564,0.20210125856101513,0.25107330083847046,0.27427615970373154,0.2937895208597183,0.3009225130081177,0.2809276580810547,0.603027731180191,0.7087534666061401],\"arrayminus\":[0.034640650264918804,0.24982725083827972,0.3103332668542862,0.33713944256305695,0.34883707761764526,0.33070650696754456,0.3139859288930893,0.611935555934906,0.6685508191585541]},\"hovertemplate\":\"comp_name=H2.4\\u003cbr\\u003eresid=%{x}\\u003cbr\\u003err_q50=%{y}\\u003cextra\\u003e\\u003c\\u002fextra\\u003e\",\"legendgroup\":\"H2.4\",\"line\":{\"color\":\"#FFA15A\",\"dash\":\"solid\"},\"marker\":{\"symbol\":\"circle\"},\"mode\":\"lines\",\"name\":\"H2.4\",\"orientation\":\"v\",\"showlegend\":true,\"x\":[0,1,2,3,4,5,6,7,8],\"xaxis\":\"x\",\"y\":[-0.01035866979509592,-0.3114306777715683,-0.29541683197021484,-0.15198497474193573,-0.14517538994550705,1.1064810156822205,1.000787079334259,1.3023932576179504,1.367126226425171],\"yaxis\":\"y\",\"type\":\"scatter\",\"visible\":false},{\"error_y\":{\"array\":[0.03382539376616478,0.21650594472885132,0.2760142832994461,0.3028569668531418,0.31999924778938293,0.3452054262161255,0.31906314194202423,0.6800703853368759,0.7388662621378899],\"arrayminus\":[0.03967877849936485,0.21525976061820984,0.31233423948287964,0.368320494890213,0.396761953830719,0.43337126821279526,0.39857152849435806,0.8034404516220093,0.8896599486470222]},\"hovertemplate\":\"comp_name=H2.5\\u003cbr\\u003eresid=%{x}\\u003cbr\\u003err_q50=%{y}\\u003cextra\\u003e\\u003c\\u002fextra\\u003e\",\"legendgroup\":\"H2.5\",\"line\":{\"color\":\"#19d3f3\",\"dash\":\"solid\"},\"marker\":{\"symbol\":\"circle\"},\"mode\":\"lines\",\"name\":\"H2.5\",\"orientation\":\"v\",\"showlegend\":true,\"x\":[0,1,2,3,4,5,6,7,8],\"xaxis\":\"x\",\"y\":[-0.01075010932981968,-0.6414127051830292,-0.7871376276016235,-0.6690279245376587,-0.7216687500476837,0.6742262542247772,0.5727305114269257,0.2501264810562134,0.21660376340150833],\"yaxis\":\"y\",\"type\":\"scatter\",\"visible\":false},{\"error_y\":{\"array\":[0.02746736491099,0.15898728370666504,0.2479378655552864,0.35828299820423126,0.33936505019664764,0.4486028552055359,0.3690289258956909,0.7849053144454956,1.0244215726852417],\"arrayminus\":[0.029371185693889856,0.1760786771774292,0.28740060701966286,0.38260601460933685,0.37226250767707825,0.5285812020301819,0.4049956798553467,0.8826434016227722,1.0595290064811707]},\"hovertemplate\":\"comp_name=H2.6\\u003cbr\\u003eresid=%{x}\\u003cbr\\u003err_q50=%{y}\\u003cextra\\u003e\\u003c\\u002fextra\\u003e\",\"legendgroup\":\"H2.6\",\"line\":{\"color\":\"#FF6692\",\"dash\":\"solid\"},\"marker\":{\"symbol\":\"circle\"},\"mode\":\"lines\",\"name\":\"H2.6\",\"orientation\":\"v\",\"showlegend\":true,\"x\":[0,1,2,3,4,5,6,7,8],\"xaxis\":\"x\",\"y\":[-0.007753846701234579,-0.41868679225444794,0.08971002697944641,0.4081905633211136,0.4997073858976364,2.0624743700027466,1.572682499885559,3.3458690643310547,3.425710439682007],\"yaxis\":\"y\",\"type\":\"scatter\",\"visible\":false},{\"error_y\":{\"array\":[0.04071083152666688,0.2595304250717163,0.3134707137942314,0.3679520785808563,0.3969390094280243,0.5195566117763519,0.4040578603744507,0.8577977418899536,1.022958517074585],\"arrayminus\":[0.04057907545939088,0.2519626319408417,0.35634416341781616,0.4004829078912735,0.4345492720603943,0.5397606492042542,0.4334314614534378,0.9523976743221283,1.0252548344433308]},\"hovertemplate\":\"comp_name=H2.7\\u003cbr\\u003eresid=%{x}\\u003cbr\\u003err_q50=%{y}\\u003cextra\\u003e\\u003c\\u002fextra\\u003e\",\"legendgroup\":\"H2.7\",\"line\":{\"color\":\"#B6E880\",\"dash\":\"solid\"},\"marker\":{\"symbol\":\"circle\"},\"mode\":\"lines\",\"name\":\"H2.7\",\"orientation\":\"v\",\"showlegend\":true,\"x\":[0,1,2,3,4,5,6,7,8],\"xaxis\":\"x\",\"y\":[-0.013194320257753134,-0.5560604631900787,-0.4346776306629181,-0.311458095908165,-0.35922127962112427,1.1252660155296326,0.8734826743602753,1.1785010695457458,1.2241292595863342],\"yaxis\":\"y\",\"type\":\"scatter\",\"visible\":false},{\"error_y\":{\"array\":[0.009368926752358675,0.03906681900843978,0.1565373265184462,0.20675864070653915,0.23362444154918194,0.3356217476539314,0.3356218785047531,0.5566417872905731,0.6070181727409363],\"arrayminus\":[0.009303441504016519,0.047511391807347536,0.16900014132261276,0.2755211740732193,0.2680380716919899,0.49115198850631714,0.49115191027522087,0.8770379349589348,0.8751426450908184]},\"hovertemplate\":\"comp_name=MLP2\\u003cbr\\u003eresid=%{x}\\u003cbr\\u003err_q50=%{y}\\u003cextra\\u003e\\u003c\\u002fextra\\u003e\",\"legendgroup\":\"MLP2\",\"line\":{\"color\":\"#FF97FF\",\"dash\":\"solid\"},\"marker\":{\"symbol\":\"circle\"},\"mode\":\"lines\",\"name\":\"MLP2\",\"orientation\":\"v\",\"showlegend\":true,\"x\":[0,1,2,3,4,5,6,7,8],\"xaxis\":\"x\",\"y\":[-0.0018577880691736937,-0.009111905004829168,-0.15440451353788376,-0.22384580224752426,-0.2005200833082199,-0.36204323172569275,0.6379566490650177,0.8543704748153687,0.8583055734634399],\"yaxis\":\"y\",\"type\":\"scatter\",\"visible\":false},{\"error_y\":{\"array\":[0.01716715795919299,0.04487960459664464,0.13444619625806808,0.1633833795785904,0.20378753542900085,0.2796260118484497,0.27593794465065,0.6196390390396118,0.7774602770805359],\"arrayminus\":[0.01632378902286291,0.0417161020450294,0.09552178531885147,0.11414836533367634,0.14796704798936844,0.19810477644205093,0.1926235854625702,0.4819927215576172,0.6045540571212769]},\"hovertemplate\":\"comp_name=H3.0\\u003cbr\\u003eresid=%{x}\\u003cbr\\u003err_q50=%{y}\\u003cextra\\u003e\\u003c\\u002fextra\\u003e\",\"legendgroup\":\"H3.0\",\"line\":{\"color\":\"#636efa\",\"dash\":\"solid\"},\"marker\":{\"symbol\":\"circle\"},\"mode\":\"lines\",\"name\":\"H3.0\",\"orientation\":\"v\",\"showlegend\":true,\"x\":[0,1,2,3,4,5,6,7,8],\"xaxis\":\"x\",\"y\":[0.00029200688004493713,0.006317625287920237,0.1579614207148552,0.23264940828084946,0.3174177408218384,0.46921975910663605,0.462030291557312,2.4972949028015137,2.435774087905884],\"yaxis\":\"y\",\"type\":\"scatter\",\"visible\":false},{\"error_y\":{\"array\":[0.028359532356262207,0.07796270586550236,0.3880358934402466,0.4750085175037384,0.6691842675209045,0.8071818351745605,1.1017879247665405,2.1372642517089844,2.6620028018951416],\"arrayminus\":[0.030336881056427956,0.0656262505799532,0.46067412942647934,0.5533978044986725,0.8855424523353577,1.1164251565933228,1.428812861442566,3.187432289123535,3.25808584690094]},\"hovertemplate\":\"comp_name=H3.1\\u003cbr\\u003eresid=%{x}\\u003cbr\\u003err_q50=%{y}\\u003cextra\\u003e\\u003c\\u002fextra\\u003e\",\"legendgroup\":\"H3.1\",\"line\":{\"color\":\"#EF553B\",\"dash\":\"solid\"},\"marker\":{\"symbol\":\"circle\"},\"mode\":\"lines\",\"name\":\"H3.1\",\"orientation\":\"v\",\"showlegend\":true,\"x\":[0,1,2,3,4,5,6,7,8],\"xaxis\":\"x\",\"y\":[-0.003944653086364269,0.026579048484563828,0.8981147408485413,1.1200712323188782,1.691766083240509,2.3137582540512085,2.5720731019973755,7.516945838928223,7.641029119491577],\"yaxis\":\"y\",\"type\":\"scatter\",\"visible\":false},{\"error_y\":{\"array\":[0.02537151542492211,0.06136018875986338,0.6214402616024017,0.7429603338241577,1.0619015097618103,1.3705946207046509,1.6561954021453857,3.277672290802002,3.9976296424865723],\"arrayminus\":[0.033302388386800885,0.059939226135611534,0.8442558124661446,0.9676856845617294,1.5213027894496918,1.9362753331661224,2.2887478470802307,5.5976479053497314,5.516672134399414]},\"hovertemplate\":\"comp_name=H3.2\\u003cbr\\u003eresid=%{x}\\u003cbr\\u003err_q50=%{y}\\u003cextra\\u003e\\u003c\\u002fextra\\u003e\",\"legendgroup\":\"H3.2\",\"line\":{\"color\":\"#00cc96\",\"dash\":\"solid\"},\"marker\":{\"symbol\":\"circle\"},\"mode\":\"lines\",\"name\":\"H3.2\",\"orientation\":\"v\",\"showlegend\":true,\"x\":[0,1,2,3,4,5,6,7,8],\"xaxis\":\"x\",\"y\":[-0.0065934748854488134,0.0038337716832756996,1.3132780194282532,1.5689798593521118,2.3492058515548706,3.10880970954895,3.3386571407318115,9.927696228027344,9.76830768585205],\"yaxis\":\"y\",\"type\":\"scatter\",\"visible\":false},{\"error_y\":{\"array\":[0.015619993675500154,0.02555007580667734,0.13074001669883728,0.17215605080127716,0.23325121402740479,0.29203975200653076,0.3551512360572815,0.6231837272644043,0.8539295196533203],\"arrayminus\":[0.015731004532426596,0.025151934009045362,0.15048415213823318,0.17218102514743805,0.2995222508907318,0.3258956968784332,0.5157557129859924,0.8628749251365662,0.9570925235748291]},\"hovertemplate\":\"comp_name=H3.3\\u003cbr\\u003eresid=%{x}\\u003cbr\\u003err_q50=%{y}\\u003cextra\\u003e\\u003c\\u002fextra\\u003e\",\"legendgroup\":\"H3.3\",\"line\":{\"color\":\"#ab63fa\",\"dash\":\"solid\"},\"marker\":{\"symbol\":\"circle\"},\"mode\":\"lines\",\"name\":\"H3.3\",\"orientation\":\"v\",\"showlegend\":true,\"x\":[0,1,2,3,4,5,6,7,8],\"xaxis\":\"x\",\"y\":[-0.004315162543207407,0.02683012466877699,0.5648669898509979,0.6872462332248688,1.0739745497703552,1.4280678629875183,1.5890962481498718,4.834958553314209,4.99139142036438],\"yaxis\":\"y\",\"type\":\"scatter\",\"visible\":false},{\"error_y\":{\"array\":[0.031073373276740313,0.10113941691815853,0.14770482853055,0.18235868960618973,0.182595856487751,0.21322375535964966,0.21309543773531914,0.6210692524909973,0.5896778404712677],\"arrayminus\":[0.023633620236068964,0.067345155403018,0.10549196414649487,0.13064603693783283,0.16023221611976624,0.20609270967543125,0.2626892812550068,0.9218848794698715,1.077700912952423]},\"hovertemplate\":\"comp_name=H3.4\\u003cbr\\u003eresid=%{x}\\u003cbr\\u003err_q50=%{y}\\u003cextra\\u003e\\u003c\\u002fextra\\u003e\",\"legendgroup\":\"H3.4\",\"line\":{\"color\":\"#FFA15A\",\"dash\":\"solid\"},\"marker\":{\"symbol\":\"circle\"},\"mode\":\"lines\",\"name\":\"H3.4\",\"orientation\":\"v\",\"showlegend\":true,\"x\":[0,1,2,3,4,5,6,7,8],\"xaxis\":\"x\",\"y\":[0.005213579628616571,0.02004900388419628,0.06310083717107773,0.09964378923177719,0.0880892351269722,0.1204880028963089,0.07697798684239388,1.543192744255066,1.3840850591659546],\"yaxis\":\"y\",\"type\":\"scatter\",\"visible\":false},{\"error_y\":{\"array\":[0.010875202133320272,0.022279041353613138,0.10935094952583313,0.13791227340698242,0.16420647501945496,0.1945067048072815,0.22463589906692505,0.3158379793167114,0.5758601427078247],\"arrayminus\":[0.009496254613623023,0.021513456711545587,0.11147534474730492,0.14343824982643127,0.17665618658065796,0.20936214923858643,0.247661754488945,0.33803677558898926,0.563675045967102]},\"hovertemplate\":\"comp_name=H3.5\\u003cbr\\u003eresid=%{x}\\u003cbr\\u003err_q50=%{y}\\u003cextra\\u003e\\u003c\\u002fextra\\u003e\",\"legendgroup\":\"H3.5\",\"line\":{\"color\":\"#19d3f3\",\"dash\":\"solid\"},\"marker\":{\"symbol\":\"circle\"},\"mode\":\"lines\",\"name\":\"H3.5\",\"orientation\":\"v\",\"showlegend\":true,\"x\":[0,1,2,3,4,5,6,7,8],\"xaxis\":\"x\",\"y\":[-0.005583992227911949,0.006140329409390688,0.3183182626962662,0.4180489331483841,0.620491087436676,0.9342250227928162,0.9876656532287598,3.2030142545700073,3.4476999044418335],\"yaxis\":\"y\",\"type\":\"scatter\",\"visible\":false},{\"error_y\":{\"array\":[0.01605537161231041,0.04487015772610903,0.12286704778671265,0.15354856103658676,0.1918782815337181,0.2513440102338791,0.2614991366863251,0.6638810038566589,0.7797123789787292],\"arrayminus\":[0.015955536160618067,0.05145453568547964,0.09636133629828691,0.12170614954084158,0.1412404179573059,0.17983761988580227,0.16670993901789188,0.47344934940338135,0.5003818571567535]},\"hovertemplate\":\"comp_name=H3.6\\u003cbr\\u003eresid=%{x}\\u003cbr\\u003err_q50=%{y}\\u003cextra\\u003e\\u003c\\u002fextra\\u003e\",\"legendgroup\":\"H3.6\",\"line\":{\"color\":\"#FF6692\",\"dash\":\"solid\"},\"marker\":{\"symbol\":\"circle\"},\"mode\":\"lines\",\"name\":\"H3.6\",\"orientation\":\"v\",\"showlegend\":true,\"x\":[0,1,2,3,4,5,6,7,8],\"xaxis\":\"x\",\"y\":[-0.0018407497555017471,-0.0035165688022971153,0.10217157378792763,0.13001655787229538,0.19009149819612503,0.2836105227470398,0.2694924622774124,2.0534884929656982,2.010762333869934],\"yaxis\":\"y\",\"type\":\"scatter\",\"visible\":false},{\"error_y\":{\"array\":[0.02902332693338394,0.12045668624341488,0.3078371062874794,0.3794572502374649,0.5044130831956863,0.6475270688533783,0.717503547668457,1.7237910032272339,1.551430344581604],\"arrayminus\":[0.03120041871443391,0.07756286766380072,0.17022655438631773,0.2107134871184826,0.29997249878942966,0.4015970677137375,0.4513999819755554,1.2186095416545868,1.109666645526886]},\"hovertemplate\":\"comp_name=H3.7\\u003cbr\\u003eresid=%{x}\\u003cbr\\u003err_q50=%{y}\\u003cextra\\u003e\\u003c\\u002fextra\\u003e\",\"legendgroup\":\"H3.7\",\"line\":{\"color\":\"#B6E880\",\"dash\":\"solid\"},\"marker\":{\"symbol\":\"circle\"},\"mode\":\"lines\",\"name\":\"H3.7\",\"orientation\":\"v\",\"showlegend\":true,\"x\":[0,1,2,3,4,5,6,7,8],\"xaxis\":\"x\",\"y\":[-0.003003173042088747,0.034167131409049034,0.20042116194963455,0.25701357424259186,0.3865441828966141,0.541820615530014,0.5606156885623932,2.8422216176986694,2.6074851751327515],\"yaxis\":\"y\",\"type\":\"scatter\",\"visible\":false},{\"error_y\":{\"array\":[0.004933554213494062,0.012297657201997936,0.05534356087446213,0.07008607871830463,0.09384379163384438,0.13538073748350143,0.12863526493310928,0.35194965451955795,0.3519492745399475],\"arrayminus\":[0.0050153027987107635,0.01486175088211894,0.08841038215905428,0.11013241484761238,0.1496005840599537,0.20885583385825157,0.21154792234301567,0.5424129739403725,0.5424129813909531]},\"hovertemplate\":\"comp_name=MLP3\\u003cbr\\u003eresid=%{x}\\u003cbr\\u003err_q50=%{y}\\u003cextra\\u003e\\u003c\\u002fextra\\u003e\",\"legendgroup\":\"MLP3\",\"line\":{\"color\":\"#FF97FF\",\"dash\":\"solid\"},\"marker\":{\"symbol\":\"circle\"},\"mode\":\"lines\",\"name\":\"MLP3\",\"orientation\":\"v\",\"showlegend\":true,\"x\":[0,1,2,3,4,5,6,7,8],\"xaxis\":\"x\",\"y\":[-0.0007899689953774214,-0.0055946907959878445,0.03557171672582626,0.03181933052837849,0.05540402978658676,0.0653359442949295,0.07065315172076225,0.12798655778169632,1.1279865503311157],\"yaxis\":\"y\",\"type\":\"scatter\",\"visible\":false}],                        {\"template\":{\"data\":{\"histogram2dcontour\":[{\"type\":\"histogram2dcontour\",\"colorbar\":{\"outlinewidth\":0,\"ticks\":\"\"},\"colorscale\":[[0.0,\"#0d0887\"],[0.1111111111111111,\"#46039f\"],[0.2222222222222222,\"#7201a8\"],[0.3333333333333333,\"#9c179e\"],[0.4444444444444444,\"#bd3786\"],[0.5555555555555556,\"#d8576b\"],[0.6666666666666666,\"#ed7953\"],[0.7777777777777778,\"#fb9f3a\"],[0.8888888888888888,\"#fdca26\"],[1.0,\"#f0f921\"]]}],\"choropleth\":[{\"type\":\"choropleth\",\"colorbar\":{\"outlinewidth\":0,\"ticks\":\"\"}}],\"histogram2d\":[{\"type\":\"histogram2d\",\"colorbar\":{\"outlinewidth\":0,\"ticks\":\"\"},\"colorscale\":[[0.0,\"#0d0887\"],[0.1111111111111111,\"#46039f\"],[0.2222222222222222,\"#7201a8\"],[0.3333333333333333,\"#9c179e\"],[0.4444444444444444,\"#bd3786\"],[0.5555555555555556,\"#d8576b\"],[0.6666666666666666,\"#ed7953\"],[0.7777777777777778,\"#fb9f3a\"],[0.8888888888888888,\"#fdca26\"],[1.0,\"#f0f921\"]]}],\"heatmap\":[{\"type\":\"heatmap\",\"colorbar\":{\"outlinewidth\":0,\"ticks\":\"\"},\"colorscale\":[[0.0,\"#0d0887\"],[0.1111111111111111,\"#46039f\"],[0.2222222222222222,\"#7201a8\"],[0.3333333333333333,\"#9c179e\"],[0.4444444444444444,\"#bd3786\"],[0.5555555555555556,\"#d8576b\"],[0.6666666666666666,\"#ed7953\"],[0.7777777777777778,\"#fb9f3a\"],[0.8888888888888888,\"#fdca26\"],[1.0,\"#f0f921\"]]}],\"heatmapgl\":[{\"type\":\"heatmapgl\",\"colorbar\":{\"outlinewidth\":0,\"ticks\":\"\"},\"colorscale\":[[0.0,\"#0d0887\"],[0.1111111111111111,\"#46039f\"],[0.2222222222222222,\"#7201a8\"],[0.3333333333333333,\"#9c179e\"],[0.4444444444444444,\"#bd3786\"],[0.5555555555555556,\"#d8576b\"],[0.6666666666666666,\"#ed7953\"],[0.7777777777777778,\"#fb9f3a\"],[0.8888888888888888,\"#fdca26\"],[1.0,\"#f0f921\"]]}],\"contourcarpet\":[{\"type\":\"contourcarpet\",\"colorbar\":{\"outlinewidth\":0,\"ticks\":\"\"}}],\"contour\":[{\"type\":\"contour\",\"colorbar\":{\"outlinewidth\":0,\"ticks\":\"\"},\"colorscale\":[[0.0,\"#0d0887\"],[0.1111111111111111,\"#46039f\"],[0.2222222222222222,\"#7201a8\"],[0.3333333333333333,\"#9c179e\"],[0.4444444444444444,\"#bd3786\"],[0.5555555555555556,\"#d8576b\"],[0.6666666666666666,\"#ed7953\"],[0.7777777777777778,\"#fb9f3a\"],[0.8888888888888888,\"#fdca26\"],[1.0,\"#f0f921\"]]}],\"surface\":[{\"type\":\"surface\",\"colorbar\":{\"outlinewidth\":0,\"ticks\":\"\"},\"colorscale\":[[0.0,\"#0d0887\"],[0.1111111111111111,\"#46039f\"],[0.2222222222222222,\"#7201a8\"],[0.3333333333333333,\"#9c179e\"],[0.4444444444444444,\"#bd3786\"],[0.5555555555555556,\"#d8576b\"],[0.6666666666666666,\"#ed7953\"],[0.7777777777777778,\"#fb9f3a\"],[0.8888888888888888,\"#fdca26\"],[1.0,\"#f0f921\"]]}],\"mesh3d\":[{\"type\":\"mesh3d\",\"colorbar\":{\"outlinewidth\":0,\"ticks\":\"\"}}],\"scatter\":[{\"fillpattern\":{\"fillmode\":\"overlay\",\"size\":10,\"solidity\":0.2},\"type\":\"scatter\"}],\"parcoords\":[{\"type\":\"parcoords\",\"line\":{\"colorbar\":{\"outlinewidth\":0,\"ticks\":\"\"}}}],\"scatterpolargl\":[{\"type\":\"scatterpolargl\",\"marker\":{\"colorbar\":{\"outlinewidth\":0,\"ticks\":\"\"}}}],\"bar\":[{\"error_x\":{\"color\":\"#2a3f5f\"},\"error_y\":{\"color\":\"#2a3f5f\"},\"marker\":{\"line\":{\"color\":\"#E5ECF6\",\"width\":0.5},\"pattern\":{\"fillmode\":\"overlay\",\"size\":10,\"solidity\":0.2}},\"type\":\"bar\"}],\"scattergeo\":[{\"type\":\"scattergeo\",\"marker\":{\"colorbar\":{\"outlinewidth\":0,\"ticks\":\"\"}}}],\"scatterpolar\":[{\"type\":\"scatterpolar\",\"marker\":{\"colorbar\":{\"outlinewidth\":0,\"ticks\":\"\"}}}],\"histogram\":[{\"marker\":{\"pattern\":{\"fillmode\":\"overlay\",\"size\":10,\"solidity\":0.2}},\"type\":\"histogram\"}],\"scattergl\":[{\"type\":\"scattergl\",\"marker\":{\"colorbar\":{\"outlinewidth\":0,\"ticks\":\"\"}}}],\"scatter3d\":[{\"type\":\"scatter3d\",\"line\":{\"colorbar\":{\"outlinewidth\":0,\"ticks\":\"\"}},\"marker\":{\"colorbar\":{\"outlinewidth\":0,\"ticks\":\"\"}}}],\"scattermapbox\":[{\"type\":\"scattermapbox\",\"marker\":{\"colorbar\":{\"outlinewidth\":0,\"ticks\":\"\"}}}],\"scatterternary\":[{\"type\":\"scatterternary\",\"marker\":{\"colorbar\":{\"outlinewidth\":0,\"ticks\":\"\"}}}],\"scattercarpet\":[{\"type\":\"scattercarpet\",\"marker\":{\"colorbar\":{\"outlinewidth\":0,\"ticks\":\"\"}}}],\"carpet\":[{\"aaxis\":{\"endlinecolor\":\"#2a3f5f\",\"gridcolor\":\"white\",\"linecolor\":\"white\",\"minorgridcolor\":\"white\",\"startlinecolor\":\"#2a3f5f\"},\"baxis\":{\"endlinecolor\":\"#2a3f5f\",\"gridcolor\":\"white\",\"linecolor\":\"white\",\"minorgridcolor\":\"white\",\"startlinecolor\":\"#2a3f5f\"},\"type\":\"carpet\"}],\"table\":[{\"cells\":{\"fill\":{\"color\":\"#EBF0F8\"},\"line\":{\"color\":\"white\"}},\"header\":{\"fill\":{\"color\":\"#C8D4E3\"},\"line\":{\"color\":\"white\"}},\"type\":\"table\"}],\"barpolar\":[{\"marker\":{\"line\":{\"color\":\"#E5ECF6\",\"width\":0.5},\"pattern\":{\"fillmode\":\"overlay\",\"size\":10,\"solidity\":0.2}},\"type\":\"barpolar\"}],\"pie\":[{\"automargin\":true,\"type\":\"pie\"}]},\"layout\":{\"autotypenumbers\":\"strict\",\"colorway\":[\"#636efa\",\"#EF553B\",\"#00cc96\",\"#ab63fa\",\"#FFA15A\",\"#19d3f3\",\"#FF6692\",\"#B6E880\",\"#FF97FF\",\"#FECB52\"],\"font\":{\"color\":\"#2a3f5f\"},\"hovermode\":\"closest\",\"hoverlabel\":{\"align\":\"left\"},\"paper_bgcolor\":\"white\",\"plot_bgcolor\":\"#E5ECF6\",\"polar\":{\"bgcolor\":\"#E5ECF6\",\"angularaxis\":{\"gridcolor\":\"white\",\"linecolor\":\"white\",\"ticks\":\"\"},\"radialaxis\":{\"gridcolor\":\"white\",\"linecolor\":\"white\",\"ticks\":\"\"}},\"ternary\":{\"bgcolor\":\"#E5ECF6\",\"aaxis\":{\"gridcolor\":\"white\",\"linecolor\":\"white\",\"ticks\":\"\"},\"baxis\":{\"gridcolor\":\"white\",\"linecolor\":\"white\",\"ticks\":\"\"},\"caxis\":{\"gridcolor\":\"white\",\"linecolor\":\"white\",\"ticks\":\"\"}},\"coloraxis\":{\"colorbar\":{\"outlinewidth\":0,\"ticks\":\"\"}},\"colorscale\":{\"sequential\":[[0.0,\"#0d0887\"],[0.1111111111111111,\"#46039f\"],[0.2222222222222222,\"#7201a8\"],[0.3333333333333333,\"#9c179e\"],[0.4444444444444444,\"#bd3786\"],[0.5555555555555556,\"#d8576b\"],[0.6666666666666666,\"#ed7953\"],[0.7777777777777778,\"#fb9f3a\"],[0.8888888888888888,\"#fdca26\"],[1.0,\"#f0f921\"]],\"sequentialminus\":[[0.0,\"#0d0887\"],[0.1111111111111111,\"#46039f\"],[0.2222222222222222,\"#7201a8\"],[0.3333333333333333,\"#9c179e\"],[0.4444444444444444,\"#bd3786\"],[0.5555555555555556,\"#d8576b\"],[0.6666666666666666,\"#ed7953\"],[0.7777777777777778,\"#fb9f3a\"],[0.8888888888888888,\"#fdca26\"],[1.0,\"#f0f921\"]],\"diverging\":[[0,\"#8e0152\"],[0.1,\"#c51b7d\"],[0.2,\"#de77ae\"],[0.3,\"#f1b6da\"],[0.4,\"#fde0ef\"],[0.5,\"#f7f7f7\"],[0.6,\"#e6f5d0\"],[0.7,\"#b8e186\"],[0.8,\"#7fbc41\"],[0.9,\"#4d9221\"],[1,\"#276419\"]]},\"xaxis\":{\"gridcolor\":\"white\",\"linecolor\":\"white\",\"ticks\":\"\",\"title\":{\"standoff\":15},\"zerolinecolor\":\"white\",\"automargin\":true,\"zerolinewidth\":2},\"yaxis\":{\"gridcolor\":\"white\",\"linecolor\":\"white\",\"ticks\":\"\",\"title\":{\"standoff\":15},\"zerolinecolor\":\"white\",\"automargin\":true,\"zerolinewidth\":2},\"scene\":{\"xaxis\":{\"backgroundcolor\":\"#E5ECF6\",\"gridcolor\":\"white\",\"linecolor\":\"white\",\"showbackground\":true,\"ticks\":\"\",\"zerolinecolor\":\"white\",\"gridwidth\":2},\"yaxis\":{\"backgroundcolor\":\"#E5ECF6\",\"gridcolor\":\"white\",\"linecolor\":\"white\",\"showbackground\":true,\"ticks\":\"\",\"zerolinecolor\":\"white\",\"gridwidth\":2},\"zaxis\":{\"backgroundcolor\":\"#E5ECF6\",\"gridcolor\":\"white\",\"linecolor\":\"white\",\"showbackground\":true,\"ticks\":\"\",\"zerolinecolor\":\"white\",\"gridwidth\":2}},\"shapedefaults\":{\"line\":{\"color\":\"#2a3f5f\"}},\"annotationdefaults\":{\"arrowcolor\":\"#2a3f5f\",\"arrowhead\":0,\"arrowwidth\":1},\"geo\":{\"bgcolor\":\"white\",\"landcolor\":\"#E5ECF6\",\"subunitcolor\":\"white\",\"showland\":true,\"showlakes\":true,\"lakecolor\":\"white\"},\"title\":{\"x\":0.05},\"mapbox\":{\"style\":\"light\"}}},\"title\":{\"text\":\"Various residual stream locations, projected onto the outputs of components in layer 0\"},\"shapes\":[{\"line\":{\"color\":\"grey\",\"dash\":\"dash\"},\"type\":\"line\",\"x0\":0.5,\"x1\":0.5,\"xref\":\"x\",\"y0\":0,\"y1\":1,\"yref\":\"y domain\"},{\"line\":{\"color\":\"grey\",\"dash\":\"dot\"},\"type\":\"line\",\"x0\":1.5,\"x1\":1.5,\"xref\":\"x\",\"y0\":0,\"y1\":1,\"yref\":\"y domain\"}],\"xaxis\":{\"title\":{\"text\":\"Residual Stream Location\"},\"tickmode\":\"array\",\"tickvals\":[0.0,0.5,1.0,1.5,2.0,2.5,3.0,3.5,4.0,4.5,5.0,5.5,6.0,6.5,7.0,7.5,8.0],\"ticktext\":[\"blocks.0.hook_resid_pre\",\"H0.X\",\"blocks.0.hook_resid_mid\",\"MLP0\",\"blocks.0.hook_resid_post\",\"H1.X\",\"blocks.1.hook_resid_mid\",\"MLP1\",\"blocks.1.hook_resid_post\",\"H2.X\",\"blocks.2.hook_resid_mid\",\"MLP2\",\"blocks.2.hook_resid_post\",\"H3.X\",\"blocks.3.hook_resid_mid\",\"MLP3\",\"blocks.3.hook_resid_post\"]},\"sliders\":[{\"active\":0,\"steps\":[{\"args\":[{\"visible\":[true,true,true,true,true,true,true,true,true,false,false,false,false,false,false,false,false,false,false,false,false,false,false,false,false,false,false,false,false,false,false,false,false,false,false,false]},{\"title\":\"Various residual stream locations, projected onto the outputs of components in layer 0\",\"shapes\":[{\"line\":{\"color\":\"grey\",\"dash\":\"dash\"},\"type\":\"line\",\"x0\":0.5,\"x1\":0.5,\"xref\":\"x\",\"y0\":0,\"y1\":1,\"yref\":\"y domain\"},{\"line\":{\"color\":\"grey\",\"dash\":\"dot\"},\"type\":\"line\",\"x0\":1.5,\"x1\":1.5,\"xref\":\"x\",\"y0\":0,\"y1\":1,\"yref\":\"y domain\"}]},{\"shapes\":[{\"line\":{\"color\":\"grey\",\"dash\":\"dash\"},\"type\":\"line\",\"x0\":0.5,\"x1\":0.5,\"xref\":\"x\",\"y0\":0,\"y1\":1,\"yref\":\"y domain\"},{\"line\":{\"color\":\"grey\",\"dash\":\"dot\"},\"type\":\"line\",\"x0\":1.5,\"x1\":1.5,\"xref\":\"x\",\"y0\":0,\"y1\":1,\"yref\":\"y domain\"}]}],\"label\":\"Layer 0\",\"method\":\"update\"},{\"args\":[{\"visible\":[false,false,false,false,false,false,false,false,false,true,true,true,true,true,true,true,true,true,false,false,false,false,false,false,false,false,false,false,false,false,false,false,false,false,false,false]},{\"title\":\"Various residual stream locations, projected onto the outputs of components in layer 1\",\"shapes\":[{\"line\":{\"color\":\"grey\",\"dash\":\"dash\"},\"type\":\"line\",\"x0\":2.5,\"x1\":2.5,\"xref\":\"x\",\"y0\":0,\"y1\":1,\"yref\":\"y domain\"},{\"line\":{\"color\":\"grey\",\"dash\":\"dot\"},\"type\":\"line\",\"x0\":3.5,\"x1\":3.5,\"xref\":\"x\",\"y0\":0,\"y1\":1,\"yref\":\"y domain\"}]},{\"shapes\":[{\"line\":{\"color\":\"grey\",\"dash\":\"dash\"},\"type\":\"line\",\"x0\":2.5,\"x1\":2.5,\"xref\":\"x\",\"y0\":0,\"y1\":1,\"yref\":\"y domain\"},{\"line\":{\"color\":\"grey\",\"dash\":\"dot\"},\"type\":\"line\",\"x0\":3.5,\"x1\":3.5,\"xref\":\"x\",\"y0\":0,\"y1\":1,\"yref\":\"y domain\"}]}],\"label\":\"Layer 1\",\"method\":\"update\"},{\"args\":[{\"visible\":[false,false,false,false,false,false,false,false,false,false,false,false,false,false,false,false,false,false,true,true,true,true,true,true,true,true,true,false,false,false,false,false,false,false,false,false]},{\"title\":\"Various residual stream locations, projected onto the outputs of components in layer 2\",\"shapes\":[{\"line\":{\"color\":\"grey\",\"dash\":\"dash\"},\"type\":\"line\",\"x0\":4.5,\"x1\":4.5,\"xref\":\"x\",\"y0\":0,\"y1\":1,\"yref\":\"y domain\"},{\"line\":{\"color\":\"grey\",\"dash\":\"dot\"},\"type\":\"line\",\"x0\":5.5,\"x1\":5.5,\"xref\":\"x\",\"y0\":0,\"y1\":1,\"yref\":\"y domain\"}]},{\"shapes\":[{\"line\":{\"color\":\"grey\",\"dash\":\"dash\"},\"type\":\"line\",\"x0\":4.5,\"x1\":4.5,\"xref\":\"x\",\"y0\":0,\"y1\":1,\"yref\":\"y domain\"},{\"line\":{\"color\":\"grey\",\"dash\":\"dot\"},\"type\":\"line\",\"x0\":5.5,\"x1\":5.5,\"xref\":\"x\",\"y0\":0,\"y1\":1,\"yref\":\"y domain\"}]}],\"label\":\"Layer 2\",\"method\":\"update\"},{\"args\":[{\"visible\":[false,false,false,false,false,false,false,false,false,false,false,false,false,false,false,false,false,false,false,false,false,false,false,false,false,false,false,true,true,true,true,true,true,true,true,true]},{\"title\":\"Various residual stream locations, projected onto the outputs of components in layer 3\",\"shapes\":[{\"line\":{\"color\":\"grey\",\"dash\":\"dash\"},\"type\":\"line\",\"x0\":6.5,\"x1\":6.5,\"xref\":\"x\",\"y0\":0,\"y1\":1,\"yref\":\"y domain\"},{\"line\":{\"color\":\"grey\",\"dash\":\"dot\"},\"type\":\"line\",\"x0\":7.5,\"x1\":7.5,\"xref\":\"x\",\"y0\":0,\"y1\":1,\"yref\":\"y domain\"}]},{\"shapes\":[{\"line\":{\"color\":\"grey\",\"dash\":\"dash\"},\"type\":\"line\",\"x0\":6.5,\"x1\":6.5,\"xref\":\"x\",\"y0\":0,\"y1\":1,\"yref\":\"y domain\"},{\"line\":{\"color\":\"grey\",\"dash\":\"dot\"},\"type\":\"line\",\"x0\":7.5,\"x1\":7.5,\"xref\":\"x\",\"y0\":0,\"y1\":1,\"yref\":\"y domain\"}]}],\"label\":\"Layer 3\",\"method\":\"update\"}],\"pad\":{\"t\":120}}],\"yaxis\":{\"title\":{\"text\":\"Reinforcement Ratio\"}},\"height\":600},                        {\"responsive\": true}                    ).then(function(){\n",
       "                            \n",
       "var gd = document.getElementById('95bcaa75-3444-424b-bb0e-e1e85580d27a');\n",
       "var x = new MutationObserver(function (mutations, observer) {{\n",
       "        var display = window.getComputedStyle(gd).display;\n",
       "        if (!display || display === 'none') {{\n",
       "            console.log([gd, 'removed!']);\n",
       "            Plotly.purge(gd);\n",
       "            observer.disconnect();\n",
       "        }}\n",
       "}});\n",
       "\n",
       "// Listen for the removal of the full notebook cells\n",
       "var notebookContainer = gd.closest('#notebook-container');\n",
       "if (notebookContainer) {{\n",
       "    x.observe(notebookContainer, {childList: true});\n",
       "}}\n",
       "\n",
       "// Listen for the clearing of the current output cell\n",
       "var outputEl = gd.closest('.output');\n",
       "if (outputEl) {{\n",
       "    x.observe(outputEl, {childList: true});\n",
       "}}\n",
       "\n",
       "                        })                };                });            </script>        </div>"
      ]
     },
     "metadata": {},
     "output_type": "display_data"
    }
   ],
   "source": [
    "main_fig.show()"
   ]
  },
  {
   "cell_type": "code",
   "execution_count": 14,
   "metadata": {},
   "outputs": [],
   "source": [
    "# Projection heads in layer 2 onto H0.2\n",
    "layer2_heads = cache[\"blocks.2.attn.hook_result\"]\n",
    "layer2_heads = einops.rearrange(\n",
    "    layer2_heads, \"batch pos head d_model -> head batch pos d_model\"\n",
    ")\n",
    "\n",
    "H0_2 = cache[\"blocks.0.attn.hook_result\"][:, :, 2, :]\n",
    "\n",
    "rrs_layer2_heads_onto_H0_2 = reinforcement_ratio(layer2_heads, H0_2)"
   ]
  },
  {
   "cell_type": "code",
   "execution_count": 15,
   "metadata": {},
   "outputs": [],
   "source": [
    "df2 = ntensor_to_long(\n",
    "    rrs_layer2_heads_onto_H0_2,\n",
    "    value_name=\"reinforcement_ratio\",\n",
    "    dim_names=[\"L2_head\", \"batch\", \"pos\"],\n",
    ")"
   ]
  },
  {
   "cell_type": "code",
   "execution_count": 16,
   "metadata": {},
   "outputs": [
    {
     "data": {
      "text/plain": [
       "<Axes: xlabel='L2_head', ylabel='reinforcement_ratio'>"
      ]
     },
     "execution_count": 16,
     "metadata": {},
     "output_type": "execute_result"
    },
    {
     "data": {
      "image/png": "[encoded data removed]",
      "text/plain": [
       "<Figure size 640x480 with 1 Axes>"
      ]
     },
     "metadata": {},
     "output_type": "display_data"
    }
   ],
   "source": [
    "sns.boxplot(\n",
    "    data=df2,\n",
    "    x=\"L2_head\",\n",
    "    y=\"reinforcement_ratio\",\n",
    ")"
   ]
  },
  {
   "cell_type": "markdown",
   "metadata": {},
   "source": [
    "### Projecting Attn Heads in Layer 2 onto H0.2"
   ]
  },
  {
   "cell_type": "code",
   "execution_count": 17,
   "metadata": {},
   "outputs": [
    {
     "data": {
      "text/plain": [
       "<Axes: xlabel='L2_head', ylabel='reinforcement_ratio'>"
      ]
     },
     "execution_count": 17,
     "metadata": {},
     "output_type": "execute_result"
    },
    {
     "data": {
      "image/png": "[encoded data removed]",
      "text/plain": [
       "<Figure size 640x480 with 1 Axes>"
      ]
     },
     "metadata": {},
     "output_type": "display_data"
    }
   ],
   "source": [
    "sns.barplot(\n",
    "    data=df2.groupby(\"L2_head\").mean().reset_index(),\n",
    "    x=\"L2_head\",\n",
    "    y=\"reinforcement_ratio\",\n",
    ")"
   ]
  },
  {
   "cell_type": "code",
   "execution_count": 18,
   "metadata": {},
   "outputs": [
    {
     "data": {
      "text/html": [
       "<div>\n",
       "<style scoped>\n",
       "    .dataframe tbody tr th:only-of-type {\n",
       "        vertical-align: middle;\n",
       "    }\n",
       "\n",
       "    .dataframe tbody tr th {\n",
       "        vertical-align: top;\n",
       "    }\n",
       "\n",
       "    .dataframe thead th {\n",
       "        text-align: right;\n",
       "    }\n",
       "</style>\n",
       "<table border=\"1\" class=\"dataframe\">\n",
       "  <thead>\n",
       "    <tr style=\"text-align: right;\">\n",
       "      <th></th>\n",
       "      <th>reinforcement_ratio</th>\n",
       "    </tr>\n",
       "    <tr>\n",
       "      <th>L2_head</th>\n",
       "      <th></th>\n",
       "    </tr>\n",
       "  </thead>\n",
       "  <tbody>\n",
       "    <tr>\n",
       "      <th>0</th>\n",
       "      <td>-0.006382</td>\n",
       "    </tr>\n",
       "    <tr>\n",
       "      <th>1</th>\n",
       "      <td>-0.009472</td>\n",
       "    </tr>\n",
       "    <tr>\n",
       "      <th>2</th>\n",
       "      <td>-0.150954</td>\n",
       "    </tr>\n",
       "    <tr>\n",
       "      <th>3</th>\n",
       "      <td>-0.047534</td>\n",
       "    </tr>\n",
       "    <tr>\n",
       "      <th>4</th>\n",
       "      <td>-0.124790</td>\n",
       "    </tr>\n",
       "    <tr>\n",
       "      <th>5</th>\n",
       "      <td>-0.271807</td>\n",
       "    </tr>\n",
       "    <tr>\n",
       "      <th>6</th>\n",
       "      <td>-0.185894</td>\n",
       "    </tr>\n",
       "    <tr>\n",
       "      <th>7</th>\n",
       "      <td>-0.148035</td>\n",
       "    </tr>\n",
       "  </tbody>\n",
       "</table>\n",
       "</div>"
      ],
      "text/plain": [
       "         reinforcement_ratio\n",
       "L2_head                     \n",
       "0                  -0.006382\n",
       "1                  -0.009472\n",
       "2                  -0.150954\n",
       "3                  -0.047534\n",
       "4                  -0.124790\n",
       "5                  -0.271807\n",
       "6                  -0.185894\n",
       "7                  -0.148035"
      ]
     },
     "execution_count": 18,
     "metadata": {},
     "output_type": "execute_result"
    }
   ],
   "source": [
    "df2.groupby(\"L2_head\")[[\"reinforcement_ratio\"]].mean()"
   ]
  },
  {
   "cell_type": "code",
   "execution_count": 19,
   "metadata": {},
   "outputs": [
    {
     "data": {
      "text/plain": [
       "reinforcement_ratio   -0.944866\n",
       "dtype: float32"
      ]
     },
     "execution_count": 19,
     "metadata": {},
     "output_type": "execute_result"
    }
   ],
   "source": [
    "df2.groupby(\"L2_head\")[[\"reinforcement_ratio\"]].mean().sum()"
   ]
  },
  {
   "cell_type": "code",
   "execution_count": 20,
   "metadata": {},
   "outputs": [
    {
     "data": {
      "text/plain": [
       "torch.Size([8, 8, 30, 1024])"
      ]
     },
     "execution_count": 20,
     "metadata": {},
     "output_type": "execute_result"
    }
   ],
   "source": [
    "L2_cos_sims = cos_sim_cartesian(layer2_heads, layer2_heads)\n",
    "L2_cos_sims.shape"
   ]
  },
  {
   "cell_type": "code",
   "execution_count": 21,
   "metadata": {},
   "outputs": [],
   "source": [
    "cos_sim_matrix = einops.reduce(L2_cos_sims, \"h1 h2 batch pos -> h1 h2\", \"mean\")\n",
    "cos_sim_matrix.fill_diagonal_(torch.tensor(0));"
   ]
  },
  {
   "cell_type": "markdown",
   "metadata": {},
   "source": [
    "### Pairwise Cos Sims of Attn Heads in Layer 2"
   ]
  },
  {
   "cell_type": "code",
   "execution_count": 22,
   "metadata": {},
   "outputs": [
    {
     "data": {
      "application/vnd.plotly.v1+json": {
       "config": {
        "plotlyServerURL": "https://plot.ly"
       },
       "data": [
        {
         "coloraxis": "coloraxis",
         "hovertemplate": "x: %{x}<br>y: %{y}<br>color: %{z}<extra></extra>",
         "name": "0",
         "type": "heatmap",
         "xaxis": "x",
         "yaxis": "y",
         "z": [
          [
           0,
           0.0998908057808876,
           0.006737165153026581,
           0.09696466475725174,
           0.005041171796619892,
           -0.0425456278026104,
           0.18765081465244293,
           0.025455214083194733
          ],
          [
           0.0998908057808876,
           0,
           -0.05844970420002937,
           -0.04660747945308685,
           -0.1042240560054779,
           -0.10845918953418732,
           -0.09668698161840439,
           -0.046836066991090775
          ],
          [
           0.006737165153026581,
           -0.05844970420002937,
           0,
           0.03910043090581894,
           0.05652515962719917,
           0.11859308928251266,
           0.1473807692527771,
           0.05916273221373558
          ],
          [
           0.09696466475725174,
           -0.04660747945308685,
           0.03910043090581894,
           0,
           0.07468011230230331,
           0.0845055803656578,
           0.12073709070682526,
           0.09679368138313293
          ],
          [
           0.005041171796619892,
           -0.1042240560054779,
           0.05652516707777977,
           0.07468011230230331,
           0,
           0.15937450528144836,
           0.10324726998806,
           0.08790585398674011
          ],
          [
           -0.0425456278026104,
           -0.10845918953418732,
           0.11859308928251266,
           0.0845055803656578,
           0.15937450528144836,
           0,
           0.13795171678066254,
           0.17314985394477844
          ],
          [
           0.18765081465244293,
           -0.09668698161840439,
           0.1473807692527771,
           0.12073709070682526,
           0.10324726998806,
           0.13795171678066254,
           0,
           0.10042980313301086
          ],
          [
           0.025455214083194733,
           -0.046836066991090775,
           0.05916273221373558,
           0.09679366648197174,
           0.08790585398674011,
           0.17314985394477844,
           0.10042980313301086,
           0
          ]
         ]
        }
       ],
       "layout": {
        "coloraxis": {
         "cmax": 0.18765081465244293,
         "cmin": -0.18765081465244293,
         "colorscale": [
          [
           0,
           "rgb(103,0,31)"
          ],
          [
           0.1,
           "rgb(178,24,43)"
          ],
          [
           0.2,
           "rgb(214,96,77)"
          ],
          [
           0.3,
           "rgb(244,165,130)"
          ],
          [
           0.4,
           "rgb(253,219,199)"
          ],
          [
           0.5,
           "rgb(247,247,247)"
          ],
          [
           0.6,
           "rgb(209,229,240)"
          ],
          [
           0.7,
           "rgb(146,197,222)"
          ],
          [
           0.8,
           "rgb(67,147,195)"
          ],
          [
           0.9,
           "rgb(33,102,172)"
          ],
          [
           1,
           "rgb(5,48,97)"
          ]
         ]
        },
        "template": {
         "data": {
          "bar": [
           {
            "error_x": {
             "color": "#2a3f5f"
            },
            "error_y": {
             "color": "#2a3f5f"
            },
            "marker": {
             "line": {
              "color": "#E5ECF6",
              "width": 0.5
             },
             "pattern": {
              "fillmode": "overlay",
              "size": 10,
              "solidity": 0.2
             }
            },
            "type": "bar"
           }
          ],
          "barpolar": [
           {
            "marker": {
             "line": {
              "color": "#E5ECF6",
              "width": 0.5
             },
             "pattern": {
              "fillmode": "overlay",
              "size": 10,
              "solidity": 0.2
             }
            },
            "type": "barpolar"
           }
          ],
          "carpet": [
           {
            "aaxis": {
             "endlinecolor": "#2a3f5f",
             "gridcolor": "white",
             "linecolor": "white",
             "minorgridcolor": "white",
             "startlinecolor": "#2a3f5f"
            },
            "baxis": {
             "endlinecolor": "#2a3f5f",
             "gridcolor": "white",
             "linecolor": "white",
             "minorgridcolor": "white",
             "startlinecolor": "#2a3f5f"
            },
            "type": "carpet"
           }
          ],
          "choropleth": [
           {
            "colorbar": {
             "outlinewidth": 0,
             "ticks": ""
            },
            "type": "choropleth"
           }
          ],
          "contour": [
           {
            "colorbar": {
             "outlinewidth": 0,
             "ticks": ""
            },
            "colorscale": [
             [
              0,
              "#0d0887"
             ],
             [
              0.1111111111111111,
              "#46039f"
             ],
             [
              0.2222222222222222,
              "#7201a8"
             ],
             [
              0.3333333333333333,
              "#9c179e"
             ],
             [
              0.4444444444444444,
              "#bd3786"
             ],
             [
              0.5555555555555556,
              "#d8576b"
             ],
             [
              0.6666666666666666,
              "#ed7953"
             ],
             [
              0.7777777777777778,
              "#fb9f3a"
             ],
             [
              0.8888888888888888,
              "#fdca26"
             ],
             [
              1,
              "#f0f921"
             ]
            ],
            "type": "contour"
           }
          ],
          "contourcarpet": [
           {
            "colorbar": {
             "outlinewidth": 0,
             "ticks": ""
            },
            "type": "contourcarpet"
           }
          ],
          "heatmap": [
           {
            "colorbar": {
             "outlinewidth": 0,
             "ticks": ""
            },
            "colorscale": [
             [
              0,
              "#0d0887"
             ],
             [
              0.1111111111111111,
              "#46039f"
             ],
             [
              0.2222222222222222,
              "#7201a8"
             ],
             [
              0.3333333333333333,
              "#9c179e"
             ],
             [
              0.4444444444444444,
              "#bd3786"
             ],
             [
              0.5555555555555556,
              "#d8576b"
             ],
             [
              0.6666666666666666,
              "#ed7953"
             ],
             [
              0.7777777777777778,
              "#fb9f3a"
             ],
             [
              0.8888888888888888,
              "#fdca26"
             ],
             [
              1,
              "#f0f921"
             ]
            ],
            "type": "heatmap"
           }
          ],
          "heatmapgl": [
           {
            "colorbar": {
             "outlinewidth": 0,
             "ticks": ""
            },
            "colorscale": [
             [
              0,
              "#0d0887"
             ],
             [
              0.1111111111111111,
              "#46039f"
             ],
             [
              0.2222222222222222,
              "#7201a8"
             ],
             [
              0.3333333333333333,
              "#9c179e"
             ],
             [
              0.4444444444444444,
              "#bd3786"
             ],
             [
              0.5555555555555556,
              "#d8576b"
             ],
             [
              0.6666666666666666,
              "#ed7953"
             ],
             [
              0.7777777777777778,
              "#fb9f3a"
             ],
             [
              0.8888888888888888,
              "#fdca26"
             ],
             [
              1,
              "#f0f921"
             ]
            ],
            "type": "heatmapgl"
           }
          ],
          "histogram": [
           {
            "marker": {
             "pattern": {
              "fillmode": "overlay",
              "size": 10,
              "solidity": 0.2
             }
            },
            "type": "histogram"
           }
          ],
          "histogram2d": [
           {
            "colorbar": {
             "outlinewidth": 0,
             "ticks": ""
            },
            "colorscale": [
             [
              0,
              "#0d0887"
             ],
             [
              0.1111111111111111,
              "#46039f"
             ],
             [
              0.2222222222222222,
              "#7201a8"
             ],
             [
              0.3333333333333333,
              "#9c179e"
             ],
             [
              0.4444444444444444,
              "#bd3786"
             ],
             [
              0.5555555555555556,
              "#d8576b"
             ],
             [
              0.6666666666666666,
              "#ed7953"
             ],
             [
              0.7777777777777778,
              "#fb9f3a"
             ],
             [
              0.8888888888888888,
              "#fdca26"
             ],
             [
              1,
              "#f0f921"
             ]
            ],
            "type": "histogram2d"
           }
          ],
          "histogram2dcontour": [
           {
            "colorbar": {
             "outlinewidth": 0,
             "ticks": ""
            },
            "colorscale": [
             [
              0,
              "#0d0887"
             ],
             [
              0.1111111111111111,
              "#46039f"
             ],
             [
              0.2222222222222222,
              "#7201a8"
             ],
             [
              0.3333333333333333,
              "#9c179e"
             ],
             [
              0.4444444444444444,
              "#bd3786"
             ],
             [
              0.5555555555555556,
              "#d8576b"
             ],
             [
              0.6666666666666666,
              "#ed7953"
             ],
             [
              0.7777777777777778,
              "#fb9f3a"
             ],
             [
              0.8888888888888888,
              "#fdca26"
             ],
             [
              1,
              "#f0f921"
             ]
            ],
            "type": "histogram2dcontour"
           }
          ],
          "mesh3d": [
           {
            "colorbar": {
             "outlinewidth": 0,
             "ticks": ""
            },
            "type": "mesh3d"
           }
          ],
          "parcoords": [
           {
            "line": {
             "colorbar": {
              "outlinewidth": 0,
              "ticks": ""
             }
            },
            "type": "parcoords"
           }
          ],
          "pie": [
           {
            "automargin": true,
            "type": "pie"
           }
          ],
          "scatter": [
           {
            "fillpattern": {
             "fillmode": "overlay",
             "size": 10,
             "solidity": 0.2
            },
            "type": "scatter"
           }
          ],
          "scatter3d": [
           {
            "line": {
             "colorbar": {
              "outlinewidth": 0,
              "ticks": ""
             }
            },
            "marker": {
             "colorbar": {
              "outlinewidth": 0,
              "ticks": ""
             }
            },
            "type": "scatter3d"
           }
          ],
          "scattercarpet": [
           {
            "marker": {
             "colorbar": {
              "outlinewidth": 0,
              "ticks": ""
             }
            },
            "type": "scattercarpet"
           }
          ],
          "scattergeo": [
           {
            "marker": {
             "colorbar": {
              "outlinewidth": 0,
              "ticks": ""
             }
            },
            "type": "scattergeo"
           }
          ],
          "scattergl": [
           {
            "marker": {
             "colorbar": {
              "outlinewidth": 0,
              "ticks": ""
             }
            },
            "type": "scattergl"
           }
          ],
          "scattermapbox": [
           {
            "marker": {
             "colorbar": {
              "outlinewidth": 0,
              "ticks": ""
             }
            },
            "type": "scattermapbox"
           }
          ],
          "scatterpolar": [
           {
            "marker": {
             "colorbar": {
              "outlinewidth": 0,
              "ticks": ""
             }
            },
            "type": "scatterpolar"
           }
          ],
          "scatterpolargl": [
           {
            "marker": {
             "colorbar": {
              "outlinewidth": 0,
              "ticks": ""
             }
            },
            "type": "scatterpolargl"
           }
          ],
          "scatterternary": [
           {
            "marker": {
             "colorbar": {
              "outlinewidth": 0,
              "ticks": ""
             }
            },
            "type": "scatterternary"
           }
          ],
          "surface": [
           {
            "colorbar": {
             "outlinewidth": 0,
             "ticks": ""
            },
            "colorscale": [
             [
              0,
              "#0d0887"
             ],
             [
              0.1111111111111111,
              "#46039f"
             ],
             [
              0.2222222222222222,
              "#7201a8"
             ],
             [
              0.3333333333333333,
              "#9c179e"
             ],
             [
              0.4444444444444444,
              "#bd3786"
             ],
             [
              0.5555555555555556,
              "#d8576b"
             ],
             [
              0.6666666666666666,
              "#ed7953"
             ],
             [
              0.7777777777777778,
              "#fb9f3a"
             ],
             [
              0.8888888888888888,
              "#fdca26"
             ],
             [
              1,
              "#f0f921"
             ]
            ],
            "type": "surface"
           }
          ],
          "table": [
           {
            "cells": {
             "fill": {
              "color": "#EBF0F8"
             },
             "line": {
              "color": "white"
             }
            },
            "header": {
             "fill": {
              "color": "#C8D4E3"
             },
             "line": {
              "color": "white"
             }
            },
            "type": "table"
           }
          ]
         },
         "layout": {
          "annotationdefaults": {
           "arrowcolor": "#2a3f5f",
           "arrowhead": 0,
           "arrowwidth": 1
          },
          "autotypenumbers": "strict",
          "coloraxis": {
           "colorbar": {
            "outlinewidth": 0,
            "ticks": ""
           }
          },
          "colorscale": {
           "diverging": [
            [
             0,
             "#8e0152"
            ],
            [
             0.1,
             "#c51b7d"
            ],
            [
             0.2,
             "#de77ae"
            ],
            [
             0.3,
             "#f1b6da"
            ],
            [
             0.4,
             "#fde0ef"
            ],
            [
             0.5,
             "#f7f7f7"
            ],
            [
             0.6,
             "#e6f5d0"
            ],
            [
             0.7,
             "#b8e186"
            ],
            [
             0.8,
             "#7fbc41"
            ],
            [
             0.9,
             "#4d9221"
            ],
            [
             1,
             "#276419"
            ]
           ],
           "sequential": [
            [
             0,
             "#0d0887"
            ],
            [
             0.1111111111111111,
             "#46039f"
            ],
            [
             0.2222222222222222,
             "#7201a8"
            ],
            [
             0.3333333333333333,
             "#9c179e"
            ],
            [
             0.4444444444444444,
             "#bd3786"
            ],
            [
             0.5555555555555556,
             "#d8576b"
            ],
            [
             0.6666666666666666,
             "#ed7953"
            ],
            [
             0.7777777777777778,
             "#fb9f3a"
            ],
            [
             0.8888888888888888,
             "#fdca26"
            ],
            [
             1,
             "#f0f921"
            ]
           ],
           "sequentialminus": [
            [
             0,
             "#0d0887"
            ],
            [
             0.1111111111111111,
             "#46039f"
            ],
            [
             0.2222222222222222,
             "#7201a8"
            ],
            [
             0.3333333333333333,
             "#9c179e"
            ],
            [
             0.4444444444444444,
             "#bd3786"
            ],
            [
             0.5555555555555556,
             "#d8576b"
            ],
            [
             0.6666666666666666,
             "#ed7953"
            ],
            [
             0.7777777777777778,
             "#fb9f3a"
            ],
            [
             0.8888888888888888,
             "#fdca26"
            ],
            [
             1,
             "#f0f921"
            ]
           ]
          },
          "colorway": [
           "#636efa",
           "#EF553B",
           "#00cc96",
           "#ab63fa",
           "#FFA15A",
           "#19d3f3",
           "#FF6692",
           "#B6E880",
           "#FF97FF",
           "#FECB52"
          ],
          "font": {
           "color": "#2a3f5f"
          },
          "geo": {
           "bgcolor": "white",
           "lakecolor": "white",
           "landcolor": "#E5ECF6",
           "showlakes": true,
           "showland": true,
           "subunitcolor": "white"
          },
          "hoverlabel": {
           "align": "left"
          },
          "hovermode": "closest",
          "mapbox": {
           "style": "light"
          },
          "paper_bgcolor": "white",
          "plot_bgcolor": "#E5ECF6",
          "polar": {
           "angularaxis": {
            "gridcolor": "white",
            "linecolor": "white",
            "ticks": ""
           },
           "bgcolor": "#E5ECF6",
           "radialaxis": {
            "gridcolor": "white",
            "linecolor": "white",
            "ticks": ""
           }
          },
          "scene": {
           "xaxis": {
            "backgroundcolor": "#E5ECF6",
            "gridcolor": "white",
            "gridwidth": 2,
            "linecolor": "white",
            "showbackground": true,
            "ticks": "",
            "zerolinecolor": "white"
           },
           "yaxis": {
            "backgroundcolor": "#E5ECF6",
            "gridcolor": "white",
            "gridwidth": 2,
            "linecolor": "white",
            "showbackground": true,
            "ticks": "",
            "zerolinecolor": "white"
           },
           "zaxis": {
            "backgroundcolor": "#E5ECF6",
            "gridcolor": "white",
            "gridwidth": 2,
            "linecolor": "white",
            "showbackground": true,
            "ticks": "",
            "zerolinecolor": "white"
           }
          },
          "shapedefaults": {
           "line": {
            "color": "#2a3f5f"
           }
          },
          "ternary": {
           "aaxis": {
            "gridcolor": "white",
            "linecolor": "white",
            "ticks": ""
           },
           "baxis": {
            "gridcolor": "white",
            "linecolor": "white",
            "ticks": ""
           },
           "bgcolor": "#E5ECF6",
           "caxis": {
            "gridcolor": "white",
            "linecolor": "white",
            "ticks": ""
           }
          },
          "title": {
           "x": 0.05
          },
          "xaxis": {
           "automargin": true,
           "gridcolor": "white",
           "linecolor": "white",
           "ticks": "",
           "title": {
            "standoff": 15
           },
           "zerolinecolor": "white",
           "zerolinewidth": 2
          },
          "yaxis": {
           "automargin": true,
           "gridcolor": "white",
           "linecolor": "white",
           "ticks": "",
           "title": {
            "standoff": 15
           },
           "zerolinecolor": "white",
           "zerolinewidth": 2
          }
         }
        },
        "title": {
         "text": "Pairwise cosine similarity of layer 2 attention heads<br>Mean across batch (n=200) and position dimensions<br>(Diagonal elements are set to 0)"
        },
        "width": 600,
        "xaxis": {
         "anchor": "y",
         "constrain": "domain",
         "domain": [
          0,
          1
         ],
         "scaleanchor": "y"
        },
        "yaxis": {
         "anchor": "x",
         "autorange": "reversed",
         "constrain": "domain",
         "domain": [
          0,
          1
         ]
        }
       }
      },
      "text/html": [
       "<div>                            <div id=\"6b263610-cb0c-4427-9e7c-dfbe64c37be6\" class=\"plotly-graph-div\" style=\"height:525px; width:600px;\"></div>            <script type=\"text/javascript\">                require([\"plotly\"], function(Plotly) {                    window.PLOTLYENV=window.PLOTLYENV || {};                                    if (document.getElementById(\"6b263610-cb0c-4427-9e7c-dfbe64c37be6\")) {                    Plotly.newPlot(                        \"6b263610-cb0c-4427-9e7c-dfbe64c37be6\",                        [{\"coloraxis\":\"coloraxis\",\"name\":\"0\",\"z\":[[0.0,0.0998908057808876,0.006737165153026581,0.09696466475725174,0.005041171796619892,-0.0425456278026104,0.18765081465244293,0.025455214083194733],[0.0998908057808876,0.0,-0.05844970420002937,-0.04660747945308685,-0.1042240560054779,-0.10845918953418732,-0.09668698161840439,-0.046836066991090775],[0.006737165153026581,-0.05844970420002937,0.0,0.03910043090581894,0.05652515962719917,0.11859308928251266,0.1473807692527771,0.05916273221373558],[0.09696466475725174,-0.04660747945308685,0.03910043090581894,0.0,0.07468011230230331,0.0845055803656578,0.12073709070682526,0.09679368138313293],[0.005041171796619892,-0.1042240560054779,0.05652516707777977,0.07468011230230331,0.0,0.15937450528144836,0.10324726998806,0.08790585398674011],[-0.0425456278026104,-0.10845918953418732,0.11859308928251266,0.0845055803656578,0.15937450528144836,0.0,0.13795171678066254,0.17314985394477844],[0.18765081465244293,-0.09668698161840439,0.1473807692527771,0.12073709070682526,0.10324726998806,0.13795171678066254,0.0,0.10042980313301086],[0.025455214083194733,-0.046836066991090775,0.05916273221373558,0.09679366648197174,0.08790585398674011,0.17314985394477844,0.10042980313301086,0.0]],\"type\":\"heatmap\",\"xaxis\":\"x\",\"yaxis\":\"y\",\"hovertemplate\":\"x: %{x}\\u003cbr\\u003ey: %{y}\\u003cbr\\u003ecolor: %{z}\\u003cextra\\u003e\\u003c\\u002fextra\\u003e\"}],                        {\"template\":{\"data\":{\"histogram2dcontour\":[{\"type\":\"histogram2dcontour\",\"colorbar\":{\"outlinewidth\":0,\"ticks\":\"\"},\"colorscale\":[[0.0,\"#0d0887\"],[0.1111111111111111,\"#46039f\"],[0.2222222222222222,\"#7201a8\"],[0.3333333333333333,\"#9c179e\"],[0.4444444444444444,\"#bd3786\"],[0.5555555555555556,\"#d8576b\"],[0.6666666666666666,\"#ed7953\"],[0.7777777777777778,\"#fb9f3a\"],[0.8888888888888888,\"#fdca26\"],[1.0,\"#f0f921\"]]}],\"choropleth\":[{\"type\":\"choropleth\",\"colorbar\":{\"outlinewidth\":0,\"ticks\":\"\"}}],\"histogram2d\":[{\"type\":\"histogram2d\",\"colorbar\":{\"outlinewidth\":0,\"ticks\":\"\"},\"colorscale\":[[0.0,\"#0d0887\"],[0.1111111111111111,\"#46039f\"],[0.2222222222222222,\"#7201a8\"],[0.3333333333333333,\"#9c179e\"],[0.4444444444444444,\"#bd3786\"],[0.5555555555555556,\"#d8576b\"],[0.6666666666666666,\"#ed7953\"],[0.7777777777777778,\"#fb9f3a\"],[0.8888888888888888,\"#fdca26\"],[1.0,\"#f0f921\"]]}],\"heatmap\":[{\"type\":\"heatmap\",\"colorbar\":{\"outlinewidth\":0,\"ticks\":\"\"},\"colorscale\":[[0.0,\"#0d0887\"],[0.1111111111111111,\"#46039f\"],[0.2222222222222222,\"#7201a8\"],[0.3333333333333333,\"#9c179e\"],[0.4444444444444444,\"#bd3786\"],[0.5555555555555556,\"#d8576b\"],[0.6666666666666666,\"#ed7953\"],[0.7777777777777778,\"#fb9f3a\"],[0.8888888888888888,\"#fdca26\"],[1.0,\"#f0f921\"]]}],\"heatmapgl\":[{\"type\":\"heatmapgl\",\"colorbar\":{\"outlinewidth\":0,\"ticks\":\"\"},\"colorscale\":[[0.0,\"#0d0887\"],[0.1111111111111111,\"#46039f\"],[0.2222222222222222,\"#7201a8\"],[0.3333333333333333,\"#9c179e\"],[0.4444444444444444,\"#bd3786\"],[0.5555555555555556,\"#d8576b\"],[0.6666666666666666,\"#ed7953\"],[0.7777777777777778,\"#fb9f3a\"],[0.8888888888888888,\"#fdca26\"],[1.0,\"#f0f921\"]]}],\"contourcarpet\":[{\"type\":\"contourcarpet\",\"colorbar\":{\"outlinewidth\":0,\"ticks\":\"\"}}],\"contour\":[{\"type\":\"contour\",\"colorbar\":{\"outlinewidth\":0,\"ticks\":\"\"},\"colorscale\":[[0.0,\"#0d0887\"],[0.1111111111111111,\"#46039f\"],[0.2222222222222222,\"#7201a8\"],[0.3333333333333333,\"#9c179e\"],[0.4444444444444444,\"#bd3786\"],[0.5555555555555556,\"#d8576b\"],[0.6666666666666666,\"#ed7953\"],[0.7777777777777778,\"#fb9f3a\"],[0.8888888888888888,\"#fdca26\"],[1.0,\"#f0f921\"]]}],\"surface\":[{\"type\":\"surface\",\"colorbar\":{\"outlinewidth\":0,\"ticks\":\"\"},\"colorscale\":[[0.0,\"#0d0887\"],[0.1111111111111111,\"#46039f\"],[0.2222222222222222,\"#7201a8\"],[0.3333333333333333,\"#9c179e\"],[0.4444444444444444,\"#bd3786\"],[0.5555555555555556,\"#d8576b\"],[0.6666666666666666,\"#ed7953\"],[0.7777777777777778,\"#fb9f3a\"],[0.8888888888888888,\"#fdca26\"],[1.0,\"#f0f921\"]]}],\"mesh3d\":[{\"type\":\"mesh3d\",\"colorbar\":{\"outlinewidth\":0,\"ticks\":\"\"}}],\"scatter\":[{\"fillpattern\":{\"fillmode\":\"overlay\",\"size\":10,\"solidity\":0.2},\"type\":\"scatter\"}],\"parcoords\":[{\"type\":\"parcoords\",\"line\":{\"colorbar\":{\"outlinewidth\":0,\"ticks\":\"\"}}}],\"scatterpolargl\":[{\"type\":\"scatterpolargl\",\"marker\":{\"colorbar\":{\"outlinewidth\":0,\"ticks\":\"\"}}}],\"bar\":[{\"error_x\":{\"color\":\"#2a3f5f\"},\"error_y\":{\"color\":\"#2a3f5f\"},\"marker\":{\"line\":{\"color\":\"#E5ECF6\",\"width\":0.5},\"pattern\":{\"fillmode\":\"overlay\",\"size\":10,\"solidity\":0.2}},\"type\":\"bar\"}],\"scattergeo\":[{\"type\":\"scattergeo\",\"marker\":{\"colorbar\":{\"outlinewidth\":0,\"ticks\":\"\"}}}],\"scatterpolar\":[{\"type\":\"scatterpolar\",\"marker\":{\"colorbar\":{\"outlinewidth\":0,\"ticks\":\"\"}}}],\"histogram\":[{\"marker\":{\"pattern\":{\"fillmode\":\"overlay\",\"size\":10,\"solidity\":0.2}},\"type\":\"histogram\"}],\"scattergl\":[{\"type\":\"scattergl\",\"marker\":{\"colorbar\":{\"outlinewidth\":0,\"ticks\":\"\"}}}],\"scatter3d\":[{\"type\":\"scatter3d\",\"line\":{\"colorbar\":{\"outlinewidth\":0,\"ticks\":\"\"}},\"marker\":{\"colorbar\":{\"outlinewidth\":0,\"ticks\":\"\"}}}],\"scattermapbox\":[{\"type\":\"scattermapbox\",\"marker\":{\"colorbar\":{\"outlinewidth\":0,\"ticks\":\"\"}}}],\"scatterternary\":[{\"type\":\"scatterternary\",\"marker\":{\"colorbar\":{\"outlinewidth\":0,\"ticks\":\"\"}}}],\"scattercarpet\":[{\"type\":\"scattercarpet\",\"marker\":{\"colorbar\":{\"outlinewidth\":0,\"ticks\":\"\"}}}],\"carpet\":[{\"aaxis\":{\"endlinecolor\":\"#2a3f5f\",\"gridcolor\":\"white\",\"linecolor\":\"white\",\"minorgridcolor\":\"white\",\"startlinecolor\":\"#2a3f5f\"},\"baxis\":{\"endlinecolor\":\"#2a3f5f\",\"gridcolor\":\"white\",\"linecolor\":\"white\",\"minorgridcolor\":\"white\",\"startlinecolor\":\"#2a3f5f\"},\"type\":\"carpet\"}],\"table\":[{\"cells\":{\"fill\":{\"color\":\"#EBF0F8\"},\"line\":{\"color\":\"white\"}},\"header\":{\"fill\":{\"color\":\"#C8D4E3\"},\"line\":{\"color\":\"white\"}},\"type\":\"table\"}],\"barpolar\":[{\"marker\":{\"line\":{\"color\":\"#E5ECF6\",\"width\":0.5},\"pattern\":{\"fillmode\":\"overlay\",\"size\":10,\"solidity\":0.2}},\"type\":\"barpolar\"}],\"pie\":[{\"automargin\":true,\"type\":\"pie\"}]},\"layout\":{\"autotypenumbers\":\"strict\",\"colorway\":[\"#636efa\",\"#EF553B\",\"#00cc96\",\"#ab63fa\",\"#FFA15A\",\"#19d3f3\",\"#FF6692\",\"#B6E880\",\"#FF97FF\",\"#FECB52\"],\"font\":{\"color\":\"#2a3f5f\"},\"hovermode\":\"closest\",\"hoverlabel\":{\"align\":\"left\"},\"paper_bgcolor\":\"white\",\"plot_bgcolor\":\"#E5ECF6\",\"polar\":{\"bgcolor\":\"#E5ECF6\",\"angularaxis\":{\"gridcolor\":\"white\",\"linecolor\":\"white\",\"ticks\":\"\"},\"radialaxis\":{\"gridcolor\":\"white\",\"linecolor\":\"white\",\"ticks\":\"\"}},\"ternary\":{\"bgcolor\":\"#E5ECF6\",\"aaxis\":{\"gridcolor\":\"white\",\"linecolor\":\"white\",\"ticks\":\"\"},\"baxis\":{\"gridcolor\":\"white\",\"linecolor\":\"white\",\"ticks\":\"\"},\"caxis\":{\"gridcolor\":\"white\",\"linecolor\":\"white\",\"ticks\":\"\"}},\"coloraxis\":{\"colorbar\":{\"outlinewidth\":0,\"ticks\":\"\"}},\"colorscale\":{\"sequential\":[[0.0,\"#0d0887\"],[0.1111111111111111,\"#46039f\"],[0.2222222222222222,\"#7201a8\"],[0.3333333333333333,\"#9c179e\"],[0.4444444444444444,\"#bd3786\"],[0.5555555555555556,\"#d8576b\"],[0.6666666666666666,\"#ed7953\"],[0.7777777777777778,\"#fb9f3a\"],[0.8888888888888888,\"#fdca26\"],[1.0,\"#f0f921\"]],\"sequentialminus\":[[0.0,\"#0d0887\"],[0.1111111111111111,\"#46039f\"],[0.2222222222222222,\"#7201a8\"],[0.3333333333333333,\"#9c179e\"],[0.4444444444444444,\"#bd3786\"],[0.5555555555555556,\"#d8576b\"],[0.6666666666666666,\"#ed7953\"],[0.7777777777777778,\"#fb9f3a\"],[0.8888888888888888,\"#fdca26\"],[1.0,\"#f0f921\"]],\"diverging\":[[0,\"#8e0152\"],[0.1,\"#c51b7d\"],[0.2,\"#de77ae\"],[0.3,\"#f1b6da\"],[0.4,\"#fde0ef\"],[0.5,\"#f7f7f7\"],[0.6,\"#e6f5d0\"],[0.7,\"#b8e186\"],[0.8,\"#7fbc41\"],[0.9,\"#4d9221\"],[1,\"#276419\"]]},\"xaxis\":{\"gridcolor\":\"white\",\"linecolor\":\"white\",\"ticks\":\"\",\"title\":{\"standoff\":15},\"zerolinecolor\":\"white\",\"automargin\":true,\"zerolinewidth\":2},\"yaxis\":{\"gridcolor\":\"white\",\"linecolor\":\"white\",\"ticks\":\"\",\"title\":{\"standoff\":15},\"zerolinecolor\":\"white\",\"automargin\":true,\"zerolinewidth\":2},\"scene\":{\"xaxis\":{\"backgroundcolor\":\"#E5ECF6\",\"gridcolor\":\"white\",\"linecolor\":\"white\",\"showbackground\":true,\"ticks\":\"\",\"zerolinecolor\":\"white\",\"gridwidth\":2},\"yaxis\":{\"backgroundcolor\":\"#E5ECF6\",\"gridcolor\":\"white\",\"linecolor\":\"white\",\"showbackground\":true,\"ticks\":\"\",\"zerolinecolor\":\"white\",\"gridwidth\":2},\"zaxis\":{\"backgroundcolor\":\"#E5ECF6\",\"gridcolor\":\"white\",\"linecolor\":\"white\",\"showbackground\":true,\"ticks\":\"\",\"zerolinecolor\":\"white\",\"gridwidth\":2}},\"shapedefaults\":{\"line\":{\"color\":\"#2a3f5f\"}},\"annotationdefaults\":{\"arrowcolor\":\"#2a3f5f\",\"arrowhead\":0,\"arrowwidth\":1},\"geo\":{\"bgcolor\":\"white\",\"landcolor\":\"#E5ECF6\",\"subunitcolor\":\"white\",\"showland\":true,\"showlakes\":true,\"lakecolor\":\"white\"},\"title\":{\"x\":0.05},\"mapbox\":{\"style\":\"light\"}}},\"xaxis\":{\"anchor\":\"y\",\"domain\":[0.0,1.0],\"scaleanchor\":\"y\",\"constrain\":\"domain\"},\"yaxis\":{\"anchor\":\"x\",\"domain\":[0.0,1.0],\"autorange\":\"reversed\",\"constrain\":\"domain\"},\"coloraxis\":{\"colorscale\":[[0.0,\"rgb(103,0,31)\"],[0.1,\"rgb(178,24,43)\"],[0.2,\"rgb(214,96,77)\"],[0.3,\"rgb(244,165,130)\"],[0.4,\"rgb(253,219,199)\"],[0.5,\"rgb(247,247,247)\"],[0.6,\"rgb(209,229,240)\"],[0.7,\"rgb(146,197,222)\"],[0.8,\"rgb(67,147,195)\"],[0.9,\"rgb(33,102,172)\"],[1.0,\"rgb(5,48,97)\"]],\"cmin\":-0.18765081465244293,\"cmax\":0.18765081465244293},\"title\":{\"text\":\"Pairwise cosine similarity of layer 2 attention heads\\u003cbr\\u003eMean across batch (n=200) and position dimensions\\u003cbr\\u003e(Diagonal elements are set to 0)\"},\"width\":600},                        {\"responsive\": true}                    ).then(function(){\n",
       "                            \n",
       "var gd = document.getElementById('6b263610-cb0c-4427-9e7c-dfbe64c37be6');\n",
       "var x = new MutationObserver(function (mutations, observer) {{\n",
       "        var display = window.getComputedStyle(gd).display;\n",
       "        if (!display || display === 'none') {{\n",
       "            console.log([gd, 'removed!']);\n",
       "            Plotly.purge(gd);\n",
       "            observer.disconnect();\n",
       "        }}\n",
       "}});\n",
       "\n",
       "// Listen for the removal of the full notebook cells\n",
       "var notebookContainer = gd.closest('#notebook-container');\n",
       "if (notebookContainer) {{\n",
       "    x.observe(notebookContainer, {childList: true});\n",
       "}}\n",
       "\n",
       "// Listen for the clearing of the current output cell\n",
       "var outputEl = gd.closest('.output');\n",
       "if (outputEl) {{\n",
       "    x.observe(outputEl, {childList: true});\n",
       "}}\n",
       "\n",
       "                        })                };                });            </script>        </div>"
      ]
     },
     "metadata": {},
     "output_type": "display_data"
    }
   ],
   "source": [
    "title = (\n",
    "    \"Pairwise cosine similarity of layer 2 attention heads<br>\"\n",
    "    \"Mean across batch (n=200) and position dimensions<br>\"\n",
    "    \"(Diagonal elements are set to 0)\"\n",
    ")\n",
    "\n",
    "absmax = cos_sim_matrix.abs().max().item()\n",
    "\n",
    "px.imshow(\n",
    "    cos_sim_matrix,\n",
    "    color_continuous_scale=\"RdBu\",\n",
    "    range_color=[-absmax, absmax],\n",
    "    title=title,\n",
    "    width=600,\n",
    ")"
   ]
  },
  {
   "cell_type": "code",
   "execution_count": null,
   "metadata": {},
   "outputs": [],
   "source": []
  },
  {
   "cell_type": "code",
   "execution_count": null,
   "metadata": {},
   "outputs": [],
   "source": []
  },
  {
   "cell_type": "code",
   "execution_count": null,
   "metadata": {},
   "outputs": [],
   "source": []
  },
  {
   "cell_type": "code",
   "execution_count": null,
   "metadata": {},
   "outputs": [],
   "source": []
  },
  {
   "cell_type": "code",
   "execution_count": null,
   "metadata": {},
   "outputs": [],
   "source": []
  },
  {
   "cell_type": "code",
   "execution_count": 23,
   "metadata": {},
   "outputs": [
    {
     "data": {
      "text/plain": [
       "svmem(total=211076595712, available=188559192064, percent=10.7, used=20795703296, free=187701760000, active=1403703296, inactive=20905820160, buffers=115204096, cached=2463928320, shared=16007168, slab=492720128)"
      ]
     },
     "execution_count": 23,
     "metadata": {},
     "output_type": "execute_result"
    }
   ],
   "source": [
    "import psutil\n",
    "psutil.virtual_memory()"
   ]
  },
  {
   "cell_type": "code",
   "execution_count": null,
   "metadata": {},
   "outputs": [],
   "source": []
  }
 ],
 "metadata": {
  "kernelspec": {
   "display_name": "Python 3",
   "language": "python",
   "name": "python3"
  },
  "language_info": {
   "codemirror_mode": {
    "name": "ipython",
    "version": 3
   },
   "file_extension": ".py",
   "mimetype": "text/x-python",
   "name": "python",
   "nbconvert_exporter": "python",
   "pygments_lexer": "ipython3",
   "version": "3.8.10"
  },
  "orig_nbformat": 4
 },
 "nbformat": 4,
 "nbformat_minor": 2
}
